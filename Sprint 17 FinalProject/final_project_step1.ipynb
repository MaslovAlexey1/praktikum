{
 "cells": [
  {
   "cell_type": "code",
   "execution_count": 4,
   "metadata": {},
   "outputs": [],
   "source": [
    "import pandas as pd \n",
    "from pathlib import Path\n",
    "path = Path.cwd()"
   ]
  },
  {
   "cell_type": "code",
   "execution_count": 7,
   "metadata": {},
   "outputs": [],
   "source": [
    "contract = pd.read_csv('{}/data/contract.csv'.format(path))\n",
    "internet = pd.read_csv('{}/data/internet.csv'.format(path))\n",
    "personal = pd.read_csv('{}/data/personal.csv'.format(path))\n",
    "phone = pd.read_csv('{}/data/phone.csv'.format(path))"
   ]
  },
  {
   "cell_type": "code",
   "execution_count": 6,
   "metadata": {},
   "outputs": [
    {
     "output_type": "execute_result",
     "data": {
      "text/plain": "      customerID   BeginDate              EndDate            Type  \\\n0     7590-VHVEG  2020-01-01                   No  Month-to-month   \n1     5575-GNVDE  2017-04-01                   No        One year   \n2     3668-QPYBK  2019-10-01  2019-12-01 00:00:00  Month-to-month   \n3     7795-CFOCW  2016-05-01                   No        One year   \n4     9237-HQITU  2019-09-01  2019-11-01 00:00:00  Month-to-month   \n...          ...         ...                  ...             ...   \n7038  6840-RESVB  2018-02-01                   No        One year   \n7039  2234-XADUH  2014-02-01                   No        One year   \n7040  4801-JZAZL  2019-03-01                   No  Month-to-month   \n7041  8361-LTMKD  2019-07-01  2019-11-01 00:00:00  Month-to-month   \n7042  3186-AJIEK  2014-08-01                   No        Two year   \n\n     PaperlessBilling              PaymentMethod  MonthlyCharges TotalCharges  \n0                 Yes           Electronic check           29.85        29.85  \n1                  No               Mailed check           56.95       1889.5  \n2                 Yes               Mailed check           53.85       108.15  \n3                  No  Bank transfer (automatic)           42.30      1840.75  \n4                 Yes           Electronic check           70.70       151.65  \n...               ...                        ...             ...          ...  \n7038              Yes               Mailed check           84.80       1990.5  \n7039              Yes    Credit card (automatic)          103.20       7362.9  \n7040              Yes           Electronic check           29.60       346.45  \n7041              Yes               Mailed check           74.40        306.6  \n7042              Yes  Bank transfer (automatic)          105.65       6844.5  \n\n[7043 rows x 8 columns]",
      "text/html": "<div>\n<style scoped>\n    .dataframe tbody tr th:only-of-type {\n        vertical-align: middle;\n    }\n\n    .dataframe tbody tr th {\n        vertical-align: top;\n    }\n\n    .dataframe thead th {\n        text-align: right;\n    }\n</style>\n<table border=\"1\" class=\"dataframe\">\n  <thead>\n    <tr style=\"text-align: right;\">\n      <th></th>\n      <th>customerID</th>\n      <th>BeginDate</th>\n      <th>EndDate</th>\n      <th>Type</th>\n      <th>PaperlessBilling</th>\n      <th>PaymentMethod</th>\n      <th>MonthlyCharges</th>\n      <th>TotalCharges</th>\n    </tr>\n  </thead>\n  <tbody>\n    <tr>\n      <th>0</th>\n      <td>7590-VHVEG</td>\n      <td>2020-01-01</td>\n      <td>No</td>\n      <td>Month-to-month</td>\n      <td>Yes</td>\n      <td>Electronic check</td>\n      <td>29.85</td>\n      <td>29.85</td>\n    </tr>\n    <tr>\n      <th>1</th>\n      <td>5575-GNVDE</td>\n      <td>2017-04-01</td>\n      <td>No</td>\n      <td>One year</td>\n      <td>No</td>\n      <td>Mailed check</td>\n      <td>56.95</td>\n      <td>1889.5</td>\n    </tr>\n    <tr>\n      <th>2</th>\n      <td>3668-QPYBK</td>\n      <td>2019-10-01</td>\n      <td>2019-12-01 00:00:00</td>\n      <td>Month-to-month</td>\n      <td>Yes</td>\n      <td>Mailed check</td>\n      <td>53.85</td>\n      <td>108.15</td>\n    </tr>\n    <tr>\n      <th>3</th>\n      <td>7795-CFOCW</td>\n      <td>2016-05-01</td>\n      <td>No</td>\n      <td>One year</td>\n      <td>No</td>\n      <td>Bank transfer (automatic)</td>\n      <td>42.30</td>\n      <td>1840.75</td>\n    </tr>\n    <tr>\n      <th>4</th>\n      <td>9237-HQITU</td>\n      <td>2019-09-01</td>\n      <td>2019-11-01 00:00:00</td>\n      <td>Month-to-month</td>\n      <td>Yes</td>\n      <td>Electronic check</td>\n      <td>70.70</td>\n      <td>151.65</td>\n    </tr>\n    <tr>\n      <th>...</th>\n      <td>...</td>\n      <td>...</td>\n      <td>...</td>\n      <td>...</td>\n      <td>...</td>\n      <td>...</td>\n      <td>...</td>\n      <td>...</td>\n    </tr>\n    <tr>\n      <th>7038</th>\n      <td>6840-RESVB</td>\n      <td>2018-02-01</td>\n      <td>No</td>\n      <td>One year</td>\n      <td>Yes</td>\n      <td>Mailed check</td>\n      <td>84.80</td>\n      <td>1990.5</td>\n    </tr>\n    <tr>\n      <th>7039</th>\n      <td>2234-XADUH</td>\n      <td>2014-02-01</td>\n      <td>No</td>\n      <td>One year</td>\n      <td>Yes</td>\n      <td>Credit card (automatic)</td>\n      <td>103.20</td>\n      <td>7362.9</td>\n    </tr>\n    <tr>\n      <th>7040</th>\n      <td>4801-JZAZL</td>\n      <td>2019-03-01</td>\n      <td>No</td>\n      <td>Month-to-month</td>\n      <td>Yes</td>\n      <td>Electronic check</td>\n      <td>29.60</td>\n      <td>346.45</td>\n    </tr>\n    <tr>\n      <th>7041</th>\n      <td>8361-LTMKD</td>\n      <td>2019-07-01</td>\n      <td>2019-11-01 00:00:00</td>\n      <td>Month-to-month</td>\n      <td>Yes</td>\n      <td>Mailed check</td>\n      <td>74.40</td>\n      <td>306.6</td>\n    </tr>\n    <tr>\n      <th>7042</th>\n      <td>3186-AJIEK</td>\n      <td>2014-08-01</td>\n      <td>No</td>\n      <td>Two year</td>\n      <td>Yes</td>\n      <td>Bank transfer (automatic)</td>\n      <td>105.65</td>\n      <td>6844.5</td>\n    </tr>\n  </tbody>\n</table>\n<p>7043 rows × 8 columns</p>\n</div>"
     },
     "metadata": {},
     "execution_count": 6
    }
   ],
   "source": [
    "contract"
   ]
  },
  {
   "cell_type": "code",
   "execution_count": 8,
   "metadata": {},
   "outputs": [
    {
     "output_type": "execute_result",
     "data": {
      "text/plain": "      customerID InternetService OnlineSecurity OnlineBackup DeviceProtection  \\\n0     7590-VHVEG             DSL             No          Yes               No   \n1     5575-GNVDE             DSL            Yes           No              Yes   \n2     3668-QPYBK             DSL            Yes          Yes               No   \n3     7795-CFOCW             DSL            Yes           No              Yes   \n4     9237-HQITU     Fiber optic             No           No               No   \n...          ...             ...            ...          ...              ...   \n5512  6840-RESVB             DSL            Yes           No              Yes   \n5513  2234-XADUH     Fiber optic             No          Yes              Yes   \n5514  4801-JZAZL             DSL            Yes           No               No   \n5515  8361-LTMKD     Fiber optic             No           No               No   \n5516  3186-AJIEK     Fiber optic            Yes           No              Yes   \n\n     TechSupport StreamingTV StreamingMovies  \n0             No          No              No  \n1             No          No              No  \n2             No          No              No  \n3            Yes          No              No  \n4             No          No              No  \n...          ...         ...             ...  \n5512         Yes         Yes             Yes  \n5513          No         Yes             Yes  \n5514          No          No              No  \n5515          No          No              No  \n5516         Yes         Yes             Yes  \n\n[5517 rows x 8 columns]",
      "text/html": "<div>\n<style scoped>\n    .dataframe tbody tr th:only-of-type {\n        vertical-align: middle;\n    }\n\n    .dataframe tbody tr th {\n        vertical-align: top;\n    }\n\n    .dataframe thead th {\n        text-align: right;\n    }\n</style>\n<table border=\"1\" class=\"dataframe\">\n  <thead>\n    <tr style=\"text-align: right;\">\n      <th></th>\n      <th>customerID</th>\n      <th>InternetService</th>\n      <th>OnlineSecurity</th>\n      <th>OnlineBackup</th>\n      <th>DeviceProtection</th>\n      <th>TechSupport</th>\n      <th>StreamingTV</th>\n      <th>StreamingMovies</th>\n    </tr>\n  </thead>\n  <tbody>\n    <tr>\n      <th>0</th>\n      <td>7590-VHVEG</td>\n      <td>DSL</td>\n      <td>No</td>\n      <td>Yes</td>\n      <td>No</td>\n      <td>No</td>\n      <td>No</td>\n      <td>No</td>\n    </tr>\n    <tr>\n      <th>1</th>\n      <td>5575-GNVDE</td>\n      <td>DSL</td>\n      <td>Yes</td>\n      <td>No</td>\n      <td>Yes</td>\n      <td>No</td>\n      <td>No</td>\n      <td>No</td>\n    </tr>\n    <tr>\n      <th>2</th>\n      <td>3668-QPYBK</td>\n      <td>DSL</td>\n      <td>Yes</td>\n      <td>Yes</td>\n      <td>No</td>\n      <td>No</td>\n      <td>No</td>\n      <td>No</td>\n    </tr>\n    <tr>\n      <th>3</th>\n      <td>7795-CFOCW</td>\n      <td>DSL</td>\n      <td>Yes</td>\n      <td>No</td>\n      <td>Yes</td>\n      <td>Yes</td>\n      <td>No</td>\n      <td>No</td>\n    </tr>\n    <tr>\n      <th>4</th>\n      <td>9237-HQITU</td>\n      <td>Fiber optic</td>\n      <td>No</td>\n      <td>No</td>\n      <td>No</td>\n      <td>No</td>\n      <td>No</td>\n      <td>No</td>\n    </tr>\n    <tr>\n      <th>...</th>\n      <td>...</td>\n      <td>...</td>\n      <td>...</td>\n      <td>...</td>\n      <td>...</td>\n      <td>...</td>\n      <td>...</td>\n      <td>...</td>\n    </tr>\n    <tr>\n      <th>5512</th>\n      <td>6840-RESVB</td>\n      <td>DSL</td>\n      <td>Yes</td>\n      <td>No</td>\n      <td>Yes</td>\n      <td>Yes</td>\n      <td>Yes</td>\n      <td>Yes</td>\n    </tr>\n    <tr>\n      <th>5513</th>\n      <td>2234-XADUH</td>\n      <td>Fiber optic</td>\n      <td>No</td>\n      <td>Yes</td>\n      <td>Yes</td>\n      <td>No</td>\n      <td>Yes</td>\n      <td>Yes</td>\n    </tr>\n    <tr>\n      <th>5514</th>\n      <td>4801-JZAZL</td>\n      <td>DSL</td>\n      <td>Yes</td>\n      <td>No</td>\n      <td>No</td>\n      <td>No</td>\n      <td>No</td>\n      <td>No</td>\n    </tr>\n    <tr>\n      <th>5515</th>\n      <td>8361-LTMKD</td>\n      <td>Fiber optic</td>\n      <td>No</td>\n      <td>No</td>\n      <td>No</td>\n      <td>No</td>\n      <td>No</td>\n      <td>No</td>\n    </tr>\n    <tr>\n      <th>5516</th>\n      <td>3186-AJIEK</td>\n      <td>Fiber optic</td>\n      <td>Yes</td>\n      <td>No</td>\n      <td>Yes</td>\n      <td>Yes</td>\n      <td>Yes</td>\n      <td>Yes</td>\n    </tr>\n  </tbody>\n</table>\n<p>5517 rows × 8 columns</p>\n</div>"
     },
     "metadata": {},
     "execution_count": 8
    }
   ],
   "source": [
    "internet "
   ]
  },
  {
   "cell_type": "code",
   "execution_count": 9,
   "metadata": {},
   "outputs": [
    {
     "output_type": "execute_result",
     "data": {
      "text/plain": "      customerID  gender  SeniorCitizen Partner Dependents\n0     7590-VHVEG  Female              0     Yes         No\n1     5575-GNVDE    Male              0      No         No\n2     3668-QPYBK    Male              0      No         No\n3     7795-CFOCW    Male              0      No         No\n4     9237-HQITU  Female              0      No         No\n...          ...     ...            ...     ...        ...\n7038  6840-RESVB    Male              0     Yes        Yes\n7039  2234-XADUH  Female              0     Yes        Yes\n7040  4801-JZAZL  Female              0     Yes        Yes\n7041  8361-LTMKD    Male              1     Yes         No\n7042  3186-AJIEK    Male              0      No         No\n\n[7043 rows x 5 columns]",
      "text/html": "<div>\n<style scoped>\n    .dataframe tbody tr th:only-of-type {\n        vertical-align: middle;\n    }\n\n    .dataframe tbody tr th {\n        vertical-align: top;\n    }\n\n    .dataframe thead th {\n        text-align: right;\n    }\n</style>\n<table border=\"1\" class=\"dataframe\">\n  <thead>\n    <tr style=\"text-align: right;\">\n      <th></th>\n      <th>customerID</th>\n      <th>gender</th>\n      <th>SeniorCitizen</th>\n      <th>Partner</th>\n      <th>Dependents</th>\n    </tr>\n  </thead>\n  <tbody>\n    <tr>\n      <th>0</th>\n      <td>7590-VHVEG</td>\n      <td>Female</td>\n      <td>0</td>\n      <td>Yes</td>\n      <td>No</td>\n    </tr>\n    <tr>\n      <th>1</th>\n      <td>5575-GNVDE</td>\n      <td>Male</td>\n      <td>0</td>\n      <td>No</td>\n      <td>No</td>\n    </tr>\n    <tr>\n      <th>2</th>\n      <td>3668-QPYBK</td>\n      <td>Male</td>\n      <td>0</td>\n      <td>No</td>\n      <td>No</td>\n    </tr>\n    <tr>\n      <th>3</th>\n      <td>7795-CFOCW</td>\n      <td>Male</td>\n      <td>0</td>\n      <td>No</td>\n      <td>No</td>\n    </tr>\n    <tr>\n      <th>4</th>\n      <td>9237-HQITU</td>\n      <td>Female</td>\n      <td>0</td>\n      <td>No</td>\n      <td>No</td>\n    </tr>\n    <tr>\n      <th>...</th>\n      <td>...</td>\n      <td>...</td>\n      <td>...</td>\n      <td>...</td>\n      <td>...</td>\n    </tr>\n    <tr>\n      <th>7038</th>\n      <td>6840-RESVB</td>\n      <td>Male</td>\n      <td>0</td>\n      <td>Yes</td>\n      <td>Yes</td>\n    </tr>\n    <tr>\n      <th>7039</th>\n      <td>2234-XADUH</td>\n      <td>Female</td>\n      <td>0</td>\n      <td>Yes</td>\n      <td>Yes</td>\n    </tr>\n    <tr>\n      <th>7040</th>\n      <td>4801-JZAZL</td>\n      <td>Female</td>\n      <td>0</td>\n      <td>Yes</td>\n      <td>Yes</td>\n    </tr>\n    <tr>\n      <th>7041</th>\n      <td>8361-LTMKD</td>\n      <td>Male</td>\n      <td>1</td>\n      <td>Yes</td>\n      <td>No</td>\n    </tr>\n    <tr>\n      <th>7042</th>\n      <td>3186-AJIEK</td>\n      <td>Male</td>\n      <td>0</td>\n      <td>No</td>\n      <td>No</td>\n    </tr>\n  </tbody>\n</table>\n<p>7043 rows × 5 columns</p>\n</div>"
     },
     "metadata": {},
     "execution_count": 9
    }
   ],
   "source": [
    "personal"
   ]
  },
  {
   "cell_type": "code",
   "execution_count": 10,
   "metadata": {},
   "outputs": [
    {
     "output_type": "execute_result",
     "data": {
      "text/plain": "      customerID MultipleLines\n0     5575-GNVDE            No\n1     3668-QPYBK            No\n2     9237-HQITU            No\n3     9305-CDSKC           Yes\n4     1452-KIOVK           Yes\n...          ...           ...\n6356  2569-WGERO            No\n6357  6840-RESVB           Yes\n6358  2234-XADUH           Yes\n6359  8361-LTMKD           Yes\n6360  3186-AJIEK            No\n\n[6361 rows x 2 columns]",
      "text/html": "<div>\n<style scoped>\n    .dataframe tbody tr th:only-of-type {\n        vertical-align: middle;\n    }\n\n    .dataframe tbody tr th {\n        vertical-align: top;\n    }\n\n    .dataframe thead th {\n        text-align: right;\n    }\n</style>\n<table border=\"1\" class=\"dataframe\">\n  <thead>\n    <tr style=\"text-align: right;\">\n      <th></th>\n      <th>customerID</th>\n      <th>MultipleLines</th>\n    </tr>\n  </thead>\n  <tbody>\n    <tr>\n      <th>0</th>\n      <td>5575-GNVDE</td>\n      <td>No</td>\n    </tr>\n    <tr>\n      <th>1</th>\n      <td>3668-QPYBK</td>\n      <td>No</td>\n    </tr>\n    <tr>\n      <th>2</th>\n      <td>9237-HQITU</td>\n      <td>No</td>\n    </tr>\n    <tr>\n      <th>3</th>\n      <td>9305-CDSKC</td>\n      <td>Yes</td>\n    </tr>\n    <tr>\n      <th>4</th>\n      <td>1452-KIOVK</td>\n      <td>Yes</td>\n    </tr>\n    <tr>\n      <th>...</th>\n      <td>...</td>\n      <td>...</td>\n    </tr>\n    <tr>\n      <th>6356</th>\n      <td>2569-WGERO</td>\n      <td>No</td>\n    </tr>\n    <tr>\n      <th>6357</th>\n      <td>6840-RESVB</td>\n      <td>Yes</td>\n    </tr>\n    <tr>\n      <th>6358</th>\n      <td>2234-XADUH</td>\n      <td>Yes</td>\n    </tr>\n    <tr>\n      <th>6359</th>\n      <td>8361-LTMKD</td>\n      <td>Yes</td>\n    </tr>\n    <tr>\n      <th>6360</th>\n      <td>3186-AJIEK</td>\n      <td>No</td>\n    </tr>\n  </tbody>\n</table>\n<p>6361 rows × 2 columns</p>\n</div>"
     },
     "metadata": {},
     "execution_count": 10
    }
   ],
   "source": [
    "phone"
   ]
  },
  {
   "cell_type": "markdown",
   "metadata": {},
   "source": [
    "### План работ:\n",
    "* Предобработка данных. Поиск дубликатов, изменение типов данных, работа с пропусками\n",
    "* Сводим всё в одну таблицу. Смотрим статастику по отдельным полям. Пробуем использовать кластеризацию для поиска структуры в данных\n",
    "* Делаем OHE, добавляем фичи. Уходим от дат к кол-ву месяцев действия договора \n",
    "* Перед нами задача классификации, пробуем DecisionTree, RandomForest, LogisticRegression\n",
    "* Пробуем нейронные сети"
   ]
  },
  {
   "cell_type": "markdown",
   "metadata": {},
   "source": [
    "### Вопросы\n",
    "* Кто владелец задачи?\n",
    "* На пользователя оформляют только один договор и на услуги интернета и на услуги телефонии? Можно ли считать что \"договор\" равен \"уникальному пользователю\"?\n",
    "* На какую метрику ориентироваться? Что для нас важнее, выцепить всех кто собирается уходить(полнота) или не захватить тех, кто не собирается(точность). F2-мера или что-то ещё?\n"
   ]
  },
  {
   "cell_type": "code",
   "execution_count": null,
   "metadata": {},
   "outputs": [],
   "source": []
  }
 ],
 "metadata": {
  "language_info": {
   "codemirror_mode": {
    "name": "ipython",
    "version": 3
   },
   "file_extension": ".py",
   "mimetype": "text/x-python",
   "name": "python",
   "nbconvert_exporter": "python",
   "pygments_lexer": "ipython3",
   "version": "3.7.6-final"
  },
  "orig_nbformat": 2,
  "kernelspec": {
   "name": "python37664bit7efccce176454d1f8b5a10e0fb9904c1",
   "display_name": "Python 3.7.6 64-bit"
  }
 },
 "nbformat": 4,
 "nbformat_minor": 2
}