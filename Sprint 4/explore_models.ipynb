{
 "nbformat": 4,
 "nbformat_minor": 2,
 "metadata": {
  "language_info": {
   "name": "python",
   "codemirror_mode": {
    "name": "ipython",
    "version": 3
   }
  },
  "orig_nbformat": 2,
  "file_extension": ".py",
  "mimetype": "text/x-python",
  "name": "python",
  "npconvert_exporter": "python",
  "pygments_lexer": "ipython3",
  "version": 3
 },
 "cells": [
  {
   "cell_type": "code",
   "execution_count": 101,
   "metadata": {},
   "outputs": [
    {
     "name": "stderr",
     "output_type": "stream",
     "text": "/usr/local/lib/python3.7/site-packages/sklearn/linear_model/logistic.py:432: FutureWarning: Default solver will be changed to 'lbfgs' in 0.22. Specify a solver to silence this warning.\n  FutureWarning)\n"
    },
    {
     "data": {
      "text/plain": "0.40665300240956515"
     },
     "execution_count": 101,
     "metadata": {},
     "output_type": "execute_result"
    }
   ],
   "source": [
    "import pandas as pd \n",
    "from sklearn.tree import DecisionTreeClassifier\n",
    "from sklearn.ensemble import RandomForestClassifier\n",
    "from sklearn.metrics import accuracy_score\n",
    "from sklearn.model_selection import train_test_split\n",
    "from sklearn.linear_model import LogisticRegression\n",
    "from sklearn.tree import DecisionTreeRegressor\n",
    "from sklearn.ensemble import RandomForestRegressor\n",
    "from sklearn.linear_model import LinearRegression\n",
    "\n",
    "import joblib\n",
    "\n",
    "df = pd.read_csv('/Users/alexeymaslov/Desktop/Git/github/praktikum/Sprint 4/datasets/train_data_1571975844.csv')\n",
    "df.loc[df['last_price'] > 5560000, 'price_class'] = 1\n",
    "df.loc[df['last_price'] <= 5560000, 'price_class'] = 0\n",
    "\n",
    "df_train, df_test = train_test_split(df, test_size=0.25, random_state=12345)\n",
    "\n",
    "features = df.drop(['last_price', 'price_class'], axis=1)\n",
    "target = df['price_class']\n",
    "\n",
    "features_train = df_train.drop(['last_price', 'price_class'], axis=1)\n",
    "target_train = df_train['price_class']\n",
    "\n",
    "features_test = df_test.drop(['last_price', 'price_class'], axis=1)\n",
    "target_test = df_test['price_class']\n",
    "\n",
    "model = DecisionTreeClassifier(random_state=12345, max_depth=1)\n",
    "\n",
    "model.fit(features_train, target_train)\n",
    "\n",
    "joblib.dump(model, '/Users/alexeymaslov/Desktop/Git/github/praktikum/Sprint 4/DTmodel.joblib')\n",
    "\n",
    "model = RandomForestClassifier(random_state=12345, n_estimators=6)\n",
    "model.fit(features_train, target_train)\n",
    "prediction_test = model.predict(features_test)\n",
    "\n",
    "joblib.dump(model, '/Users/alexeymaslov/Desktop/Git/github/praktikum/Sprint 4/RFmodel.joblib')\n",
    "# accuracy_score(prediction_test, target_test)\n",
    "\n",
    "model = LogisticRegression(random_state=12345)\n",
    "model.fit(features, target)\n",
    "prediction_test = model.predict(features_test)\n",
    "\n",
    "\n",
    "joblib.dump(model, '/Users/alexeymaslov/Desktop/Git/github/praktikum/Sprint 4/LRmodel.joblib')\n",
    "model.score(features, target)\n",
    "        \n",
    "model = DecisionTreeRegressor(random_state=12345)\n",
    "model.fit(features, target)\n",
    "prediction_test = model.predict(features_test)\n",
    "\n",
    "\n",
    "joblib.dump(model, '/Users/alexeymaslov/Desktop/Git/github/praktikum/Sprint 4/DTRmodel.joblib')\n",
    "model.score(features, target)\n",
    "\n",
    "model = RandomForestRegressor(random_state=12345, n_estimators=3)\n",
    "model.fit(features, target)\n",
    "prediction_test = model.predict(features_test)\n",
    "\n",
    "\n",
    "joblib.dump(model, '/Users/alexeymaslov/Desktop/Git/github/praktikum/Sprint 4/RFRmodel.joblib')\n",
    "model.score(features, target)\n",
    "\n",
    "model = LinearRegression()\n",
    "model.fit(features, target)\n",
    "prediction_test = model.predict(features_test)\n",
    "\n",
    "\n",
    "joblib.dump(model, '/Users/alexeymaslov/Desktop/Git/github/praktikum/Sprint 4/LinRmodel.joblib')\n",
    "model.score(features, target)\n",
    "\n"
   ]
  }
 ]
}