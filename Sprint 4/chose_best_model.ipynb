{
 "nbformat": 4,
 "nbformat_minor": 2,
 "metadata": {
  "language_info": {
   "name": "python",
   "codemirror_mode": {
    "name": "ipython",
    "version": 3
   }
  },
  "orig_nbformat": 2,
  "file_extension": ".py",
  "mimetype": "text/x-python",
  "name": "python",
  "npconvert_exporter": "python",
  "pygments_lexer": "ipython3",
  "version": 3
 },
 "cells": [
  {
   "cell_type": "code",
   "execution_count": 22,
   "metadata": {},
   "outputs": [
    {
     "name": "stdout",
     "output_type": "stream",
     "text": "DecisionTreeRegressor RMSE: 7.506233644529148\nRandomForestRegressor n_estimators= 25 RMSE: 7.241701872608117\nRandomForestRegressor n_estimators= 26 RMSE: 7.166676576136331\nRandomForestRegressor n_estimators= 27 RMSE: 7.084210365500342\nRandomForestRegressor n_estimators= 28 RMSE: 7.008670340648872\nRandomForestRegressor n_estimators= 29 RMSE: 7.085127685810256\nRandomForestRegressor n_estimators= 30 RMSE: 7.040128279828386\nRandomForestRegressor n_estimators= 31 RMSE: 6.981871420372626\nRandomForestRegressor n_estimators= 32 RMSE: 6.908927207577304\nRandomForestRegressor n_estimators= 33 RMSE: 7.009417040106679\nRandomForestRegressor n_estimators= 34 RMSE: 7.1652387374833975\nLinearRegression RMSE: 7.726006697008268\n"
    },
    {
     "data": {
      "text/plain": "['/Users/alexeymaslov/Desktop/Git/github/praktikum/Sprint 4/BestModelmodel.joblib']"
     },
     "execution_count": 22,
     "metadata": {},
     "output_type": "execute_result"
    }
   ],
   "source": [
    "import pandas as pd \n",
    "from sklearn.model_selection import train_test_split\n",
    "from sklearn.tree import DecisionTreeRegressor\n",
    "from sklearn.ensemble import RandomForestRegressor\n",
    "from sklearn.linear_model import LinearRegression\n",
    "from sklearn.metrics import mean_squared_error\n",
    "\n",
    "import joblib\n",
    "\n",
    "df = pd.read_csv('/Users/alexeymaslov/Desktop/Git/github/praktikum/Sprint 4/datasets/train_data_1571975844.csv')\n",
    "\n",
    "df.head()\n",
    "df['last_price'] = df['last_price']/1000000\n",
    "df_train, df_test = train_test_split(df, test_size=0.25, random_state=12345)\n",
    "\n",
    "train_feature = df_train.drop(['last_price'], axis=1)\n",
    "train_target = df_train['last_price']\n",
    "\n",
    "test_feature = df_test.drop(['last_price'], axis=1)\n",
    "test_target = df_test['last_price']\n",
    "\n",
    "\n",
    "model = DecisionTreeRegressor(criterion='mse', random_state=12345)\n",
    "model.fit(train_feature, train_target)\n",
    "predictions = model.predict(test_feature)\n",
    "mse = mean_squared_error(test_target, predictions)\n",
    "rmse = mse** .5\n",
    "\n",
    "print('DecisionTreeRegressor RMSE:', rmse)\n",
    "\n",
    "for i in range(25, 35, 1):\n",
    "    model = RandomForestRegressor(criterion='mse', random_state=12345, n_estimators=i)\n",
    "    model.fit(train_feature, train_target)\n",
    "    predictions = model.predict(test_feature)\n",
    "\n",
    "    mse = mean_squared_error(predictions, test_target)\n",
    "    rmse = mse** .5\n",
    "    print('RandomForestRegressor n_estimators=', i, 'RMSE:', rmse)\n",
    "\n",
    "model = LinearRegression()\n",
    "\n",
    "model.fit(train_feature, train_target)\n",
    "predictions = model.predict(test_feature)\n",
    "\n",
    "mse = mean_squared_error(predictions, test_target)\n",
    "rmse = mse** .5\n",
    "\n",
    "print('LinearRegression RMSE:', rmse)\n",
    "\n",
    "feature = df.drop(['last_price'], axis=1)\n",
    "target = df['last_price']\n",
    "\n",
    "model = RandomForestRegressor(criterion='mse', n_estimators=32, random_state=12345)\n",
    "model.fit(feature, target)\n",
    "\n",
    "joblib.dump(model, '/Users/alexeymaslov/Desktop/Git/github/praktikum/Sprint 4/BestModelmodel.joblib')\n",
    "\n",
    "\n",
    "\n",
    "\n",
    "\n",
    "\n"
   ]
  },
  {
   "cell_type": "code",
   "execution_count": null,
   "metadata": {},
   "outputs": [],
   "source": []
  }
 ]
}