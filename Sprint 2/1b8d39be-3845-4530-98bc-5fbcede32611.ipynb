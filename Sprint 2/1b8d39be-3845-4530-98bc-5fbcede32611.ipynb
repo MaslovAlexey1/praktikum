{
 "cells": [
  {
   "cell_type": "markdown",
   "metadata": {},
   "source": [
    "----------\n",
    "\n",
    "## <span style=\"color:green\">Комментарий от наставника<span>\n",
    "\n",
    "Привет еще раз! Спасибо, что быстро ответил. \n",
    "\n",
    "В этот раз пункты, где всё отлично, я отмечаю галкой <span style=\"color:green;font-size:200%\">&#10003;</span>\n",
    "\n",
    "Прошлые комментарии и твои ответы на них удалять не буду\n",
    "\n",
    "Новые комментарии будут ниже, красным цветом. Вот так:\n",
    "\n",
    "## <span style=\"color:red\">Комментарий от наставника<span>\n",
    "\n",
    "---------"
   ]
  },
  {
   "cell_type": "markdown",
   "metadata": {},
   "source": [
    "# Задание 1  <span style=\"color:green;font-size:200%\">&#10003;</span>\n",
    "## Исправление данных  <span style=\"color:green;font-size:200%\">&#10003;</span>"
   ]
  },
  {
   "cell_type": "code",
   "execution_count": 1,
   "metadata": {},
   "outputs": [],
   "source": [
    "import pandas as pd\n",
    "import numpy as np\n",
    "from pymystem3 import Mystem\n",
    "from pathlib import Path\n",
    "path = Path.cwd()\n",
    "\n",
    "credit_history = pd.read_csv('{}/datasets/data.csv'.format(path))"
   ]
  },
  {
   "cell_type": "markdown",
   "metadata": {},
   "source": [
    "##### Смотрим общую информацию по датасету. Видим пропущенные значения в days_employed и total_income"
   ]
  },
  {
   "cell_type": "code",
   "execution_count": 11,
   "metadata": {},
   "outputs": [
    {
     "name": "stdout",
     "output_type": "stream",
     "text": "<class 'pandas.core.frame.DataFrame'>\nRangeIndex: 21525 entries, 0 to 21524\nData columns (total 13 columns):\n #   Column            Non-Null Count  Dtype  \n---  ------            --------------  -----  \n 0   Unnamed: 0        21525 non-null  int64  \n 1   children          21525 non-null  int64  \n 2   days_employed     19351 non-null  float64\n 3   dob_years         21525 non-null  int64  \n 4   education         21525 non-null  object \n 5   education_id      21525 non-null  int64  \n 6   family_status     21525 non-null  object \n 7   family_status_id  21525 non-null  int64  \n 8   gender            21525 non-null  object \n 9   income_type       21525 non-null  object \n 10  debt              21525 non-null  int64  \n 11  total_income      19351 non-null  float64\n 12  purpose           21525 non-null  object \ndtypes: float64(2), int64(6), object(5)\nmemory usage: 2.1+ MB\n"
    }
   ],
   "source": [
    "credit_history.info()"
   ]
  },
  {
   "cell_type": "markdown",
   "metadata": {},
   "source": [
    "###### Проверяем пересечение пропущенных значений "
   ]
  },
  {
   "cell_type": "code",
   "execution_count": 12,
   "metadata": {},
   "outputs": [
    {
     "name": "stdout",
     "output_type": "stream",
     "text": "Пропущено значений days_employed: 2174\nПропущено значений missed_total_income: 2174\nПересечение пропущенных значений: 2174\n"
    }
   ],
   "source": [
    "missed_days_emloyed = len(credit_history[(credit_history['days_employed'].isnull())])\n",
    "missed_total_income = len(credit_history[(credit_history['total_income'].isnull())])\n",
    "missed_intersection = len(credit_history[(credit_history['days_employed'].isnull()) & (credit_history['total_income'].isnull())])\n",
    "\n",
    "print('Пропущено значений days_employed:', missed_days_emloyed)\n",
    "print('Пропущено значений missed_total_income:', missed_total_income)\n",
    "print('Пересечение пропущенных значений:', missed_intersection)"
   ]
  },
  {
   "cell_type": "markdown",
   "metadata": {},
   "source": [
    "###### Ищем ошибки в данных children"
   ]
  },
  {
   "cell_type": "code",
   "execution_count": 13,
   "metadata": {},
   "outputs": [
    {
     "data": {
      "text/html": "<div>\n<style scoped>\n    .dataframe tbody tr th:only-of-type {\n        vertical-align: middle;\n    }\n\n    .dataframe tbody tr th {\n        vertical-align: top;\n    }\n\n    .dataframe thead tr th {\n        text-align: left;\n    }\n\n    .dataframe thead tr:last-of-type th {\n        text-align: right;\n    }\n</style>\n<table border=\"1\" class=\"dataframe\">\n  <thead>\n    <tr>\n      <th></th>\n      <th>children</th>\n      <th>days_employed</th>\n      <th>total_income</th>\n      <th>dob_years</th>\n    </tr>\n    <tr>\n      <th></th>\n      <th>count</th>\n      <th>median</th>\n      <th>median</th>\n      <th>median</th>\n    </tr>\n    <tr>\n      <th>children</th>\n      <th></th>\n      <th></th>\n      <th></th>\n      <th></th>\n    </tr>\n  </thead>\n  <tbody>\n    <tr>\n      <th>-1</th>\n      <td>47</td>\n      <td>-1391.963378</td>\n      <td>144293.168218</td>\n      <td>41.0</td>\n    </tr>\n    <tr>\n      <th>0</th>\n      <td>14149</td>\n      <td>-1036.583486</td>\n      <td>143937.207982</td>\n      <td>48.0</td>\n    </tr>\n    <tr>\n      <th>1</th>\n      <td>4818</td>\n      <td>-1416.141843</td>\n      <td>147943.027779</td>\n      <td>38.0</td>\n    </tr>\n    <tr>\n      <th>2</th>\n      <td>2055</td>\n      <td>-1634.342227</td>\n      <td>144648.563117</td>\n      <td>35.0</td>\n    </tr>\n    <tr>\n      <th>3</th>\n      <td>330</td>\n      <td>-1681.245021</td>\n      <td>157221.549275</td>\n      <td>36.0</td>\n    </tr>\n    <tr>\n      <th>4</th>\n      <td>41</td>\n      <td>-1866.426406</td>\n      <td>156135.210434</td>\n      <td>35.0</td>\n    </tr>\n    <tr>\n      <th>5</th>\n      <td>9</td>\n      <td>-1231.571486</td>\n      <td>186351.410251</td>\n      <td>36.0</td>\n    </tr>\n    <tr>\n      <th>20</th>\n      <td>76</td>\n      <td>-957.251278</td>\n      <td>144544.530170</td>\n      <td>41.5</td>\n    </tr>\n  </tbody>\n</table>\n</div>",
      "text/plain": "         children days_employed   total_income dob_years\n            count        median         median    median\nchildren                                                \n-1             47  -1391.963378  144293.168218      41.0\n 0          14149  -1036.583486  143937.207982      48.0\n 1           4818  -1416.141843  147943.027779      38.0\n 2           2055  -1634.342227  144648.563117      35.0\n 3            330  -1681.245021  157221.549275      36.0\n 4             41  -1866.426406  156135.210434      35.0\n 5              9  -1231.571486  186351.410251      36.0\n 20            76   -957.251278  144544.530170      41.5"
     },
     "execution_count": 13,
     "metadata": {},
     "output_type": "execute_result"
    }
   ],
   "source": [
    "credit_history.groupby('children').agg({'children': ['count'], 'days_employed': ['median'], 'total_income': ['median'], 'dob_years': ['median']})"
   ]
  },
  {
   "cell_type": "markdown",
   "metadata": {},
   "source": [
    "Встречаются системные ошибки связанные с вводом данных(-1 и 20 детей). \n",
    "> Рекомендация: Хорошо бы на этапе ввода данных сделать автоматическую проверку значений\n",
    "\n",
    "Испавляем данные"
   ]
  },
  {
   "cell_type": "code",
   "execution_count": 14,
   "metadata": {},
   "outputs": [],
   "source": [
    "credit_history['children'].value_counts()\n",
    "credit_history.loc[credit_history['children'] == -1, 'children'] = 1\n",
    "credit_history.loc[credit_history['children'] == 20, 'children'] = 2"
   ]
  },
  {
   "cell_type": "markdown",
   "metadata": {},
   "source": [
    "###### Смотрим income_type"
   ]
  },
  {
   "cell_type": "code",
   "execution_count": 15,
   "metadata": {},
   "outputs": [
    {
     "data": {
      "text/html": "<div>\n<style scoped>\n    .dataframe tbody tr th:only-of-type {\n        vertical-align: middle;\n    }\n\n    .dataframe tbody tr th {\n        vertical-align: top;\n    }\n\n    .dataframe thead tr th {\n        text-align: left;\n    }\n\n    .dataframe thead tr:last-of-type th {\n        text-align: right;\n    }\n</style>\n<table border=\"1\" class=\"dataframe\">\n  <thead>\n    <tr>\n      <th></th>\n      <th>children</th>\n      <th>days_employed</th>\n      <th>total_income</th>\n      <th>dob_years</th>\n    </tr>\n    <tr>\n      <th></th>\n      <th>count</th>\n      <th>median</th>\n      <th>median</th>\n      <th>median</th>\n    </tr>\n    <tr>\n      <th>income_type</th>\n      <th></th>\n      <th></th>\n      <th></th>\n      <th></th>\n    </tr>\n  </thead>\n  <tbody>\n    <tr>\n      <th>безработный</th>\n      <td>2</td>\n      <td>366413.652744</td>\n      <td>131339.751676</td>\n      <td>38.0</td>\n    </tr>\n    <tr>\n      <th>в декрете</th>\n      <td>1</td>\n      <td>-3296.759962</td>\n      <td>53829.130729</td>\n      <td>39.0</td>\n    </tr>\n    <tr>\n      <th>госслужащий</th>\n      <td>1459</td>\n      <td>-2689.368353</td>\n      <td>150447.935283</td>\n      <td>40.0</td>\n    </tr>\n    <tr>\n      <th>компаньон</th>\n      <td>5085</td>\n      <td>-1547.382223</td>\n      <td>172357.950966</td>\n      <td>39.0</td>\n    </tr>\n    <tr>\n      <th>пенсионер</th>\n      <td>3856</td>\n      <td>365213.306266</td>\n      <td>118514.486412</td>\n      <td>60.0</td>\n    </tr>\n    <tr>\n      <th>предприниматель</th>\n      <td>2</td>\n      <td>-520.848083</td>\n      <td>499163.144947</td>\n      <td>42.5</td>\n    </tr>\n    <tr>\n      <th>сотрудник</th>\n      <td>11119</td>\n      <td>-1574.202821</td>\n      <td>142594.396847</td>\n      <td>39.0</td>\n    </tr>\n    <tr>\n      <th>студент</th>\n      <td>1</td>\n      <td>-578.751554</td>\n      <td>98201.625314</td>\n      <td>22.0</td>\n    </tr>\n  </tbody>\n</table>\n</div>",
      "text/plain": "                children  days_employed   total_income dob_years\n                   count         median         median    median\nincome_type                                                     \nбезработный            2  366413.652744  131339.751676      38.0\nв декрете              1   -3296.759962   53829.130729      39.0\nгосслужащий         1459   -2689.368353  150447.935283      40.0\nкомпаньон           5085   -1547.382223  172357.950966      39.0\nпенсионер           3856  365213.306266  118514.486412      60.0\nпредприниматель        2    -520.848083  499163.144947      42.5\nсотрудник          11119   -1574.202821  142594.396847      39.0\nстудент                1    -578.751554   98201.625314      22.0"
     },
     "execution_count": 15,
     "metadata": {},
     "output_type": "execute_result"
    }
   ],
   "source": [
    "credit_history.groupby('income_type').agg({'children': ['count'], 'days_employed': ['median'], 'total_income': ['median'], 'dob_years': ['median']})"
   ]
  },
  {
   "cell_type": "markdown",
   "metadata": {},
   "source": [
    "Категории безработный, в декрете, преприниматель, студент встречаются крайне редко, их можно удалить"
   ]
  },
  {
   "cell_type": "code",
   "execution_count": 16,
   "metadata": {},
   "outputs": [],
   "source": [
    "credit_history = credit_history[~credit_history['income_type'].isin(['безработный', 'в декрете', 'предприниматель', 'студент'])]"
   ]
  },
  {
   "cell_type": "markdown",
   "metadata": {},
   "source": [
    "###### Смотрим на dob_years"
   ]
  },
  {
   "cell_type": "code",
   "execution_count": 17,
   "metadata": {},
   "outputs": [
    {
     "data": {
      "text/html": "<div>\n<style scoped>\n    .dataframe tbody tr th:only-of-type {\n        vertical-align: middle;\n    }\n\n    .dataframe tbody tr th {\n        vertical-align: top;\n    }\n\n    .dataframe thead tr th {\n        text-align: left;\n    }\n\n    .dataframe thead tr:last-of-type th {\n        text-align: right;\n    }\n</style>\n<table border=\"1\" class=\"dataframe\">\n  <thead>\n    <tr>\n      <th></th>\n      <th>children</th>\n      <th>days_employed</th>\n      <th>total_income</th>\n      <th>dob_years</th>\n    </tr>\n    <tr>\n      <th></th>\n      <th>count</th>\n      <th>median</th>\n      <th>median</th>\n      <th>median</th>\n    </tr>\n    <tr>\n      <th>dob_years</th>\n      <th></th>\n      <th></th>\n      <th></th>\n      <th></th>\n    </tr>\n  </thead>\n  <tbody>\n    <tr>\n      <th>0</th>\n      <td>101</td>\n      <td>-1146.689586</td>\n      <td>152419.184851</td>\n      <td>0</td>\n    </tr>\n    <tr>\n      <th>19</th>\n      <td>14</td>\n      <td>-724.492610</td>\n      <td>93343.132708</td>\n      <td>19</td>\n    </tr>\n    <tr>\n      <th>20</th>\n      <td>51</td>\n      <td>-674.838979</td>\n      <td>109502.056040</td>\n      <td>20</td>\n    </tr>\n    <tr>\n      <th>21</th>\n      <td>111</td>\n      <td>-618.733817</td>\n      <td>128265.720871</td>\n      <td>21</td>\n    </tr>\n    <tr>\n      <th>22</th>\n      <td>182</td>\n      <td>-699.061214</td>\n      <td>124286.115523</td>\n      <td>22</td>\n    </tr>\n  </tbody>\n</table>\n</div>",
      "text/plain": "          children days_employed   total_income dob_years\n             count        median         median    median\ndob_years                                                \n0              101  -1146.689586  152419.184851         0\n19              14   -724.492610   93343.132708        19\n20              51   -674.838979  109502.056040        20\n21             111   -618.733817  128265.720871        21\n22             182   -699.061214  124286.115523        22"
     },
     "execution_count": 17,
     "metadata": {},
     "output_type": "execute_result"
    }
   ],
   "source": [
    "credit_history.groupby('dob_years').agg({'children': ['count'], 'days_employed': ['median'], 'total_income': ['median'], 'dob_years': ['median']}).head()"
   ]
  },
  {
   "cell_type": "markdown",
   "metadata": {},
   "source": [
    "Для 101 записи указан возраст 0, это ошибочное значение, заменим его на NaN"
   ]
  },
  {
   "cell_type": "code",
   "execution_count": 18,
   "metadata": {},
   "outputs": [
    {
     "data": {
      "text/html": "<div>\n<style scoped>\n    .dataframe tbody tr th:only-of-type {\n        vertical-align: middle;\n    }\n\n    .dataframe tbody tr th {\n        vertical-align: top;\n    }\n\n    .dataframe thead th {\n        text-align: right;\n    }\n</style>\n<table border=\"1\" class=\"dataframe\">\n  <thead>\n    <tr style=\"text-align: right;\">\n      <th></th>\n      <th>index</th>\n      <th>dob_years</th>\n    </tr>\n  </thead>\n  <tbody>\n    <tr>\n      <th>53</th>\n      <td>19.0</td>\n      <td>14</td>\n    </tr>\n    <tr>\n      <th>51</th>\n      <td>20.0</td>\n      <td>51</td>\n    </tr>\n    <tr>\n      <th>46</th>\n      <td>21.0</td>\n      <td>111</td>\n    </tr>\n    <tr>\n      <th>44</th>\n      <td>22.0</td>\n      <td>182</td>\n    </tr>\n    <tr>\n      <th>41</th>\n      <td>23.0</td>\n      <td>254</td>\n    </tr>\n  </tbody>\n</table>\n</div>",
      "text/plain": "    index  dob_years\n53   19.0         14\n51   20.0         51\n46   21.0        111\n44   22.0        182\n41   23.0        254"
     },
     "execution_count": 18,
     "metadata": {},
     "output_type": "execute_result"
    }
   ],
   "source": [
    "credit_history['dob_years'].value_counts().reset_index().sort_values(by='index')\n",
    "credit_history.loc[credit_history['dob_years'] == 0, 'dob_years']  = np.nan\n",
    "credit_history['dob_years'].value_counts().reset_index().sort_values(by='index').head()"
   ]
  },
  {
   "cell_type": "markdown",
   "metadata": {},
   "source": [
    "##### Смотрим days_employed"
   ]
  },
  {
   "cell_type": "code",
   "execution_count": 19,
   "metadata": {},
   "outputs": [
    {
     "data": {
      "text/html": "<div>\n<style scoped>\n    .dataframe tbody tr th:only-of-type {\n        vertical-align: middle;\n    }\n\n    .dataframe tbody tr th {\n        vertical-align: top;\n    }\n\n    .dataframe thead tr th {\n        text-align: left;\n    }\n\n    .dataframe thead tr:last-of-type th {\n        text-align: right;\n    }\n</style>\n<table border=\"1\" class=\"dataframe\">\n  <thead>\n    <tr>\n      <th></th>\n      <th>children</th>\n      <th>days_employed</th>\n      <th>total_income</th>\n      <th>dob_years</th>\n    </tr>\n    <tr>\n      <th></th>\n      <th>count</th>\n      <th>median</th>\n      <th>median</th>\n      <th>median</th>\n    </tr>\n    <tr>\n      <th>days_employed</th>\n      <th></th>\n      <th></th>\n      <th></th>\n      <th></th>\n    </tr>\n  </thead>\n  <tbody>\n    <tr>\n      <th>-10160.018064</th>\n      <td>1</td>\n      <td>-10160.018064</td>\n      <td>76869.272923</td>\n      <td>45.0</td>\n    </tr>\n    <tr>\n      <th>-413.738144</th>\n      <td>1</td>\n      <td>-413.738144</td>\n      <td>133188.421009</td>\n      <td>61.0</td>\n    </tr>\n    <tr>\n      <th>-2066.145398</th>\n      <td>1</td>\n      <td>-2066.145398</td>\n      <td>267276.234663</td>\n      <td>61.0</td>\n    </tr>\n    <tr>\n      <th>-1653.272540</th>\n      <td>1</td>\n      <td>-1653.272540</td>\n      <td>102955.575976</td>\n      <td>25.0</td>\n    </tr>\n    <tr>\n      <th>-2080.490312</th>\n      <td>1</td>\n      <td>-2080.490312</td>\n      <td>188742.753670</td>\n      <td>39.0</td>\n    </tr>\n    <tr>\n      <th>-898.138817</th>\n      <td>1</td>\n      <td>-898.138817</td>\n      <td>110710.967910</td>\n      <td>49.0</td>\n    </tr>\n    <tr>\n      <th>-8822.986049</th>\n      <td>1</td>\n      <td>-8822.986049</td>\n      <td>142014.019009</td>\n      <td>51.0</td>\n    </tr>\n    <tr>\n      <th>-5000.071635</th>\n      <td>1</td>\n      <td>-5000.071635</td>\n      <td>173655.854527</td>\n      <td>44.0</td>\n    </tr>\n    <tr>\n      <th>-7093.814880</th>\n      <td>1</td>\n      <td>-7093.814880</td>\n      <td>188723.805811</td>\n      <td>58.0</td>\n    </tr>\n    <tr>\n      <th>-3524.863543</th>\n      <td>1</td>\n      <td>-3524.863543</td>\n      <td>153878.523622</td>\n      <td>33.0</td>\n    </tr>\n  </tbody>\n</table>\n</div>",
      "text/plain": "              children days_employed   total_income dob_years\n                 count        median         median    median\ndays_employed                                                \n-10160.018064        1 -10160.018064   76869.272923      45.0\n-413.738144          1   -413.738144  133188.421009      61.0\n-2066.145398         1  -2066.145398  267276.234663      61.0\n-1653.272540         1  -1653.272540  102955.575976      25.0\n-2080.490312         1  -2080.490312  188742.753670      39.0\n-898.138817          1   -898.138817  110710.967910      49.0\n-8822.986049         1  -8822.986049  142014.019009      51.0\n-5000.071635         1  -5000.071635  173655.854527      44.0\n-7093.814880         1  -7093.814880  188723.805811      58.0\n-3524.863543         1  -3524.863543  153878.523622      33.0"
     },
     "execution_count": 19,
     "metadata": {},
     "output_type": "execute_result"
    }
   ],
   "source": [
    "credit_history.groupby('days_employed').agg({'children': ['count'], 'days_employed': ['median'], 'total_income': ['median'], 'dob_years': ['median']}).sample(10)"
   ]
  },
  {
   "cell_type": "markdown",
   "metadata": {},
   "source": [
    "Видим два типа ошибок:\n",
    "* Отрицательный стаж. Переведём его в положительный\n",
    "* Для безработных и пенсионеров слишком большой стаж(около 1000 лет). Если разница между возрастом стажем больше 14 лет, то удаляем стаж. Если стаж больше 100 лет, то тоже удаляем\n",
    "> Рекомендация: поправить алгоритм расчёта стажа, есть смысл округлять стаж до года\n",
    "\n",
    "Исправляем"
   ]
  },
  {
   "cell_type": "code",
   "execution_count": 20,
   "metadata": {},
   "outputs": [],
   "source": [
    "credit_history['days_employed'] = credit_history['days_employed'].abs()\n",
    "credit_history.groupby('income_type').agg({'days_employed': ['min', 'max']})\n",
    "credit_history.loc[credit_history['days_employed'] / 365 - credit_history['dob_years'] > 14 , 'days_employed'] = np.nan\n",
    "credit_history.loc[credit_history['days_employed'] / 365 > 100 , 'days_employed'] = np.nan"
   ]
  },
  {
   "cell_type": "markdown",
   "metadata": {},
   "source": [
    "##### Смотрим education"
   ]
  },
  {
   "cell_type": "code",
   "execution_count": 21,
   "metadata": {},
   "outputs": [
    {
     "data": {
      "text/html": "<div>\n<style scoped>\n    .dataframe tbody tr th:only-of-type {\n        vertical-align: middle;\n    }\n\n    .dataframe tbody tr th {\n        vertical-align: top;\n    }\n\n    .dataframe thead tr th {\n        text-align: left;\n    }\n\n    .dataframe thead tr:last-of-type th {\n        text-align: right;\n    }\n</style>\n<table border=\"1\" class=\"dataframe\">\n  <thead>\n    <tr>\n      <th></th>\n      <th>children</th>\n      <th>days_employed</th>\n      <th>total_income</th>\n      <th>dob_years</th>\n    </tr>\n    <tr>\n      <th></th>\n      <th>count</th>\n      <th>median</th>\n      <th>median</th>\n      <th>median</th>\n    </tr>\n    <tr>\n      <th>education</th>\n      <th></th>\n      <th></th>\n      <th></th>\n      <th></th>\n    </tr>\n  </thead>\n  <tbody>\n    <tr>\n      <th>ВЫСШЕЕ</th>\n      <td>274</td>\n      <td>1506.982306</td>\n      <td>167242.211789</td>\n      <td>40.0</td>\n    </tr>\n    <tr>\n      <th>Высшее</th>\n      <td>267</td>\n      <td>1605.977588</td>\n      <td>180186.682659</td>\n      <td>39.0</td>\n    </tr>\n    <tr>\n      <th>НАЧАЛЬНОЕ</th>\n      <td>17</td>\n      <td>1012.313022</td>\n      <td>129666.892242</td>\n      <td>46.0</td>\n    </tr>\n    <tr>\n      <th>НЕОКОНЧЕННОЕ ВЫСШЕЕ</th>\n      <td>29</td>\n      <td>949.418158</td>\n      <td>163911.559034</td>\n      <td>32.0</td>\n    </tr>\n    <tr>\n      <th>Начальное</th>\n      <td>15</td>\n      <td>906.489175</td>\n      <td>104570.429306</td>\n      <td>40.0</td>\n    </tr>\n    <tr>\n      <th>Неоконченное высшее</th>\n      <td>47</td>\n      <td>1178.018163</td>\n      <td>160402.480835</td>\n      <td>31.0</td>\n    </tr>\n    <tr>\n      <th>СРЕДНЕЕ</th>\n      <td>771</td>\n      <td>1730.411872</td>\n      <td>134337.067409</td>\n      <td>45.0</td>\n    </tr>\n    <tr>\n      <th>Среднее</th>\n      <td>711</td>\n      <td>1766.011755</td>\n      <td>135105.847892</td>\n      <td>45.0</td>\n    </tr>\n    <tr>\n      <th>УЧЕНАЯ СТЕПЕНЬ</th>\n      <td>1</td>\n      <td>409.200149</td>\n      <td>198570.757322</td>\n      <td>45.0</td>\n    </tr>\n    <tr>\n      <th>Ученая степень</th>\n      <td>1</td>\n      <td>NaN</td>\n      <td>98752.495442</td>\n      <td>69.0</td>\n    </tr>\n    <tr>\n      <th>высшее</th>\n      <td>4715</td>\n      <td>1618.108415</td>\n      <td>175625.312376</td>\n      <td>39.0</td>\n    </tr>\n    <tr>\n      <th>начальное</th>\n      <td>250</td>\n      <td>1263.981419</td>\n      <td>117314.518552</td>\n      <td>47.0</td>\n    </tr>\n    <tr>\n      <th>неоконченное высшее</th>\n      <td>668</td>\n      <td>1144.156267</td>\n      <td>159780.923803</td>\n      <td>32.0</td>\n    </tr>\n    <tr>\n      <th>среднее</th>\n      <td>13749</td>\n      <td>1678.895960</td>\n      <td>136652.970357</td>\n      <td>44.0</td>\n    </tr>\n    <tr>\n      <th>ученая степень</th>\n      <td>4</td>\n      <td>5352.038180</td>\n      <td>185687.118172</td>\n      <td>47.5</td>\n    </tr>\n  </tbody>\n</table>\n</div>",
      "text/plain": "                    children days_employed   total_income dob_years\n                       count        median         median    median\neducation                                                          \nВЫСШЕЕ                   274   1506.982306  167242.211789      40.0\nВысшее                   267   1605.977588  180186.682659      39.0\nНАЧАЛЬНОЕ                 17   1012.313022  129666.892242      46.0\nНЕОКОНЧЕННОЕ ВЫСШЕЕ       29    949.418158  163911.559034      32.0\nНачальное                 15    906.489175  104570.429306      40.0\nНеоконченное высшее       47   1178.018163  160402.480835      31.0\nСРЕДНЕЕ                  771   1730.411872  134337.067409      45.0\nСреднее                  711   1766.011755  135105.847892      45.0\nУЧЕНАЯ СТЕПЕНЬ             1    409.200149  198570.757322      45.0\nУченая степень             1           NaN   98752.495442      69.0\nвысшее                  4715   1618.108415  175625.312376      39.0\nначальное                250   1263.981419  117314.518552      47.0\nнеоконченное высшее      668   1144.156267  159780.923803      32.0\nсреднее                13749   1678.895960  136652.970357      44.0\nученая степень             4   5352.038180  185687.118172      47.5"
     },
     "execution_count": 21,
     "metadata": {},
     "output_type": "execute_result"
    }
   ],
   "source": [
    "credit_history.groupby('education').agg({'children': ['count'], 'days_employed': ['median'], 'total_income': ['median'], 'dob_years': ['median']})"
   ]
  },
  {
   "cell_type": "markdown",
   "metadata": {},
   "source": [
    "Для последующего анализа поля education все значения надо перевести в нижний регистр. \n",
    "> Рекомендация: фиксировать список возможных значений. Вообще не понятно как с одними id появились разные education"
   ]
  },
  {
   "cell_type": "code",
   "execution_count": 22,
   "metadata": {},
   "outputs": [],
   "source": [
    "credit_history['education'] = credit_history['education'].str.lower()"
   ]
  },
  {
   "cell_type": "markdown",
   "metadata": {},
   "source": [
    "##### Смотрим family_status"
   ]
  },
  {
   "cell_type": "code",
   "execution_count": 23,
   "metadata": {},
   "outputs": [
    {
     "data": {
      "text/html": "<div>\n<style scoped>\n    .dataframe tbody tr th:only-of-type {\n        vertical-align: middle;\n    }\n\n    .dataframe tbody tr th {\n        vertical-align: top;\n    }\n\n    .dataframe thead tr th {\n        text-align: left;\n    }\n\n    .dataframe thead tr:last-of-type th {\n        text-align: right;\n    }\n</style>\n<table border=\"1\" class=\"dataframe\">\n  <thead>\n    <tr>\n      <th></th>\n      <th>children</th>\n      <th>days_employed</th>\n      <th>total_income</th>\n      <th>dob_years</th>\n    </tr>\n    <tr>\n      <th></th>\n      <th>count</th>\n      <th>median</th>\n      <th>median</th>\n      <th>median</th>\n    </tr>\n    <tr>\n      <th>family_status</th>\n      <th></th>\n      <th></th>\n      <th></th>\n      <th></th>\n    </tr>\n  </thead>\n  <tbody>\n    <tr>\n      <th>Не женат / не замужем</th>\n      <td>2812</td>\n      <td>1234.662323</td>\n      <td>144682.347364</td>\n      <td>36.0</td>\n    </tr>\n    <tr>\n      <th>в разводе</th>\n      <td>1195</td>\n      <td>1693.774783</td>\n      <td>146969.347256</td>\n      <td>46.0</td>\n    </tr>\n    <tr>\n      <th>вдовец / вдова</th>\n      <td>960</td>\n      <td>2331.334484</td>\n      <td>128213.686950</td>\n      <td>58.0</td>\n    </tr>\n    <tr>\n      <th>гражданский брак</th>\n      <td>4175</td>\n      <td>1542.607468</td>\n      <td>144902.625471</td>\n      <td>41.0</td>\n    </tr>\n    <tr>\n      <th>женат / замужем</th>\n      <td>12377</td>\n      <td>1746.279695</td>\n      <td>146187.858312</td>\n      <td>43.0</td>\n    </tr>\n  </tbody>\n</table>\n</div>",
      "text/plain": "                      children days_employed   total_income dob_years\n                         count        median         median    median\nfamily_status                                                        \nНе женат / не замужем     2812   1234.662323  144682.347364      36.0\nв разводе                 1195   1693.774783  146969.347256      46.0\nвдовец / вдова             960   2331.334484  128213.686950      58.0\nгражданский брак          4175   1542.607468  144902.625471      41.0\nженат / замужем          12377   1746.279695  146187.858312      43.0"
     },
     "execution_count": 23,
     "metadata": {},
     "output_type": "execute_result"
    }
   ],
   "source": [
    "credit_history.groupby('family_status').agg({'children': ['count'], 'days_employed': ['median'], 'total_income': ['median'], 'dob_years': ['median']}) "
   ]
  },
  {
   "cell_type": "markdown",
   "metadata": {},
   "source": [
    "Только в одном значении family_status \"Не женат / не замужем\" встречается заглавая буква. Надо перевести значения в нижний регистр. \n",
    "> Рекомендация: поправить справочник значений"
   ]
  },
  {
   "cell_type": "code",
   "execution_count": 24,
   "metadata": {},
   "outputs": [],
   "source": [
    "credit_history['family_status'] = credit_history['family_status'].str.lower()"
   ]
  },
  {
   "cell_type": "markdown",
   "metadata": {},
   "source": [
    "----------\n",
    "\n",
    "## <span style=\"color:green\">Комментарий от наставника<span>\n",
    "\n",
    "Работа хорошая, но не структурираваная. Прошу внимательно прочитай \"Инструкцию по выполнению\" и обрати внимание к критериям оценки, в частности \"Оставляет комментарии к шагам\". Очень сложно для восприятия, когда сначала идет простыня с описанием дейтсвий а потом сами действия и результат. \n",
    "\n",
    "### Что нужно доработать:\n",
    "\n",
    "1. Изучите общую информацию по датасету\n",
    "> Добавил data.info()\n",
    "1. Абсолютно не ясно как ты пришел к списку признаков, которые надо править\n",
    "> Я группировал данные по каждому столбцу примерно так: \n",
    "> data.groupby('income_type').agg({'children': ['count'], 'days_employed': ['median'], 'total_income': ['median'], 'dob_years': ['median']}) \n",
    "> и смотрел выбросы. \n",
    "1. Нет описания и выводов по найденным проблемам в данных\n",
    "> Добавил описание\n",
    "1. Желательно имена переменных давать со смыслом. Название переменной data, к сожалению не отражает сути хранимых в нем данных\n",
    "> Переименовал в credit_history\n",
    "1. Перед удалением полезно посмотреть какой объём выборки затронет операция\n",
    "> Посмотрел на предыдущем шаге\n",
    "\n",
    "---------"
   ]
  },
  {
   "cell_type": "markdown",
   "metadata": {},
   "source": [
    "----------\n",
    "\n",
    "## <span style=\"color:red\">Комментарий от наставника<span>\n",
    "\n",
    "Еще раз прошу обраттиь внимание на структуру работы. Внимательно прочитай \"Инструкцию по выполнению\" и обрати внимание к критериям оценки, в частности \"Оставляет комментарии к шагам\". Очень сложно для восприятия, когда сначала идет простыня с описанием дейтсвий а потом сами действия и результат. \n",
    "\n",
    "Комментарии ты оставляешь в коде, гораздо информативнее они будут смотреться в markdown с должной структурой\n",
    "\n",
    "> Разбил всё по шагам с markdown!"
   ]
  },
  {
   "cell_type": "markdown",
   "metadata": {},
   "source": [
    "## Заполнение пропусков <span style=\"color:green;font-size:200%\">&#10003;</span>\n",
    "\n",
    "В столбцах days_emploed и total_income пропущены 2174 значений. Странно что пропуски в одних и тех же строках. Зависимости от других параметров не наблюдаю, объединяет эти два поля только тип данных: float64. Возможно при внесении данных использовался неправильный разделитель: \",\" вместо \".\"(или наоборот). Для анализа нас интересует поле total_income, заполним его медианным значением"
   ]
  },
  {
   "cell_type": "code",
   "execution_count": 25,
   "metadata": {},
   "outputs": [],
   "source": [
    "# рассчитываем мединный доход в зависимости от типа дохода, образования и пола\n",
    "credit_history_notnull_total_income = credit_history[credit_history['total_income'].notnull()].groupby(['income_type', 'education_id', 'gender']).agg({'total_income': 'median'})\n",
    "credit_history_notnull_total_income.rename(columns={'total_income': 'total_income_median'}, inplace = True)\n",
    "\n",
    "credit_history = credit_history.merge(credit_history_notnull_total_income, on=['income_type', 'education_id', 'gender'], how = 'left')\n",
    "credit_history.loc[credit_history['total_income'].isnull(), 'total_income'] = credit_history['total_income_median']\n",
    "credit_history.drop(columns=['total_income_median'], inplace = True)\n",
    "\n",
    "\n",
    "# credit_history\n",
    "\n",
    "# credit_history[credit_history['days_employed'].isnull()].groupby(['children', 'education_id', 'family_status_id', 'gender', 'income_type']).median()['days_employed']"
   ]
  },
  {
   "cell_type": "markdown",
   "metadata": {},
   "source": [
    "----------\n",
    "\n",
    "## <span style=\"color:green\">Комментарий от наставника<span>\n",
    "\n",
    "### Что нужно доработать:\n",
    "\n",
    "Почему именно медианной заполнил пропуски?\n",
    "> Доход относится к количественным переменным и может варьироваться в широком диапазоне. Чтобы избежать влияния отдельных высоких и низких зарплат выбрал медиану\n",
    "---------"
   ]
  },
  {
   "cell_type": "markdown",
   "metadata": {},
   "source": [
    "## Замена типов <span style=\"color:green;font-size:200%\">&#10003;</span>\n",
    "Доход можно привести к int"
   ]
  },
  {
   "cell_type": "code",
   "execution_count": 26,
   "metadata": {},
   "outputs": [],
   "source": [
    "try:\n",
    "    credit_history['total_income'] = credit_history['total_income'].astype('int')\n",
    "except:\n",
    "     print('преобразование не удалось')"
   ]
  },
  {
   "cell_type": "markdown",
   "metadata": {},
   "source": [
    "----------\n",
    "\n",
    "## <span style=\"color:green\">Комментарий от наставника<span>\n",
    "\n",
    "Отлично, хорошо, что использовал try, except\n",
    "    \n",
    "---------"
   ]
  },
  {
   "cell_type": "markdown",
   "metadata": {},
   "source": [
    "## Поиск и удаление дубликатов <span style=\"color:green;font-size:200%\">&#10003;</span>"
   ]
  },
  {
   "cell_type": "code",
   "execution_count": 27,
   "metadata": {},
   "outputs": [
    {
     "name": "stdout",
     "output_type": "stream",
     "text": "Количество дубликатов ДО удаления: 0\nКоличество дубликатов ПОСЛЕ удаления: 0\n"
    }
   ],
   "source": [
    "print('Количество дубликатов ДО удаления:', credit_history.duplicated().sum())\n",
    "credit_history = credit_history.drop_duplicates().reset_index(drop = True)\n",
    "print('Количество дубликатов ПОСЛЕ удаления:', credit_history.duplicated().sum())\n",
    "# credit_history"
   ]
  },
  {
   "cell_type": "markdown",
   "metadata": {},
   "source": [
    "----------\n",
    "\n",
    "## <span style=\"color:green\">Комментарий от наставника<span>\n",
    "\n",
    "\n",
    "### Что нужно доработать:\n",
    "\n",
    "Перед удалением полезно посмотреть какой объём выборки затронет операция\n",
    "> Добавил вывод\n",
    "\n",
    "---------"
   ]
  },
  {
   "cell_type": "markdown",
   "metadata": {},
   "source": [
    "## Выделение леммы  и группировка для Цели кредита <span style=\"color:green;font-size:200%\">&#10003;</span>\n",
    "\n",
    "После лемматизации получил список слов и частоту. Удалил предлоги и общие слова. Обобщил до категорий\n",
    "* недвижимость       6349 --> недвижимость\n",
    "* жилье              4458 --> недвижимость / ремонт\n",
    "* автомобиль         4305 --> автомобиль\n",
    "* образование        4013 --> образование\n",
    "* операция           2604 --> недвижимость\n",
    "* свадьба            2323 --> свадьба\n",
    "* строительство      1877 --> недвижимость\n",
    "* высокий            1374 --> образование\n",
    "* коммерческий       1311 --> недвижимость\n",
    "* жилой              1229 --> недвижимость\n",
    "* дополнительный      906 --> образование\n",
    "* заниматься          904 --> образование\n",
    "* проведение          767 --> свадьба\n",
    "* сдача               650 --> недвижимость\n",
    "* семья               638 --> недвижимость\n",
    "* собственный         634 --> недвижимость\n",
    "* ремонт              606 --> ремонт\n",
    "* подержанный         486 --> автомобиль\n",
    "* подержать           478 --> автомобиль\n",
    "* приобретение        461 --> автомобиль\n",
    "* профильный          436 --> образование\n",
    "\n",
    "#### На что берут кредит:\n",
    "* недвижимость\n",
    "* автомобиль\n",
    "* образование\n",
    "* свадьба\n",
    "* ремонт\n",
    "\n",
    "#### Добавляем в датасет цель кредита с помощью полученного словаря\n",
    "\n",
    "\n"
   ]
  },
  {
   "cell_type": "code",
   "execution_count": 28,
   "metadata": {},
   "outputs": [
    {
     "data": {
      "text/plain": "недвижимость    10225\nавтомобиль       4314\nобразование      4022\nсвадьба          2347\nремонт            611\nName: purpose_group, dtype: int64"
     },
     "execution_count": 28,
     "metadata": {},
     "output_type": "execute_result"
    }
   ],
   "source": [
    "m = Mystem()\n",
    "\n",
    "def text_to_lemma(text):\n",
    "    return m.lemmatize(text)\n",
    "\n",
    "credit_history['purpose_lemma'] = credit_history['purpose'].apply(text_to_lemma)\n",
    "\n",
    "words = credit_history['purpose_lemma'].apply(pd.Series)\n",
    "words_list = words.values.ravel()\n",
    "pd.value_counts(pd.Series(words_list))\n",
    "\n",
    "# Фильтровал датасет по словам, проверял соответствие слов категориям\n",
    "# credit_history[credit_history.purpose_lemma.apply(lambda x: 'ремонт' in x)]\n",
    "# credit_history[credit_history.purpose_lemma.apply(lambda x: 'заниматься' in x)]\n",
    "# credit_history[credit_history.purpose_lemma.apply(lambda x: 'высокий' in x)]\n",
    "# credit_history[credit_history.purpose_lemma.apply(lambda x: 'профильный' in x)]\n",
    "\n",
    "# добавляем группировку\n",
    "def group_lemma(lemma):\n",
    "    if 'ремонт' in lemma:\n",
    "        return 'ремонт'\n",
    "    elif 'недвижимость' in lemma:\n",
    "        return 'недвижимость'\n",
    "    elif 'жилье' in lemma:\n",
    "        return 'недвижимость'\n",
    "    elif 'автомобиль' in lemma:\n",
    "        return 'автомобиль'\n",
    "    elif 'образование' in lemma:\n",
    "        return 'образование'\n",
    "    elif 'операция' in lemma:\n",
    "        return 'недвижимость'\n",
    "    elif 'свадьба' in lemma:\n",
    "        return 'свадьба'\n",
    "    elif 'строительство' in lemma:\n",
    "        return 'недвижимость'\n",
    "    elif 'высокий' in lemma:\n",
    "        return 'образование'\n",
    "    elif 'коммерческий' in lemma:\n",
    "        return 'недвижимость'\n",
    "    elif 'жилой' in lemma:\n",
    "        return 'недвижимость'\n",
    "    elif 'дополнительный' in lemma:\n",
    "        return 'образование'\n",
    "    elif 'заниматься' in lemma:\n",
    "        return 'образование'\n",
    "    elif 'проведение' in lemma:\n",
    "        return 'свадьба'\n",
    "    elif 'сдача' in lemma:\n",
    "        return 'недвижимость'\n",
    "    elif 'семья' in lemma:\n",
    "        return 'недвижимость'\n",
    "    elif 'собственный' in lemma:\n",
    "        return 'недвижимость'\n",
    "    elif 'подержанный' in lemma:\n",
    "        return 'автомобиль'\n",
    "    elif 'подержать' in lemma:\n",
    "        return 'автомобиль'\n",
    "    elif 'приобретение' in lemma:\n",
    "        return 'автомобиль'\n",
    "    elif 'профильный' in lemma:\n",
    "        return 'образование'\n",
    "\n",
    "    return 'другое'\n",
    "\n",
    "credit_history['purpose_group'] = credit_history['purpose_lemma'].apply(group_lemma)\n",
    "credit_history.purpose_group.value_counts()\n",
    "    \n"
   ]
  },
  {
   "cell_type": "markdown",
   "metadata": {},
   "source": [
    "----------\n",
    "\n",
    "## <span style=\"color:green\">Комментарий от наставника<span>\n",
    "\n",
    "### Что нужно доработать:\n",
    "\n",
    "1. Когда пишешь код это действительно бывает удобно постпавить импорт в середину файла, но я б рекомоендовал убирать все импорты  в начало файла, подгружая таким образом все необходимые модули сразу \n",
    "> убрал в начало\n",
    "1. Отличное решение. В данной задаче всего 5 категорий и ты решил задачу наиболее простым способом. А что делать если категорий больше?\n",
    "> в общем случае можно прикрутить NLP, гуглил бы что-то типа такого https://towardsdatascience.com/text-classification-in-python-dd95d264c802\n",
    "---------"
   ]
  },
  {
   "cell_type": "markdown",
   "metadata": {},
   "source": [
    "----------\n",
    "\n",
    "## <span style=\"color:red\">Комментарий от наставника<span>\n",
    "\n",
    "Применение NLP тут не целесообразно. Я имел ввиду более простое решение средствами Python. Подумай, но это задачка со звездочкой. Приму и без неё."
   ]
  },
  {
   "cell_type": "markdown",
   "metadata": {},
   "source": [
    "## !! Второй вариант категоризации\n",
    "Выведем все леммы"
   ]
  },
  {
   "cell_type": "code",
   "execution_count": 36,
   "metadata": {},
   "outputs": [],
   "source": [
    "# credit_history['purpose_lemma'].value_counts()"
   ]
  },
  {
   "cell_type": "markdown",
   "metadata": {},
   "source": [
    "* Составим справочник \"лишних\" слов и удалим их из массива. Можно было бы составить список \"нужных\" слов и удалить все остальные, но тогда мы могли бы удалить лишнее при обновлении датасета\n",
    "* переименуем \"жилье\" в \"недвижимость\"\n"
   ]
  },
  {
   "cell_type": "code",
   "execution_count": 38,
   "metadata": {},
   "outputs": [],
   "source": [
    "unnecessary_words = ['операция', 'покупка', 'проведение', 'сыграть', 'коммерческий', 'свой', 'для', \n",
    "                     'сдача', 'семья', 'собственный', 'строительство', 'жилой', 'высокий', 'заниматься', 'получение',\n",
    "                    'дополнительный', 'подержанный', 'сделка', 'подержать', 'приобретение', 'профильный', 'ремонт',\n",
    "                    ' ', '\\n', 'на', 'с', 'со']\n",
    "\n",
    "def purpose_del_unnecessary_words(purpose):\n",
    "    purpose_proc = []\n",
    "    for word in purpose:\n",
    "        if word not in unnecessary_words:\n",
    "            if word == 'жилье':\n",
    "                word = 'недвижимость'\n",
    "            purpose_proc.append(word)\n",
    "    return purpose_proc\n",
    "\n",
    "credit_history['purpose_lemma_category'] = credit_history['purpose_lemma'].apply(purpose_del_unnecessary_words)\n",
    "# credit_history['purpose_lemma_category'].value_counts()\n"
   ]
  },
  {
   "cell_type": "markdown",
   "metadata": {},
   "source": [
    "Категория \"ремонт\" попала в \"недвижимость\". В первом варианте мы рассматривали \"ремонт\" на одном уровне с \"недвижимостью\" и \"автомобилями\", хотя \"ремонт\" - подкатегория категории \"недвижимости\"."
   ]
  },
  {
   "cell_type": "markdown",
   "metadata": {},
   "source": [
    "# Задание2\n",
    "## Есть ли зависимость между наличием детей и возвратом кредита в срок? <span style=\"color:green;font-size:200%\">&#10003;</span>\n",
    "##### Ответ: Да, есть\n",
    "Сгруппируем данные по столбцу children. Если кол-во детей 0, то пишем 'нет детей', если больше 0, то 'есть дети'\n",
    "У заёмщиков с детьми доля кредитов с просрочкой выше: 9,16% против 7,51%.\n",
    "Можно посмотреть внимательнее на категорию с детьми, разделив их по количеству детей. Доля просрочки в категории 2+ детей выше чем в категории с одним ребёнком(9,25% и 9,14%). "
   ]
  },
  {
   "cell_type": "code",
   "execution_count": 39,
   "metadata": {},
   "outputs": [
    {
     "name": "stdout",
     "output_type": "stream",
     "text": "debt_text children_group  есть просрочка  нет просрочки  % просрочки\n1              нет детей            1063          13082     7.515023\n0              есть дети             676           6698     9.167345\ndebt_text   children_count_group  есть просрочка  нет просрочки  % просрочки\n1                      нет детей            1063          13082     7.515023\n2                   один ребёнок             444           4420     9.128289\n0          больше одного ребёнка             232           2278     9.243028\n"
    }
   ],
   "source": [
    "def children_group(children):\n",
    "    if children == 0:\n",
    "        return 'нет детей'\n",
    "    else:\n",
    "        return 'есть дети'\n",
    "    \n",
    "def debt_text(debt):\n",
    "    if debt == 0:\n",
    "        return 'нет просрочки'\n",
    "    else:\n",
    "        return 'есть просрочка'\n",
    "\n",
    "def children_count_group(children):\n",
    "    if children == 0:\n",
    "        return 'нет детей'\n",
    "    elif children == 1:\n",
    "        return 'один ребёнок'\n",
    "    else:\n",
    "        return 'больше одного ребёнка'\n",
    "\n",
    "credit_history['children_group'] = credit_history['children'].apply(children_group)\n",
    "credit_history['debt_text'] = credit_history['debt'].apply(debt_text)\n",
    "credit_history_children_group_debt = credit_history.pivot_table(index=['children_group'], columns = 'debt_text', values='children', aggfunc = 'count').reset_index()\n",
    "credit_history_children_group_debt['% просрочки'] = credit_history_children_group_debt['есть просрочка'] / (credit_history_children_group_debt['есть просрочка'] + credit_history_children_group_debt['нет просрочки']) * 100\n",
    "print(credit_history_children_group_debt.sort_values(by='% просрочки'))\n",
    "\n",
    "credit_history['children_count_group'] = credit_history['children'].apply(children_count_group)\n",
    "credit_history_children_debt = credit_history.pivot_table(index=['children_count_group'], columns = 'debt_text', values='debt', aggfunc = 'count').reset_index()\n",
    "credit_history_children_debt['% просрочки'] = credit_history_children_debt['есть просрочка'] / (credit_history_children_debt['есть просрочка'] + credit_history_children_debt['нет просрочки']) * 100\n",
    "print(credit_history_children_debt.sort_values(by='% просрочки'))\n",
    "\n"
   ]
  },
  {
   "cell_type": "markdown",
   "metadata": {},
   "source": [
    "### Есть ли зависимость между семейным положением и возвратом кредита в срок? <span style=\"color:green;font-size:200%\">&#10003;</span>\n",
    "##### Ответ: Да, есть\n",
    "\n",
    "Группируем данные по семейному статусу и считаем % просрочки как в предыдущем пункте. Видим что для вдовцов процент просрочки самый низкий, для не женатых самый высокий. Возникла гипотеза что определяющим является не семейный статус, а возраст. Чтобы это проверить разделим пользователей на возрастные группы по квантилям(\"19-33\", \"33-43\", \"43-53\", \"53+\") и посмотрим есть ли зависимость по просрочке внутри этих возрастных групп. <br>\n",
    "Как мы видим, внутри каждой возрастной группы разброс по семейному статусу существенный. Значит семейный статус действительно важен"
   ]
  },
  {
   "cell_type": "code",
   "execution_count": 40,
   "metadata": {},
   "outputs": [
    {
     "name": "stdout",
     "output_type": "stream",
     "text": "debt_text          family_status  есть просрочка  нет просрочки  % просрочки\n1                 вдовец / вдова              63            897     6.562500\n0                      в разводе              85           1110     7.112971\n3                женат / замужем             929          11448     7.505858\n2               гражданский брак             388           3787     9.293413\n4          не женат / не замужем             274           2538     9.743954\ndebt_text dob_years_group          family_status  % просрочки\n0                 19 - 33              в разводе    13.375796\n1                 19 - 33         вдовец / вдова     9.090909\n2                 19 - 33       гражданский брак    11.220472\n3                 19 - 33        женат / замужем    10.357583\n4                 19 - 33  не женат / не замужем    12.105712\n5                 33 - 43              в разводе     5.974843\n6                 33 - 43         вдовец / вдова     6.060606\n7                 33 - 43       гражданский брак    10.000000\n8                 33 - 43        женат / замужем     8.258135\n9                 33 - 43  не женат / не замужем     9.920000\n10                43 - 53              в разводе     6.571429\n11                43 - 53         вдовец / вдова     6.097561\n12                43 - 53       гражданский брак     8.902692\n13                43 - 53        женат / замужем     6.668857\n14                43 - 53  не женат / не замужем     8.768267\n15                    53+              в разводе     5.945946\n16                    53+         вдовец / вдова     6.675939\n17                    53+       гражданский брак     6.815870\n18                    53+        женат / замужем     5.303731\n19                    53+  не женат / не замужем     5.233645\n"
    }
   ],
   "source": [
    "credit_history_family_status_debt = credit_history.pivot_table(index=['family_status'], columns = 'debt_text', values='children', aggfunc = 'count').reset_index()\n",
    "credit_history_family_status_debt\n",
    "credit_history_family_status_debt['% просрочки'] = credit_history_family_status_debt['есть просрочка'] / (credit_history_family_status_debt['есть просрочка'] + credit_history_family_status_debt['нет просрочки']) * 100\n",
    "print(credit_history_family_status_debt.sort_values(by='% просрочки'))\n",
    "\n",
    "# Считаем квантили\n",
    "# credit_history['dob_years'].quantile(q=0.25)\n",
    "# credit_history['dob_years'].quantile(q=0.5)\n",
    "# credit_history['dob_years'].quantile(q=0.75)\n",
    "\n",
    "def dob_years_group(dob_years):\n",
    "    if dob_years < 33:\n",
    "        return '19 - 33'\n",
    "    elif dob_years < 43:\n",
    "        return '33 - 43'\n",
    "    elif dob_years < 53:\n",
    "        return '43 - 53'\n",
    "    else:\n",
    "        return '53+'\n",
    "credit_history['dob_years_group'] = credit_history['dob_years'].apply(dob_years_group)\n",
    "    \n",
    "credit_history_family_status_debt = credit_history.pivot_table(index=['dob_years_group', 'family_status'], columns = 'debt_text', values='children', aggfunc = 'count').reset_index()\n",
    "credit_history_family_status_debt\n",
    "credit_history_family_status_debt['% просрочки'] = credit_history_family_status_debt['есть просрочка'] / (credit_history_family_status_debt['есть просрочка'] + credit_history_family_status_debt['нет просрочки']) * 100\n",
    "print(credit_history_family_status_debt[['dob_years_group', 'family_status', '% просрочки']])"
   ]
  },
  {
   "cell_type": "markdown",
   "metadata": {},
   "source": [
    "----------\n",
    "\n",
    "## <span style=\"color:green\">Комментарий от наставника<span>\n",
    "\n",
    "Хорошая работа и интересные выводы\n",
    "\n",
    "---------"
   ]
  },
  {
   "cell_type": "markdown",
   "metadata": {},
   "source": [
    "### Есть ли зависимость между уровнем дохода и возвратом кредита в срок? <span style=\"color:green;font-size:200%\">&#10003;</span>\n",
    "\n",
    "##### Ответ: Да, есть\n",
    "Сгруппируем уровень дохода по квантиям и посмотрим на уровень просрочки внутри них. Самый низкий процент просрочки у самых обеспеченных заёмщиков - 7,06%. Далее идут самые бедные - 7,92%. \"средний класс\" платит хуже всех - 8,7%."
   ]
  },
  {
   "cell_type": "code",
   "execution_count": 41,
   "metadata": {},
   "outputs": [
    {
     "name": "stdout",
     "output_type": "stream",
     "text": "debt_text total_income_group  есть просрочка  нет просрочки  % просрочки\n3                    196883+             379           4984     7.066940\n0                 0 - 107516             425           4937     7.926147\n1            107516 - 144881             457           4854     8.604783\n2            144881 - 196883             478           5005     8.717855\n"
    }
   ],
   "source": [
    "# Считаем квантили\n",
    "# credit_history['total_income'].quantile(q=0.25)\n",
    "# credit_history['total_income'].quantile(q=0.5)\n",
    "# credit_history['total_income'].quantile(q=0.75)\n",
    "\n",
    "def total_income_group(total_income):\n",
    "    if total_income < 107516:\n",
    "        return '0 - 107516'\n",
    "    elif total_income < 144881:\n",
    "        return '107516 - 144881'\n",
    "    elif total_income < 196883:\n",
    "        return '144881 - 196883'\n",
    "    else:\n",
    "        return '196883+'\n",
    "\n",
    "credit_history['total_income_group'] = credit_history['total_income'].apply(total_income_group)\n",
    "\n",
    "credit_history_total_income_group_debt = credit_history.pivot_table(index=['total_income_group'], columns = 'debt_text', values='children', aggfunc = 'count').reset_index()\n",
    "credit_history_total_income_group_debt\n",
    "credit_history_total_income_group_debt['% просрочки'] = credit_history_total_income_group_debt['есть просрочка'] / (credit_history_total_income_group_debt['есть просрочка'] + credit_history_total_income_group_debt['нет просрочки']) * 100\n",
    "print(credit_history_total_income_group_debt.sort_values(by='% просрочки'))"
   ]
  },
  {
   "cell_type": "markdown",
   "metadata": {},
   "source": [
    "### Как разные цели кредита влияют на его возврат в срок? <span style=\"color:green;font-size:200%\">&#10003;</span>\n",
    "\n",
    "Кредит на ремонт берут редко, но возвращают лучше всего. К кредитам по недвижимости заёмщики относятся ответственно. К кредитам на образование и автомобиль - нет."
   ]
  },
  {
   "cell_type": "code",
   "execution_count": 42,
   "metadata": {},
   "outputs": [
    {
     "name": "stdout",
     "output_type": "stream",
     "text": "debt_text purpose_group  есть просрочка  нет просрочки  % просрочки\n3                ремонт              35            576     5.728314\n1          недвижимость             746           9479     7.295844\n4               свадьба             186           2161     7.925011\n2           образование             370           3652     9.199403\n0            автомобиль             402           3912     9.318498\n"
    }
   ],
   "source": [
    "credit_history_purpose_group_debt = credit_history.pivot_table(index=['purpose_group'], columns = 'debt_text', values='children', aggfunc = 'count').reset_index()\n",
    "credit_history_purpose_group_debt\n",
    "credit_history_purpose_group_debt['% просрочки'] = credit_history_purpose_group_debt['есть просрочка'] / (credit_history_purpose_group_debt['есть просрочка'] + credit_history_purpose_group_debt['нет просрочки']) * 100\n",
    "print(credit_history_purpose_group_debt.sort_values(by='% просрочки'))"
   ]
  },
  {
   "cell_type": "markdown",
   "metadata": {},
   "source": [
    "----------\n",
    "\n",
    "## <span style=\"color:green\">Комментарий от наставника<span>\n",
    "\n",
    "Хорошее, удобное и понятное представление информации\n",
    "\n",
    "### Что можно сделать лучше:\n",
    "\n",
    "В твоих выводах нет гипотез о причинах таких зависимостей. Было бы полезно и интересно накидать гипотезы.\n",
    "> Гипотезы:\n",
    "> * Те, кто официально оформляют отношения, в целом более ответственные\n",
    "> * Чем больше детей, тем выше постоянные расходы и ниже накопления. Заёмщик скорее просрочит кредит, чем сэкономит на детях\n",
    "> * Если доход высокий, то есть накопления из-за этого вероятность просрочки ниже\n",
    "> * Заёмщики с низкими доходами предпочитают занять у друзей и не быть должными банку, средний класс рассчитывает больше на себя\n",
    "\n",
    "\n",
    "\n",
    "---------"
   ]
  },
  {
   "cell_type": "markdown",
   "metadata": {},
   "source": [
    "----------\n",
    "\n",
    "## <span style=\"color:red\">Комментарий от наставника<span>\n",
    "\n",
    "Супер!"
   ]
  },
  {
   "cell_type": "markdown",
   "metadata": {},
   "source": [
    "### Вывод\n",
    "\n",
    "Кредит - сложный продукт, на возврат которого влияет множество факторов. \n",
    "* Чем меньше детей, тем лучше заёмщик\n",
    "* Те, кто были или состоят в официальном браке(женат, в разводе, вдовец) платят лучше, чем те, кто не оформляли отношения\n",
    "* Богатые и бедные возвращают кредиты лучше, чем средний класс\n",
    "* Каждый десятый кредит на автомобиль и образование выплачивается с просрочкой. Кредит на ремонт выплачивается лучше всего\n",
    "\n",
    "##### Для более глубокого анализа не хватает данных по сумме кредита"
   ]
  },
  {
   "cell_type": "markdown",
   "metadata": {},
   "source": [
    "----------\n",
    "\n",
    "## <span style=\"color:green\">Комментарий от наставника<span>\n",
    "\n",
    "С почином! Ты молодец! В целом неплохая работа. Вот несколько выводов:\n",
    "\n",
    "1. У тебя хороший и понятный код\n",
    "1. Нужно поработать над структурой подачи материала. Разбить на шига и комментирова их. Это улучшитьт восприятие твоей работы\n",
    "1. Нужно приводить промежуточные вычисления и цифры, даже если они очевидны для тебя. Твою работу может читать человек не так сильно погруженный в тему\n",
    "1. Старайся записывать возможные гипотезы отсутствия или сомнения в данных, которые затем нужно перепроверить\n",
    "1. Есть несколько предложений как можно улучшить работу\n",
    "1. Во второй части работы есть инсайты и понятные хорошие выводы\n",
    "\n",
    "**Доделай пункты отмеченные: \"Что нужно доработать\" и я жду твой проект**\n",
    "\n",
    "---------"
   ]
  },
  {
   "cell_type": "markdown",
   "metadata": {},
   "source": [
    "----------\n",
    "\n",
    "## <span style=\"color:red\">Комментарий от наставника<span>\n",
    "\n",
    "**Прошу доработай струкутру в начале проекта**"
   ]
  },
  {
   "cell_type": "markdown",
   "metadata": {},
   "source": [
    "----------\n",
    "\n",
    "## <span style=\"color:green\">Комментарий от наставника<span>\n",
    "\n",
    "Поздравляю со сдачей первого проекта!\n",
    "Отличная работа!\n",
    "\n",
    "---------"
   ]
  },
  {
   "cell_type": "code",
   "execution_count": null,
   "metadata": {},
   "outputs": [],
   "source": []
  }
 ],
 "metadata": {
  "kernelspec": {
   "display_name": "Python 3",
   "language": "python",
   "name": "python3"
  },
  "language_info": {
   "codemirror_mode": {
    "name": "ipython",
    "version": 3
   },
   "file_extension": ".py",
   "mimetype": "text/x-python",
   "name": "python",
   "nbconvert_exporter": "python",
   "pygments_lexer": "ipython3",
   "version": "3.7.6-final"
  }
 },
 "nbformat": 4,
 "nbformat_minor": 2
}