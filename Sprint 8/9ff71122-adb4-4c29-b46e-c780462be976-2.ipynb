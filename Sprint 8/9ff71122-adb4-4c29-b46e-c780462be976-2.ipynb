{
 "cells": [
  {
   "cell_type": "markdown",
   "metadata": {},
   "source": [
    "# <span style=\"color:Green\">Комментарий от наставника</span>\n",
    "\n",
    "Привет, меня зовут Дмитрий, наставник в твоей группе. Мои комментарии - <span style=\"color:DarkGreen\">**зеленого**</span> цвета, со временной меткой формата **YYYY-MM-DD**.\n",
    "\n",
    "</span>"
   ]
  },
  {
   "cell_type": "markdown",
   "metadata": {},
   "source": [
    "# Описание проекта"
   ]
  },
  {
   "cell_type": "markdown",
   "metadata": {},
   "source": [
    "Допустим, вы работаете в добывающей компании «ГлавРосГосНефть». Нужно решить, где бурить новую скважину.\n",
    "\n",
    "Вам предоставлены пробы нефти в трёх регионах: в каждом 10 000 месторождений, где измерили качество нефти и объём её запасов. Постройте модель машинного обучения, которая поможет определить регион, где добыча принесёт наибольшую прибыль. Проанализируйте возможную прибыль и риски техникой *Bootstrap.*\n",
    "\n",
    "Шаги для выбора локации:\n",
    "\n",
    "- В избранном регионе ищут месторождения, для каждого определяют значения признаков;\n",
    "- Строят модель и оценивают объём запасов;\n",
    "- Выбирают месторождения с самым высокими оценками значений. Количество месторождений зависит от бюджета компании и стоимости разработки одной скважины;\n",
    "- Прибыль равна суммарной прибыли отобранных месторождений."
   ]
  },
  {
   "cell_type": "markdown",
   "metadata": {},
   "source": [
    "Проект был практически готов, но при перепроверке возникло странное обстоятельство. В условии сказано что в каждом регионе 10000(десять тысяч) месторождений. В разделе Описание данных пишут id - уникальный идентификатор месторождения. Но в файлах по 100000(сто тысяч) строк. Может в файлах - данные проб, типа 10 проб на одно месторождение? Или месторождений сто тысяч? Возможно из-за этого у меня все три датасета показали выручку около 100млрд и нулевые риски убытков.<br>\n",
    "В общем я отправляю как есть, но готов все переделать если что :)"
   ]
  },
  {
   "cell_type": "markdown",
   "metadata": {},
   "source": [
    "<span style=\"color:Green\">\n",
    "\n",
    "**2019-12-18 DD**\n",
    "\n",
    "Согласен, что месторождения по данным настолько \"щёдрые\", что остаться без прибыли практически невозможно. Однако, показать и даже доказать это бизнесу всё равно есть задача. Но, основной задачей я бы всё-таки представил себе оценку риска, что подход с моделью будет приносить меньше денег, чем прежний подход. В этом смысле абсолютные величиные прибыли не важны, а важны относительные (разница в доходе между двумя подходами).\n",
    "\n",
    "Я немного порассуждал какая могла бы быть интерпретация по ссылке https://praktikum-ds.slack.com/archives/GN1E9R98C/p1576352597000300?thread_ts=1576067930.236100&cid=GN1E9R98C.\n",
    "\n",
    "</span>"
   ]
  },
  {
   "cell_type": "markdown",
   "metadata": {},
   "source": [
    "┌┌┌┌┌┌┌┌┌┌┌┌┌┌┌┌┌┌┌┌┌┌┌┌┌┌┌┌┌┌┌┌┌┌┌┌┌┌┌┌\n",
    "┌┌┌┌┌┌┌┌┌┌┌█████┌┌┌┌┌┌┌┌┌┌┌┌┌┌┌┌┌┌┌┌┌┌┌┌\n",
    "┌┌┌┌┌┌┌┌┌┌███████┌┌┌┌┌┌┌┌┌┌┌┌┌┌┌┌┌┌┌┌┌┌┌\n",
    "┌┌┌┌┌┌┌┌┌███┌┌┌██┌┌┌┌┌┌┌┌┌┌┌┌┌┌┌┌┌┌┌┌┌┌┌\n",
    "┌┌┌┌┌┌┌┌┌██┌┌┌┌██┌┌┌┌┌┌┌┌┌┌┌┌┌┌┌┌┌┌┌┌┌┌┌\n",
    "┌┌┌┌┌┌┌┌███┌┌┌┌███┌┌┌┌┌┌┌┌┌┌┌┌┌┌┌┌┌┌┌┌┌┌\n",
    "┌┌┌┌┌┌┌┌███┌┌┌┌███┌┌┌┌┌┌┌┌┌┌┌┌┌┌┌┌┌┌┌┌┌┌\n",
    "┌┌┌┌┌┌┌┌┌██┌┌┌┌┌███┌┌┌┌┌┌┌┌┌┌┌┌┌┌┌┌┌┌┌┌┌\n",
    "┌┌┌┌┌┌┌┌┌███┌┌┌┌┌███┌┌┌┌┌┌┌┌┌┌┌┌┌┌┌┌┌┌┌┌\n",
    "┌┌┌┌┌┌┌┌┌┌███┌┌┌┌┌████┌┌┌┌┌┌┌┌┌┌┌┌┌┌┌┌┌┌\n",
    "┌┌┌┌┌┌┌┌┌┌┌██┌┌┌┌┌┌████┌┌┌┌┌┌┌┌┌┌┌┌┌┌┌┌┌\n",
    "┌┌┌┌┌┌┌┌┌┌┌███┌┌┌┌┌┌┌███┌┌┌┌┌┌┌┌┌┌┌┌┌┌┌┌\n",
    "┌┌┌┌┌┌┌┌┌┌┌┌███┌┌┌┌┌┌┌███┌┌┌┌┌┌┌┌┌┌┌┌┌┌┌\n",
    "┌┌┌┌┌┌┌┌┌┌┌┌███┌┌┌┌┌┌┌┌███┌┌┌┌┌┌┌┌┌┌┌┌┌┌\n",
    "┌┌┌┌┌┌┌┌┌┌┌┌┌██┌┌┌┌┌┌┌┌┌┌███┌┌┌┌┌┌┌┌┌┌┌┌\n",
    "┌┌┌┌┌┌┌┌┌███┌███┌┌┌┌┌┌┌┌┌┌██┌┌┌┌┌┌┌┌┌┌┌┌\n",
    "┌┌┌┌████████████┌┌┌┌┌┌┌┌┌┌┌███┌┌┌┌┌┌┌┌┌┌\n",
    "┌┌████████┌┌┌┌┌┌┌┌┌┌┌┌┌┌┌┌┌┌███┌┌┌┌┌┌┌┌┌\n",
    "┌███┌┌┌┌┌┌┌┌┌┌┌┌┌┌┌┌┌┌┌┌┌┌┌┌┌█████████┌┌\n",
    "███┌┌┌┌█████████┌┌┌┌┌┌┌┌┌┌┌┌┌┌┌┌┌┌█████┌\n",
    "██┌┌┌███████┌████┌┌┌┌┌┌┌┌┌┌┌┌┌┌┌┌┌┌┌███┌\n",
    "██┌┌┌┌███┌┌┌┌┌┌┌███┌┌┌┌┌┌┌┌┌┌┌┌┌┌┌┌┌┌██┌\n",
    "███┌┌┌┌┌┌┌┌┌┌┌█████┌┌┌┌┌┌┌┌┌┌┌┌┌┌┌┌┌┌██┌\n",
    "┌███┌┌┌┌┌┌┌████████┌┌┌┌┌┌┌┌┌┌┌┌┌┌┌┌┌┌██┌\n",
    "┌┌████████████┌┌┌████┌┌┌┌┌┌┌┌┌┌┌┌┌┌┌┌██┌\n",
    "┌███┌██████┌┌┌┌┌┌┌████┌┌┌┌┌┌┌┌┌┌┌┌┌┌┌██┌\n",
    "┌███┌┌┌┌┌┌┌┌┌┌┌██████┌┌┌┌┌┌┌┌┌┌┌┌┌┌┌┌██┌\n",
    "┌┌████┌████┌██████████┌┌┌┌┌┌┌┌┌┌┌┌┌┌┌██┌\n",
    "┌┌┌████████████┌┌┌┌┌███┌┌┌┌┌┌┌┌┌┌┌┌┌███┌\n",
    "┌┌┌┌██┌┌┌┌┌┌┌┌┌┌┌███████┌┌┌┌┌┌┌███████┌┌\n",
    "┌┌┌┌████┌┌┌┌┌┌████████┌┌┌┌┌┌┌┌████████┌┌\n",
    "┌┌┌┌┌████████████┌┌┌███┌┌┌┌┌███┌┌┌┌┌┌┌┌┌\n",
    "┌┌┌┌┌┌┌┌███┌█┌█┌┌┌┌┌┌███┌┌┌███┌┌┌┌┌┌┌┌┌┌\n",
    "┌┌┌┌┌┌┌┌███┌┌┌┌┌┌█████┌┌█████┌┌┌┌┌┌┌┌┌┌┌\n",
    "┌┌┌┌┌┌┌┌┌██████████████████┌┌┌┌┌┌┌┌┌┌┌┌┌\n",
    "┌┌┌┌┌┌┌┌┌┌██████████████┌┌┌┌┌┌┌┌┌┌┌┌┌┌┌┌\n",
    "┌┌┌┌┌┌┌┌┌┌┌┌┌┌┌┌┌┌┌┌┌┌┌┌┌┌┌┌┌┌┌┌┌┌┌┌┌┌┌┌\n"
   ]
  },
  {
   "cell_type": "markdown",
   "metadata": {},
   "source": [
    "<span style=\"color:Green\">\n",
    "\n",
    "**2019-12-19 DD**\n",
    "\n",
    "Старый добрый ASCII-арт!\n",
    "\n",
    "</span>"
   ]
  },
  {
   "cell_type": "markdown",
   "metadata": {},
   "source": [
    "Библиотеки"
   ]
  },
  {
   "cell_type": "code",
   "execution_count": 21,
   "metadata": {},
   "outputs": [],
   "source": [
    "import pandas as pd\n",
    "import matplotlib.pyplot as plt\n",
    "import seaborn as sns\n",
    "from sklearn.model_selection import train_test_split\n",
    "from sklearn.linear_model import LinearRegression\n",
    "from sklearn.metrics import mean_squared_error\n",
    "from numpy.random import RandomState\n",
    "from scipy import stats as st\n",
    "from pathlib import Path\n",
    "path = Path.cwd()"
   ]
  },
  {
   "cell_type": "markdown",
   "metadata": {},
   "source": [
    "Константы"
   ]
  },
  {
   "cell_type": "code",
   "execution_count": 22,
   "metadata": {},
   "outputs": [],
   "source": [
    "RANDOM_STATE = 12345\n",
    "BARREL_PRICE = 4500\n",
    "BUDGET = 10000000000\n",
    "RESEARCH_COUNT = 500\n",
    "BOREHOLE_COUNT = 200\n",
    "BOOTSTRAP_COUNT = 1000"
   ]
  },
  {
   "cell_type": "markdown",
   "metadata": {},
   "source": [
    "Функции"
   ]
  },
  {
   "cell_type": "code",
   "execution_count": 23,
   "metadata": {},
   "outputs": [],
   "source": [
    "# Загрузка данных с флагом удалять дубликаты или нет\n",
    "def preparing(filename, wo_duplicates):\n",
    "    filename='{}/datasets/geo_data_'+str(filename)+'.csv'\n",
    "    filename = filename.format(path)\n",
    "    df = pd.read_csv(filename)\n",
    "    if(wo_duplicates == True):\n",
    "        df['is_duplicated'] = df['id'].duplicated()\n",
    "        df = df[df['is_duplicated'] == False]\n",
    "        \n",
    "    features = df.drop(['id', 'product'], axis=1)\n",
    "    target = df['product']\n",
    "    return df, features, target\n",
    "\n",
    "# Строим модель\n",
    "def lr(features_train, target_train, features_valid):\n",
    "    model = LinearRegression()\n",
    "    model.fit(features_train, target_train)\n",
    "    predicted_valid = model.predict(features_valid)\n",
    "    return predicted_valid\n",
    "\n",
    "# Разделитель\n",
    "def divider(type):\n",
    "    if type == 'sm':\n",
    "        print('-------------------------------')\n",
    "    elif type == 'lg':\n",
    "        print('')\n",
    "        print('---------=================================---------')\n",
    "        print('')\n",
    "\n",
    "# Вывод результата1\n",
    "def print_results1(target_valid, predicted_valid):\n",
    "    print('Реальное среднее значение:')\n",
    "    print('    ', target_valid.mean())\n",
    "    print('Среднее значение модели:')\n",
    "    print('    ', predicted_valid.mean())\n",
    "    print('RMSE модели:')\n",
    "    print('    ', mean_squared_error(target_valid, predicted_valid)**.5)\n",
    "    divider('lg')\n",
    "    \n",
    "# Расчет прибыли по набору скважин\n",
    "def profit(selected_borehole):\n",
    "    total_products = selected_borehole['product'].sum()\n",
    "    return total_products*1000*BARREL_PRICE - BUDGET"
   ]
  },
  {
   "cell_type": "markdown",
   "metadata": {},
   "source": [
    "В функции preparing для features удаляем поле id, тк оно не должно влиять на модель"
   ]
  },
  {
   "cell_type": "markdown",
   "metadata": {},
   "source": [
    "# 1. Загрузка и подготовка данных"
   ]
  },
  {
   "cell_type": "code",
   "execution_count": 24,
   "metadata": {},
   "outputs": [
    {
     "name": "stdout",
     "output_type": "stream",
     "text": "Регион 0:\n<class 'pandas.core.frame.DataFrame'>\nRangeIndex: 100000 entries, 0 to 99999\nData columns (total 6 columns):\n #   Column      Non-Null Count   Dtype  \n---  ------      --------------   -----  \n 0   Unnamed: 0  100000 non-null  int64  \n 1   id          100000 non-null  object \n 2   f0          100000 non-null  float64\n 3   f1          100000 non-null  float64\n 4   f2          100000 non-null  float64\n 5   product     100000 non-null  float64\ndtypes: float64(4), int64(1), object(1)\nmemory usage: 4.6+ MB\nNone\n           Unnamed: 0      id             f0             f1             f2  \\\ncount   100000.000000  100000  100000.000000  100000.000000  100000.000000   \nunique            NaN   99990            NaN            NaN            NaN   \ntop               NaN   fiKDv            NaN            NaN            NaN   \nfreq              NaN       2            NaN            NaN            NaN   \nmean     49999.500000     NaN       0.500419       0.250143       2.502647   \nstd      28867.657797     NaN       0.871832       0.504433       3.248248   \nmin          0.000000     NaN      -1.408605      -0.848218     -12.088328   \n25%      24999.750000     NaN      -0.072580      -0.200881       0.287748   \n50%      49999.500000     NaN       0.502360       0.250252       2.515969   \n75%      74999.250000     NaN       1.073581       0.700646       4.715088   \nmax      99999.000000     NaN       2.362331       1.343769      16.003790   \n\n              product  \ncount   100000.000000  \nunique            NaN  \ntop               NaN  \nfreq              NaN  \nmean        92.500000  \nstd         44.288691  \nmin          0.000000  \n25%         56.497507  \n50%         91.849972  \n75%        128.564089  \nmax        185.364347  \n\n---------=================================---------\n\nРегион 1:\n<class 'pandas.core.frame.DataFrame'>\nRangeIndex: 100000 entries, 0 to 99999\nData columns (total 6 columns):\n #   Column      Non-Null Count   Dtype  \n---  ------      --------------   -----  \n 0   Unnamed: 0  100000 non-null  int64  \n 1   id          100000 non-null  object \n 2   f0          100000 non-null  float64\n 3   f1          100000 non-null  float64\n 4   f2          100000 non-null  float64\n 5   product     100000 non-null  float64\ndtypes: float64(4), int64(1), object(1)\nmemory usage: 4.6+ MB\nNone\n           Unnamed: 0      id             f0             f1             f2  \\\ncount   100000.000000  100000  100000.000000  100000.000000  100000.000000   \nunique            NaN   99996            NaN            NaN            NaN   \ntop               NaN   5ltQ6            NaN            NaN            NaN   \nfreq              NaN       2            NaN            NaN            NaN   \nmean     49999.500000     NaN       1.141296      -4.796579       2.494541   \nstd      28867.657797     NaN       8.965932       5.119872       1.703572   \nmin          0.000000     NaN     -31.609576     -26.358598      -0.018144   \n25%      24999.750000     NaN      -6.298551      -8.267985       1.000021   \n50%      49999.500000     NaN       1.153055      -4.813172       2.011479   \n75%      74999.250000     NaN       8.621015      -1.332816       3.999904   \nmax      99999.000000     NaN      29.421755      18.734063       5.019721   \n\n              product  \ncount   100000.000000  \nunique            NaN  \ntop               NaN  \nfreq              NaN  \nmean        68.825000  \nstd         45.944423  \nmin          0.000000  \n25%         26.953261  \n50%         57.085625  \n75%        107.813044  \nmax        137.945408  \n\n---------=================================---------\n\nРегион 2:\n<class 'pandas.core.frame.DataFrame'>\nRangeIndex: 100000 entries, 0 to 99999\nData columns (total 6 columns):\n #   Column      Non-Null Count   Dtype  \n---  ------      --------------   -----  \n 0   Unnamed: 0  100000 non-null  int64  \n 1   id          100000 non-null  object \n 2   f0          100000 non-null  float64\n 3   f1          100000 non-null  float64\n 4   f2          100000 non-null  float64\n 5   product     100000 non-null  float64\ndtypes: float64(4), int64(1), object(1)\nmemory usage: 4.6+ MB\nNone\n           Unnamed: 0      id             f0             f1             f2  \\\ncount   100000.000000  100000  100000.000000  100000.000000  100000.000000   \nunique            NaN   99996            NaN            NaN            NaN   \ntop               NaN   Vcm5J            NaN            NaN            NaN   \nfreq              NaN       2            NaN            NaN            NaN   \nmean     49999.500000     NaN       0.002023      -0.002081       2.495128   \nstd      28867.657797     NaN       1.732045       1.730417       3.473445   \nmin          0.000000     NaN      -8.760004      -7.084020     -11.970335   \n25%      24999.750000     NaN      -1.162288      -1.174820       0.130359   \n50%      49999.500000     NaN       0.009424      -0.009482       2.484236   \n75%      74999.250000     NaN       1.158535       1.163678       4.858794   \nmax      99999.000000     NaN       7.238262       7.844801      16.739402   \n\n              product  \ncount   100000.000000  \nunique            NaN  \ntop               NaN  \nfreq              NaN  \nmean        95.000000  \nstd         44.749921  \nmin          0.000000  \n25%         59.450441  \n50%         94.925613  \n75%        130.595027  \nmax        190.029838  \n\n---------=================================---------\n\n"
    },
    {
     "data": {
      "text/plain": "<matplotlib.legend.Legend at 0x13121e850>"
     },
     "execution_count": 24,
     "metadata": {},
     "output_type": "execute_result"
    },
    {
     "data": {
      "image/png": "[encoded data removed]",
      "image/svg+xml": "<?xml version=\"1.0\" encoding=\"utf-8\" standalone=\"no\"?>\n<!DOCTYPE svg PUBLIC \"-//W3C//DTD SVG 1.1//EN\"\n  \"http://www.w3.org/Graphics/SVG/1.1/DTD/svg11.dtd\">\n<!-- Created with matplotlib (https://matplotlib.org/) -->\n<svg height=\"262.19625pt\" version=\"1.1\" viewBox=\"0 0 381.65 262.19625\" width=\"381.65pt\" xmlns=\"http://www.w3.org/2000/svg\" xmlns:xlink=\"http://www.w3.org/1999/xlink\">\n <defs>\n  <style type=\"text/css\">\n*{stroke-linecap:butt;stroke-linejoin:round;}\n  </style>\n </defs>\n <g id=\"figure_1\">\n  <g id=\"patch_1\">\n   <path d=\"M -0 262.19625 \nL 381.65 262.19625 \nL 381.65 0 \nL -0 0 \nz\n\" style=\"fill:none;\"/>\n  </g>\n  <g id=\"axes_1\">\n   <g id=\"patch_2\">\n    <path d=\"M 39.65 224.64 \nL 374.45 224.64 \nL 374.45 7.2 \nL 39.65 7.2 \nz\n\" style=\"fill:#ffffff;\"/>\n   </g>\n   <g id=\"patch_3\">\n    <path clip-path=\"url(#p11826f722d)\" d=\"M 54.868182 224.64 \nL 54.868182 206.062906 \nL 60.806004 206.062906 \nL 60.806004 206.796212 \nL 66.743826 206.796212 \nL 66.743826 207.993946 \nL 72.681648 207.993946 \nL 72.681648 207.236196 \nL 78.619469 207.236196 \nL 78.619469 206.796212 \nL 84.557291 206.796212 \nL 84.557291 206.99176 \nL 90.495113 206.99176 \nL 90.495113 180.543845 \nL 96.432935 180.543845 \nL 96.432935 172.795241 \nL 102.370757 172.795241 \nL 102.370757 170.79087 \nL 108.308579 170.79087 \nL 108.308579 171.059749 \nL 114.246401 171.059749 \nL 114.246401 172.159709 \nL 120.184223 172.159709 \nL 120.184223 179.394998 \nL 126.122045 179.394998 \nL 126.122045 179.223893 \nL 132.059867 179.223893 \nL 132.059867 154.682574 \nL 137.997688 154.682574 \nL 137.997688 154.071485 \nL 143.93551 154.071485 \nL 143.93551 150.918268 \nL 149.873332 150.918268 \nL 149.873332 153.435953 \nL 155.811154 153.435953 \nL 155.811154 162.186742 \nL 161.748976 162.186742 \nL 161.748976 188.756876 \nL 167.686798 188.756876 \nL 167.686798 160.231259 \nL 173.62462 160.231259 \nL 173.62462 154.927009 \nL 179.562442 154.927009 \nL 179.562442 153.118187 \nL 185.500264 153.118187 \nL 185.500264 154.487025 \nL 191.438086 154.487025 \nL 191.438086 152.262663 \nL 197.375908 152.262663 \nL 197.375908 179.468329 \nL 203.313729 179.468329 \nL 203.313729 178.563917 \nL 209.251551 178.563917 \nL 209.251551 156.491396 \nL 215.189373 156.491396 \nL 215.189373 156.735832 \nL 221.127195 156.735832 \nL 221.127195 154.291477 \nL 227.065017 154.291477 \nL 227.065017 154.853679 \nL 233.002839 154.853679 \nL 233.002839 160.989008 \nL 238.940661 160.989008 \nL 238.940661 189.123529 \nL 244.878483 189.123529 \nL 244.878483 160.842347 \nL 250.816305 160.842347 \nL 250.816305 154.022598 \nL 256.754127 154.022598 \nL 256.754127 154.878122 \nL 262.691948 154.878122 \nL 262.691948 154.218146 \nL 268.62977 154.218146 \nL 268.62977 154.853679 \nL 274.567592 154.853679 \nL 274.567592 180.226079 \nL 280.505414 180.226079 \nL 280.505414 178.123934 \nL 286.443236 178.123934 \nL 286.443236 173.650765 \nL 292.381058 173.650765 \nL 292.381058 171.499733 \nL 298.31888 171.499733 \nL 298.31888 171.793055 \nL 304.256702 171.793055 \nL 304.256702 171.401959 \nL 310.194524 171.401959 \nL 310.194524 180.861611 \nL 316.132346 180.861611 \nL 316.132346 207.162865 \nL 322.070168 207.162865 \nL 322.070168 206.429559 \nL 328.007989 206.429559 \nL 328.007989 208.43393 \nL 333.945811 208.43393 \nL 333.945811 207.113978 \nL 339.883633 207.113978 \nL 339.883633 208.165051 \nL 345.821455 208.165051 \nL 345.821455 206.527333 \nL 351.759277 206.527333 \nL 351.759277 224.64 \n\" style=\"fill:none;opacity:0.7;stroke:#1f77b4;stroke-linejoin:miter;stroke-width:3;\"/>\n   </g>\n   <g id=\"patch_4\">\n    <path clip-path=\"url(#p11826f722d)\" d=\"M 54.868182 224.64 \nL 54.868182 23.347406 \nL 59.287021 23.347406 \nL 59.287021 20.854164 \nL 63.70586 20.854164 \nL 63.70586 224.64 \nL 68.1247 224.64 \nL 68.1247 224.64 \nL 72.543539 224.64 \nL 72.543539 224.64 \nL 76.962378 224.64 \nL 76.962378 224.64 \nL 81.381218 224.64 \nL 81.381218 224.64 \nL 85.800057 224.64 \nL 85.800057 224.64 \nL 90.218896 224.64 \nL 90.218896 224.64 \nL 94.637736 224.64 \nL 94.637736 17.65206 \nL 99.056575 17.65206 \nL 99.056575 21.611914 \nL 103.475414 21.611914 \nL 103.475414 224.64 \nL 107.894253 224.64 \nL 107.894253 224.64 \nL 112.313093 224.64 \nL 112.313093 224.64 \nL 116.731932 224.64 \nL 116.731932 224.64 \nL 121.150771 224.64 \nL 121.150771 224.64 \nL 125.569611 224.64 \nL 125.569611 224.64 \nL 129.98845 224.64 \nL 129.98845 224.64 \nL 134.407289 224.64 \nL 134.407289 224.64 \nL 138.826129 224.64 \nL 138.826129 17.554286 \nL 143.244968 17.554286 \nL 143.244968 19.558656 \nL 147.663807 19.558656 \nL 147.663807 224.64 \nL 152.082646 224.64 \nL 152.082646 224.64 \nL 156.501486 224.64 \nL 156.501486 224.64 \nL 160.920325 224.64 \nL 160.920325 224.64 \nL 165.339164 224.64 \nL 165.339164 224.64 \nL 169.758004 224.64 \nL 169.758004 224.64 \nL 174.176843 224.64 \nL 174.176843 224.64 \nL 178.595682 224.64 \nL 178.595682 224.64 \nL 183.014522 224.64 \nL 183.014522 21.269705 \nL 187.433361 21.269705 \nL 187.433361 18.556471 \nL 191.8522 18.556471 \nL 191.8522 224.64 \nL 196.27104 224.64 \nL 196.27104 224.64 \nL 200.689879 224.64 \nL 200.689879 224.64 \nL 205.108718 224.64 \nL 205.108718 224.64 \nL 209.527557 224.64 \nL 209.527557 224.64 \nL 213.946397 224.64 \nL 213.946397 224.64 \nL 218.365236 224.64 \nL 218.365236 224.64 \nL 222.784075 224.64 \nL 222.784075 224.64 \nL 227.202915 224.64 \nL 227.202915 24.178486 \nL 231.621754 24.178486 \nL 231.621754 21.685245 \nL 236.040593 21.685245 \nL 236.040593 224.64 \nL 240.459433 224.64 \nL 240.459433 224.64 \nL 244.878272 224.64 \nL 244.878272 224.64 \nL 249.297111 224.64 \nL 249.297111 224.64 \nL 253.71595 224.64 \nL 253.71595 224.64 \nL 258.13479 224.64 \nL 258.13479 224.64 \nL 262.553629 224.64 \nL 262.553629 224.64 \nL 266.972468 224.64 \nL 266.972468 21.660801 \nL 271.391308 21.660801 \nL 271.391308 23.396293 \nL 275.810147 23.396293 \nL 275.810147 224.64 \n\" style=\"fill:none;opacity:0.7;stroke:#ff7f0e;stroke-linejoin:miter;stroke-width:3;\"/>\n   </g>\n   <g id=\"patch_5\">\n    <path clip-path=\"url(#p11826f722d)\" d=\"M 54.868182 224.64 \nL 54.868182 206.747325 \nL 60.955455 206.747325 \nL 60.955455 206.527333 \nL 67.042727 206.527333 \nL 67.042727 205.74514 \nL 73.13 205.74514 \nL 73.13 206.185123 \nL 79.217273 206.185123 \nL 79.217273 206.673994 \nL 85.304545 206.673994 \nL 85.304545 207.187309 \nL 91.391818 207.187309 \nL 91.391818 192.741174 \nL 97.479091 192.741174 \nL 97.479091 179.517216 \nL 103.566364 179.517216 \nL 103.566364 171.475289 \nL 109.653636 171.475289 \nL 109.653636 170.37533 \nL 115.740909 170.37533 \nL 115.740909 168.126524 \nL 121.828182 168.126524 \nL 121.828182 184.161489 \nL 127.915455 184.161489 \nL 127.915455 179.688321 \nL 134.002727 179.688321 \nL 134.002727 168.077637 \nL 140.09 168.077637 \nL 140.09 152.091558 \nL 146.177273 152.091558 \nL 146.177273 151.456026 \nL 152.264545 151.456026 \nL 152.264545 150.258292 \nL 158.351818 150.258292 \nL 158.351818 162.700057 \nL 164.439091 162.700057 \nL 164.439091 170.913088 \nL 170.526364 170.913088 \nL 170.526364 169.519806 \nL 176.613636 169.519806 \nL 176.613636 152.067115 \nL 182.700909 152.067115 \nL 182.700909 152.238219 \nL 188.788182 152.238219 \nL 188.788182 151.187147 \nL 194.875455 151.187147 \nL 194.875455 156.906936 \nL 200.962727 156.906936 \nL 200.962727 169.862015 \nL 207.05 169.862015 \nL 207.05 171.035306 \nL 213.137273 171.035306 \nL 213.137273 157.053598 \nL 219.224545 157.053598 \nL 219.224545 151.13826 \nL 225.311818 151.13826 \nL 225.311818 149.085002 \nL 231.399091 149.085002 \nL 231.399091 153.533727 \nL 237.486364 153.533727 \nL 237.486364 170.008677 \nL 243.573636 170.008677 \nL 243.573636 171.719725 \nL 249.660909 171.719725 \nL 249.660909 163.115597 \nL 255.748182 163.115597 \nL 255.748182 150.649389 \nL 261.835455 150.649389 \nL 261.835455 152.262663 \nL 267.922727 152.262663 \nL 267.922727 151.993784 \nL 274.01 151.993784 \nL 274.01 167.002121 \nL 280.097273 167.002121 \nL 280.097273 179.468329 \nL 286.184545 179.468329 \nL 286.184545 184.283707 \nL 292.271818 184.283707 \nL 292.271818 170.03312 \nL 298.359091 170.03312 \nL 298.359091 170.106451 \nL 304.446364 170.106451 \nL 304.446364 172.844128 \nL 310.533636 172.844128 \nL 310.533636 179.688321 \nL 316.620909 179.688321 \nL 316.620909 194.061125 \nL 322.708182 194.061125 \nL 322.708182 206.50289 \nL 328.795455 206.50289 \nL 328.795455 205.525148 \nL 334.882727 205.525148 \nL 334.882727 206.405115 \nL 340.97 206.405115 \nL 340.97 205.451817 \nL 347.057273 205.451817 \nL 347.057273 206.50289 \nL 353.144545 206.50289 \nL 353.144545 205.74514 \nL 359.231818 205.74514 \nL 359.231818 224.64 \n\" style=\"fill:none;opacity:0.7;stroke:#2ca02c;stroke-linejoin:miter;stroke-width:3;\"/>\n   </g>\n   <g id=\"matplotlib.axis_1\">\n    <g id=\"xtick_1\">\n     <g id=\"line2d_1\">\n      <defs>\n       <path d=\"M 0 0 \nL 0 3.5 \n\" id=\"m1ce3f3ebed\" style=\"stroke:#000000;stroke-width:0.8;\"/>\n      </defs>\n      <g>\n       <use style=\"stroke:#000000;stroke-width:0.8;\" x=\"54.868182\" xlink:href=\"#m1ce3f3ebed\" y=\"224.64\"/>\n      </g>\n     </g>\n     <g id=\"text_1\">\n      <!-- 0 -->\n      <defs>\n       <path d=\"M 31.78125 66.40625 \nQ 24.171875 66.40625 20.328125 58.90625 \nQ 16.5 51.421875 16.5 36.375 \nQ 16.5 21.390625 20.328125 13.890625 \nQ 24.171875 6.390625 31.78125 6.390625 \nQ 39.453125 6.390625 43.28125 13.890625 \nQ 47.125 21.390625 47.125 36.375 \nQ 47.125 51.421875 43.28125 58.90625 \nQ 39.453125 66.40625 31.78125 66.40625 \nz\nM 31.78125 74.21875 \nQ 44.046875 74.21875 50.515625 64.515625 \nQ 56.984375 54.828125 56.984375 36.375 \nQ 56.984375 17.96875 50.515625 8.265625 \nQ 44.046875 -1.421875 31.78125 -1.421875 \nQ 19.53125 -1.421875 13.0625 8.265625 \nQ 6.59375 17.96875 6.59375 36.375 \nQ 6.59375 54.828125 13.0625 64.515625 \nQ 19.53125 74.21875 31.78125 74.21875 \nz\n\" id=\"DejaVuSans-48\"/>\n      </defs>\n      <g transform=\"translate(51.686932 239.238437)scale(0.1 -0.1)\">\n       <use xlink:href=\"#DejaVuSans-48\"/>\n      </g>\n     </g>\n    </g>\n    <g id=\"xtick_2\">\n     <g id=\"line2d_2\">\n      <g>\n       <use style=\"stroke:#000000;stroke-width:0.8;\" x=\"94.90974\" xlink:href=\"#m1ce3f3ebed\" y=\"224.64\"/>\n      </g>\n     </g>\n     <g id=\"text_2\">\n      <!-- 25 -->\n      <defs>\n       <path d=\"M 19.1875 8.296875 \nL 53.609375 8.296875 \nL 53.609375 0 \nL 7.328125 0 \nL 7.328125 8.296875 \nQ 12.9375 14.109375 22.625 23.890625 \nQ 32.328125 33.6875 34.8125 36.53125 \nQ 39.546875 41.84375 41.421875 45.53125 \nQ 43.3125 49.21875 43.3125 52.78125 \nQ 43.3125 58.59375 39.234375 62.25 \nQ 35.15625 65.921875 28.609375 65.921875 \nQ 23.96875 65.921875 18.8125 64.3125 \nQ 13.671875 62.703125 7.8125 59.421875 \nL 7.8125 69.390625 \nQ 13.765625 71.78125 18.9375 73 \nQ 24.125 74.21875 28.421875 74.21875 \nQ 39.75 74.21875 46.484375 68.546875 \nQ 53.21875 62.890625 53.21875 53.421875 \nQ 53.21875 48.921875 51.53125 44.890625 \nQ 49.859375 40.875 45.40625 35.40625 \nQ 44.1875 33.984375 37.640625 27.21875 \nQ 31.109375 20.453125 19.1875 8.296875 \nz\n\" id=\"DejaVuSans-50\"/>\n       <path d=\"M 10.796875 72.90625 \nL 49.515625 72.90625 \nL 49.515625 64.59375 \nL 19.828125 64.59375 \nL 19.828125 46.734375 \nQ 21.96875 47.46875 24.109375 47.828125 \nQ 26.265625 48.1875 28.421875 48.1875 \nQ 40.625 48.1875 47.75 41.5 \nQ 54.890625 34.8125 54.890625 23.390625 \nQ 54.890625 11.625 47.5625 5.09375 \nQ 40.234375 -1.421875 26.90625 -1.421875 \nQ 22.3125 -1.421875 17.546875 -0.640625 \nQ 12.796875 0.140625 7.71875 1.703125 \nL 7.71875 11.625 \nQ 12.109375 9.234375 16.796875 8.0625 \nQ 21.484375 6.890625 26.703125 6.890625 \nQ 35.15625 6.890625 40.078125 11.328125 \nQ 45.015625 15.765625 45.015625 23.390625 \nQ 45.015625 31 40.078125 35.4375 \nQ 35.15625 39.890625 26.703125 39.890625 \nQ 22.75 39.890625 18.8125 39.015625 \nQ 14.890625 38.140625 10.796875 36.28125 \nz\n\" id=\"DejaVuSans-53\"/>\n      </defs>\n      <g transform=\"translate(88.54724 239.238437)scale(0.1 -0.1)\">\n       <use xlink:href=\"#DejaVuSans-50\"/>\n       <use x=\"63.623047\" xlink:href=\"#DejaVuSans-53\"/>\n      </g>\n     </g>\n    </g>\n    <g id=\"xtick_3\">\n     <g id=\"line2d_3\">\n      <g>\n       <use style=\"stroke:#000000;stroke-width:0.8;\" x=\"134.951299\" xlink:href=\"#m1ce3f3ebed\" y=\"224.64\"/>\n      </g>\n     </g>\n     <g id=\"text_3\">\n      <!-- 50 -->\n      <g transform=\"translate(128.588799 239.238437)scale(0.1 -0.1)\">\n       <use xlink:href=\"#DejaVuSans-53\"/>\n       <use x=\"63.623047\" xlink:href=\"#DejaVuSans-48\"/>\n      </g>\n     </g>\n    </g>\n    <g id=\"xtick_4\">\n     <g id=\"line2d_4\">\n      <g>\n       <use style=\"stroke:#000000;stroke-width:0.8;\" x=\"174.992858\" xlink:href=\"#m1ce3f3ebed\" y=\"224.64\"/>\n      </g>\n     </g>\n     <g id=\"text_4\">\n      <!-- 75 -->\n      <defs>\n       <path d=\"M 8.203125 72.90625 \nL 55.078125 72.90625 \nL 55.078125 68.703125 \nL 28.609375 0 \nL 18.3125 0 \nL 43.21875 64.59375 \nL 8.203125 64.59375 \nz\n\" id=\"DejaVuSans-55\"/>\n      </defs>\n      <g transform=\"translate(168.630358 239.238437)scale(0.1 -0.1)\">\n       <use xlink:href=\"#DejaVuSans-55\"/>\n       <use x=\"63.623047\" xlink:href=\"#DejaVuSans-53\"/>\n      </g>\n     </g>\n    </g>\n    <g id=\"xtick_5\">\n     <g id=\"line2d_5\">\n      <g>\n       <use style=\"stroke:#000000;stroke-width:0.8;\" x=\"215.034416\" xlink:href=\"#m1ce3f3ebed\" y=\"224.64\"/>\n      </g>\n     </g>\n     <g id=\"text_5\">\n      <!-- 100 -->\n      <defs>\n       <path d=\"M 12.40625 8.296875 \nL 28.515625 8.296875 \nL 28.515625 63.921875 \nL 10.984375 60.40625 \nL 10.984375 69.390625 \nL 28.421875 72.90625 \nL 38.28125 72.90625 \nL 38.28125 8.296875 \nL 54.390625 8.296875 \nL 54.390625 0 \nL 12.40625 0 \nz\n\" id=\"DejaVuSans-49\"/>\n      </defs>\n      <g transform=\"translate(205.490666 239.238437)scale(0.1 -0.1)\">\n       <use xlink:href=\"#DejaVuSans-49\"/>\n       <use x=\"63.623047\" xlink:href=\"#DejaVuSans-48\"/>\n       <use x=\"127.246094\" xlink:href=\"#DejaVuSans-48\"/>\n      </g>\n     </g>\n    </g>\n    <g id=\"xtick_6\">\n     <g id=\"line2d_6\">\n      <g>\n       <use style=\"stroke:#000000;stroke-width:0.8;\" x=\"255.075975\" xlink:href=\"#m1ce3f3ebed\" y=\"224.64\"/>\n      </g>\n     </g>\n     <g id=\"text_6\">\n      <!-- 125 -->\n      <g transform=\"translate(245.532225 239.238437)scale(0.1 -0.1)\">\n       <use xlink:href=\"#DejaVuSans-49\"/>\n       <use x=\"63.623047\" xlink:href=\"#DejaVuSans-50\"/>\n       <use x=\"127.246094\" xlink:href=\"#DejaVuSans-53\"/>\n      </g>\n     </g>\n    </g>\n    <g id=\"xtick_7\">\n     <g id=\"line2d_7\">\n      <g>\n       <use style=\"stroke:#000000;stroke-width:0.8;\" x=\"295.117533\" xlink:href=\"#m1ce3f3ebed\" y=\"224.64\"/>\n      </g>\n     </g>\n     <g id=\"text_7\">\n      <!-- 150 -->\n      <g transform=\"translate(285.573783 239.238437)scale(0.1 -0.1)\">\n       <use xlink:href=\"#DejaVuSans-49\"/>\n       <use x=\"63.623047\" xlink:href=\"#DejaVuSans-53\"/>\n       <use x=\"127.246094\" xlink:href=\"#DejaVuSans-48\"/>\n      </g>\n     </g>\n    </g>\n    <g id=\"xtick_8\">\n     <g id=\"line2d_8\">\n      <g>\n       <use style=\"stroke:#000000;stroke-width:0.8;\" x=\"335.159092\" xlink:href=\"#m1ce3f3ebed\" y=\"224.64\"/>\n      </g>\n     </g>\n     <g id=\"text_8\">\n      <!-- 175 -->\n      <g transform=\"translate(325.615342 239.238437)scale(0.1 -0.1)\">\n       <use xlink:href=\"#DejaVuSans-49\"/>\n       <use x=\"63.623047\" xlink:href=\"#DejaVuSans-55\"/>\n       <use x=\"127.246094\" xlink:href=\"#DejaVuSans-53\"/>\n      </g>\n     </g>\n    </g>\n    <g id=\"text_9\">\n     <!-- product -->\n     <defs>\n      <path d=\"M 18.109375 8.203125 \nL 18.109375 -20.796875 \nL 9.078125 -20.796875 \nL 9.078125 54.6875 \nL 18.109375 54.6875 \nL 18.109375 46.390625 \nQ 20.953125 51.265625 25.265625 53.625 \nQ 29.59375 56 35.59375 56 \nQ 45.5625 56 51.78125 48.09375 \nQ 58.015625 40.1875 58.015625 27.296875 \nQ 58.015625 14.40625 51.78125 6.484375 \nQ 45.5625 -1.421875 35.59375 -1.421875 \nQ 29.59375 -1.421875 25.265625 0.953125 \nQ 20.953125 3.328125 18.109375 8.203125 \nz\nM 48.6875 27.296875 \nQ 48.6875 37.203125 44.609375 42.84375 \nQ 40.53125 48.484375 33.40625 48.484375 \nQ 26.265625 48.484375 22.1875 42.84375 \nQ 18.109375 37.203125 18.109375 27.296875 \nQ 18.109375 17.390625 22.1875 11.75 \nQ 26.265625 6.109375 33.40625 6.109375 \nQ 40.53125 6.109375 44.609375 11.75 \nQ 48.6875 17.390625 48.6875 27.296875 \nz\n\" id=\"DejaVuSans-112\"/>\n      <path d=\"M 41.109375 46.296875 \nQ 39.59375 47.171875 37.8125 47.578125 \nQ 36.03125 48 33.890625 48 \nQ 26.265625 48 22.1875 43.046875 \nQ 18.109375 38.09375 18.109375 28.8125 \nL 18.109375 0 \nL 9.078125 0 \nL 9.078125 54.6875 \nL 18.109375 54.6875 \nL 18.109375 46.1875 \nQ 20.953125 51.171875 25.484375 53.578125 \nQ 30.03125 56 36.53125 56 \nQ 37.453125 56 38.578125 55.875 \nQ 39.703125 55.765625 41.0625 55.515625 \nz\n\" id=\"DejaVuSans-114\"/>\n      <path d=\"M 30.609375 48.390625 \nQ 23.390625 48.390625 19.1875 42.75 \nQ 14.984375 37.109375 14.984375 27.296875 \nQ 14.984375 17.484375 19.15625 11.84375 \nQ 23.34375 6.203125 30.609375 6.203125 \nQ 37.796875 6.203125 41.984375 11.859375 \nQ 46.1875 17.53125 46.1875 27.296875 \nQ 46.1875 37.015625 41.984375 42.703125 \nQ 37.796875 48.390625 30.609375 48.390625 \nz\nM 30.609375 56 \nQ 42.328125 56 49.015625 48.375 \nQ 55.71875 40.765625 55.71875 27.296875 \nQ 55.71875 13.875 49.015625 6.21875 \nQ 42.328125 -1.421875 30.609375 -1.421875 \nQ 18.84375 -1.421875 12.171875 6.21875 \nQ 5.515625 13.875 5.515625 27.296875 \nQ 5.515625 40.765625 12.171875 48.375 \nQ 18.84375 56 30.609375 56 \nz\n\" id=\"DejaVuSans-111\"/>\n      <path d=\"M 45.40625 46.390625 \nL 45.40625 75.984375 \nL 54.390625 75.984375 \nL 54.390625 0 \nL 45.40625 0 \nL 45.40625 8.203125 \nQ 42.578125 3.328125 38.25 0.953125 \nQ 33.9375 -1.421875 27.875 -1.421875 \nQ 17.96875 -1.421875 11.734375 6.484375 \nQ 5.515625 14.40625 5.515625 27.296875 \nQ 5.515625 40.1875 11.734375 48.09375 \nQ 17.96875 56 27.875 56 \nQ 33.9375 56 38.25 53.625 \nQ 42.578125 51.265625 45.40625 46.390625 \nz\nM 14.796875 27.296875 \nQ 14.796875 17.390625 18.875 11.75 \nQ 22.953125 6.109375 30.078125 6.109375 \nQ 37.203125 6.109375 41.296875 11.75 \nQ 45.40625 17.390625 45.40625 27.296875 \nQ 45.40625 37.203125 41.296875 42.84375 \nQ 37.203125 48.484375 30.078125 48.484375 \nQ 22.953125 48.484375 18.875 42.84375 \nQ 14.796875 37.203125 14.796875 27.296875 \nz\n\" id=\"DejaVuSans-100\"/>\n      <path d=\"M 8.5 21.578125 \nL 8.5 54.6875 \nL 17.484375 54.6875 \nL 17.484375 21.921875 \nQ 17.484375 14.15625 20.5 10.265625 \nQ 23.53125 6.390625 29.59375 6.390625 \nQ 36.859375 6.390625 41.078125 11.03125 \nQ 45.3125 15.671875 45.3125 23.6875 \nL 45.3125 54.6875 \nL 54.296875 54.6875 \nL 54.296875 0 \nL 45.3125 0 \nL 45.3125 8.40625 \nQ 42.046875 3.421875 37.71875 1 \nQ 33.40625 -1.421875 27.6875 -1.421875 \nQ 18.265625 -1.421875 13.375 4.4375 \nQ 8.5 10.296875 8.5 21.578125 \nz\nM 31.109375 56 \nz\n\" id=\"DejaVuSans-117\"/>\n      <path d=\"M 48.78125 52.59375 \nL 48.78125 44.1875 \nQ 44.96875 46.296875 41.140625 47.34375 \nQ 37.3125 48.390625 33.40625 48.390625 \nQ 24.65625 48.390625 19.8125 42.84375 \nQ 14.984375 37.3125 14.984375 27.296875 \nQ 14.984375 17.28125 19.8125 11.734375 \nQ 24.65625 6.203125 33.40625 6.203125 \nQ 37.3125 6.203125 41.140625 7.25 \nQ 44.96875 8.296875 48.78125 10.40625 \nL 48.78125 2.09375 \nQ 45.015625 0.34375 40.984375 -0.53125 \nQ 36.96875 -1.421875 32.421875 -1.421875 \nQ 20.0625 -1.421875 12.78125 6.34375 \nQ 5.515625 14.109375 5.515625 27.296875 \nQ 5.515625 40.671875 12.859375 48.328125 \nQ 20.21875 56 33.015625 56 \nQ 37.15625 56 41.109375 55.140625 \nQ 45.0625 54.296875 48.78125 52.59375 \nz\n\" id=\"DejaVuSans-99\"/>\n      <path d=\"M 18.3125 70.21875 \nL 18.3125 54.6875 \nL 36.8125 54.6875 \nL 36.8125 47.703125 \nL 18.3125 47.703125 \nL 18.3125 18.015625 \nQ 18.3125 11.328125 20.140625 9.421875 \nQ 21.96875 7.515625 27.59375 7.515625 \nL 36.8125 7.515625 \nL 36.8125 0 \nL 27.59375 0 \nQ 17.1875 0 13.234375 3.875 \nQ 9.28125 7.765625 9.28125 18.015625 \nL 9.28125 47.703125 \nL 2.6875 47.703125 \nL 2.6875 54.6875 \nL 9.28125 54.6875 \nL 9.28125 70.21875 \nz\n\" id=\"DejaVuSans-116\"/>\n     </defs>\n     <g transform=\"translate(187.710156 252.916562)scale(0.1 -0.1)\">\n      <use xlink:href=\"#DejaVuSans-112\"/>\n      <use x=\"63.476562\" xlink:href=\"#DejaVuSans-114\"/>\n      <use x=\"104.558594\" xlink:href=\"#DejaVuSans-111\"/>\n      <use x=\"165.740234\" xlink:href=\"#DejaVuSans-100\"/>\n      <use x=\"229.216797\" xlink:href=\"#DejaVuSans-117\"/>\n      <use x=\"292.595703\" xlink:href=\"#DejaVuSans-99\"/>\n      <use x=\"347.576172\" xlink:href=\"#DejaVuSans-116\"/>\n     </g>\n    </g>\n   </g>\n   <g id=\"matplotlib.axis_2\">\n    <g id=\"ytick_1\">\n     <g id=\"line2d_9\">\n      <defs>\n       <path d=\"M 0 0 \nL -3.5 0 \n\" id=\"mf7080be347\" style=\"stroke:#000000;stroke-width:0.8;\"/>\n      </defs>\n      <g>\n       <use style=\"stroke:#000000;stroke-width:0.8;\" x=\"39.65\" xlink:href=\"#mf7080be347\" y=\"224.64\"/>\n      </g>\n     </g>\n     <g id=\"text_10\">\n      <!-- 0 -->\n      <g transform=\"translate(26.2875 228.439219)scale(0.1 -0.1)\">\n       <use xlink:href=\"#DejaVuSans-48\"/>\n      </g>\n     </g>\n    </g>\n    <g id=\"ytick_2\">\n     <g id=\"line2d_10\">\n      <g>\n       <use style=\"stroke:#000000;stroke-width:0.8;\" x=\"39.65\" xlink:href=\"#mf7080be347\" y=\"200.196455\"/>\n      </g>\n     </g>\n     <g id=\"text_11\">\n      <!-- 1000 -->\n      <g transform=\"translate(7.2 203.995674)scale(0.1 -0.1)\">\n       <use xlink:href=\"#DejaVuSans-49\"/>\n       <use x=\"63.623047\" xlink:href=\"#DejaVuSans-48\"/>\n       <use x=\"127.246094\" xlink:href=\"#DejaVuSans-48\"/>\n       <use x=\"190.869141\" xlink:href=\"#DejaVuSans-48\"/>\n      </g>\n     </g>\n    </g>\n    <g id=\"ytick_3\">\n     <g id=\"line2d_11\">\n      <g>\n       <use style=\"stroke:#000000;stroke-width:0.8;\" x=\"39.65\" xlink:href=\"#mf7080be347\" y=\"175.75291\"/>\n      </g>\n     </g>\n     <g id=\"text_12\">\n      <!-- 2000 -->\n      <g transform=\"translate(7.2 179.552129)scale(0.1 -0.1)\">\n       <use xlink:href=\"#DejaVuSans-50\"/>\n       <use x=\"63.623047\" xlink:href=\"#DejaVuSans-48\"/>\n       <use x=\"127.246094\" xlink:href=\"#DejaVuSans-48\"/>\n       <use x=\"190.869141\" xlink:href=\"#DejaVuSans-48\"/>\n      </g>\n     </g>\n    </g>\n    <g id=\"ytick_4\">\n     <g id=\"line2d_12\">\n      <g>\n       <use style=\"stroke:#000000;stroke-width:0.8;\" x=\"39.65\" xlink:href=\"#mf7080be347\" y=\"151.309365\"/>\n      </g>\n     </g>\n     <g id=\"text_13\">\n      <!-- 3000 -->\n      <defs>\n       <path d=\"M 40.578125 39.3125 \nQ 47.65625 37.796875 51.625 33 \nQ 55.609375 28.21875 55.609375 21.1875 \nQ 55.609375 10.40625 48.1875 4.484375 \nQ 40.765625 -1.421875 27.09375 -1.421875 \nQ 22.515625 -1.421875 17.65625 -0.515625 \nQ 12.796875 0.390625 7.625 2.203125 \nL 7.625 11.71875 \nQ 11.71875 9.328125 16.59375 8.109375 \nQ 21.484375 6.890625 26.8125 6.890625 \nQ 36.078125 6.890625 40.9375 10.546875 \nQ 45.796875 14.203125 45.796875 21.1875 \nQ 45.796875 27.640625 41.28125 31.265625 \nQ 36.765625 34.90625 28.71875 34.90625 \nL 20.21875 34.90625 \nL 20.21875 43.015625 \nL 29.109375 43.015625 \nQ 36.375 43.015625 40.234375 45.921875 \nQ 44.09375 48.828125 44.09375 54.296875 \nQ 44.09375 59.90625 40.109375 62.90625 \nQ 36.140625 65.921875 28.71875 65.921875 \nQ 24.65625 65.921875 20.015625 65.03125 \nQ 15.375 64.15625 9.8125 62.3125 \nL 9.8125 71.09375 \nQ 15.4375 72.65625 20.34375 73.4375 \nQ 25.25 74.21875 29.59375 74.21875 \nQ 40.828125 74.21875 47.359375 69.109375 \nQ 53.90625 64.015625 53.90625 55.328125 \nQ 53.90625 49.265625 50.4375 45.09375 \nQ 46.96875 40.921875 40.578125 39.3125 \nz\n\" id=\"DejaVuSans-51\"/>\n      </defs>\n      <g transform=\"translate(7.2 155.108583)scale(0.1 -0.1)\">\n       <use xlink:href=\"#DejaVuSans-51\"/>\n       <use x=\"63.623047\" xlink:href=\"#DejaVuSans-48\"/>\n       <use x=\"127.246094\" xlink:href=\"#DejaVuSans-48\"/>\n       <use x=\"190.869141\" xlink:href=\"#DejaVuSans-48\"/>\n      </g>\n     </g>\n    </g>\n    <g id=\"ytick_5\">\n     <g id=\"line2d_13\">\n      <g>\n       <use style=\"stroke:#000000;stroke-width:0.8;\" x=\"39.65\" xlink:href=\"#mf7080be347\" y=\"126.86582\"/>\n      </g>\n     </g>\n     <g id=\"text_14\">\n      <!-- 4000 -->\n      <defs>\n       <path d=\"M 37.796875 64.3125 \nL 12.890625 25.390625 \nL 37.796875 25.390625 \nz\nM 35.203125 72.90625 \nL 47.609375 72.90625 \nL 47.609375 25.390625 \nL 58.015625 25.390625 \nL 58.015625 17.1875 \nL 47.609375 17.1875 \nL 47.609375 0 \nL 37.796875 0 \nL 37.796875 17.1875 \nL 4.890625 17.1875 \nL 4.890625 26.703125 \nz\n\" id=\"DejaVuSans-52\"/>\n      </defs>\n      <g transform=\"translate(7.2 130.665038)scale(0.1 -0.1)\">\n       <use xlink:href=\"#DejaVuSans-52\"/>\n       <use x=\"63.623047\" xlink:href=\"#DejaVuSans-48\"/>\n       <use x=\"127.246094\" xlink:href=\"#DejaVuSans-48\"/>\n       <use x=\"190.869141\" xlink:href=\"#DejaVuSans-48\"/>\n      </g>\n     </g>\n    </g>\n    <g id=\"ytick_6\">\n     <g id=\"line2d_14\">\n      <g>\n       <use style=\"stroke:#000000;stroke-width:0.8;\" x=\"39.65\" xlink:href=\"#mf7080be347\" y=\"102.422274\"/>\n      </g>\n     </g>\n     <g id=\"text_15\">\n      <!-- 5000 -->\n      <g transform=\"translate(7.2 106.221493)scale(0.1 -0.1)\">\n       <use xlink:href=\"#DejaVuSans-53\"/>\n       <use x=\"63.623047\" xlink:href=\"#DejaVuSans-48\"/>\n       <use x=\"127.246094\" xlink:href=\"#DejaVuSans-48\"/>\n       <use x=\"190.869141\" xlink:href=\"#DejaVuSans-48\"/>\n      </g>\n     </g>\n    </g>\n    <g id=\"ytick_7\">\n     <g id=\"line2d_15\">\n      <g>\n       <use style=\"stroke:#000000;stroke-width:0.8;\" x=\"39.65\" xlink:href=\"#mf7080be347\" y=\"77.978729\"/>\n      </g>\n     </g>\n     <g id=\"text_16\">\n      <!-- 6000 -->\n      <defs>\n       <path d=\"M 33.015625 40.375 \nQ 26.375 40.375 22.484375 35.828125 \nQ 18.609375 31.296875 18.609375 23.390625 \nQ 18.609375 15.53125 22.484375 10.953125 \nQ 26.375 6.390625 33.015625 6.390625 \nQ 39.65625 6.390625 43.53125 10.953125 \nQ 47.40625 15.53125 47.40625 23.390625 \nQ 47.40625 31.296875 43.53125 35.828125 \nQ 39.65625 40.375 33.015625 40.375 \nz\nM 52.59375 71.296875 \nL 52.59375 62.3125 \nQ 48.875 64.0625 45.09375 64.984375 \nQ 41.3125 65.921875 37.59375 65.921875 \nQ 27.828125 65.921875 22.671875 59.328125 \nQ 17.53125 52.734375 16.796875 39.40625 \nQ 19.671875 43.65625 24.015625 45.921875 \nQ 28.375 48.1875 33.59375 48.1875 \nQ 44.578125 48.1875 50.953125 41.515625 \nQ 57.328125 34.859375 57.328125 23.390625 \nQ 57.328125 12.15625 50.6875 5.359375 \nQ 44.046875 -1.421875 33.015625 -1.421875 \nQ 20.359375 -1.421875 13.671875 8.265625 \nQ 6.984375 17.96875 6.984375 36.375 \nQ 6.984375 53.65625 15.1875 63.9375 \nQ 23.390625 74.21875 37.203125 74.21875 \nQ 40.921875 74.21875 44.703125 73.484375 \nQ 48.484375 72.75 52.59375 71.296875 \nz\n\" id=\"DejaVuSans-54\"/>\n      </defs>\n      <g transform=\"translate(7.2 81.777948)scale(0.1 -0.1)\">\n       <use xlink:href=\"#DejaVuSans-54\"/>\n       <use x=\"63.623047\" xlink:href=\"#DejaVuSans-48\"/>\n       <use x=\"127.246094\" xlink:href=\"#DejaVuSans-48\"/>\n       <use x=\"190.869141\" xlink:href=\"#DejaVuSans-48\"/>\n      </g>\n     </g>\n    </g>\n    <g id=\"ytick_8\">\n     <g id=\"line2d_16\">\n      <g>\n       <use style=\"stroke:#000000;stroke-width:0.8;\" x=\"39.65\" xlink:href=\"#mf7080be347\" y=\"53.535184\"/>\n      </g>\n     </g>\n     <g id=\"text_17\">\n      <!-- 7000 -->\n      <g transform=\"translate(7.2 57.334403)scale(0.1 -0.1)\">\n       <use xlink:href=\"#DejaVuSans-55\"/>\n       <use x=\"63.623047\" xlink:href=\"#DejaVuSans-48\"/>\n       <use x=\"127.246094\" xlink:href=\"#DejaVuSans-48\"/>\n       <use x=\"190.869141\" xlink:href=\"#DejaVuSans-48\"/>\n      </g>\n     </g>\n    </g>\n    <g id=\"ytick_9\">\n     <g id=\"line2d_17\">\n      <g>\n       <use style=\"stroke:#000000;stroke-width:0.8;\" x=\"39.65\" xlink:href=\"#mf7080be347\" y=\"29.091639\"/>\n      </g>\n     </g>\n     <g id=\"text_18\">\n      <!-- 8000 -->\n      <defs>\n       <path d=\"M 31.78125 34.625 \nQ 24.75 34.625 20.71875 30.859375 \nQ 16.703125 27.09375 16.703125 20.515625 \nQ 16.703125 13.921875 20.71875 10.15625 \nQ 24.75 6.390625 31.78125 6.390625 \nQ 38.8125 6.390625 42.859375 10.171875 \nQ 46.921875 13.96875 46.921875 20.515625 \nQ 46.921875 27.09375 42.890625 30.859375 \nQ 38.875 34.625 31.78125 34.625 \nz\nM 21.921875 38.8125 \nQ 15.578125 40.375 12.03125 44.71875 \nQ 8.5 49.078125 8.5 55.328125 \nQ 8.5 64.0625 14.71875 69.140625 \nQ 20.953125 74.21875 31.78125 74.21875 \nQ 42.671875 74.21875 48.875 69.140625 \nQ 55.078125 64.0625 55.078125 55.328125 \nQ 55.078125 49.078125 51.53125 44.71875 \nQ 48 40.375 41.703125 38.8125 \nQ 48.828125 37.15625 52.796875 32.3125 \nQ 56.78125 27.484375 56.78125 20.515625 \nQ 56.78125 9.90625 50.3125 4.234375 \nQ 43.84375 -1.421875 31.78125 -1.421875 \nQ 19.734375 -1.421875 13.25 4.234375 \nQ 6.78125 9.90625 6.78125 20.515625 \nQ 6.78125 27.484375 10.78125 32.3125 \nQ 14.796875 37.15625 21.921875 38.8125 \nz\nM 18.3125 54.390625 \nQ 18.3125 48.734375 21.84375 45.5625 \nQ 25.390625 42.390625 31.78125 42.390625 \nQ 38.140625 42.390625 41.71875 45.5625 \nQ 45.3125 48.734375 45.3125 54.390625 \nQ 45.3125 60.0625 41.71875 63.234375 \nQ 38.140625 66.40625 31.78125 66.40625 \nQ 25.390625 66.40625 21.84375 63.234375 \nQ 18.3125 60.0625 18.3125 54.390625 \nz\n\" id=\"DejaVuSans-56\"/>\n      </defs>\n      <g transform=\"translate(7.2 32.890858)scale(0.1 -0.1)\">\n       <use xlink:href=\"#DejaVuSans-56\"/>\n       <use x=\"63.623047\" xlink:href=\"#DejaVuSans-48\"/>\n       <use x=\"127.246094\" xlink:href=\"#DejaVuSans-48\"/>\n       <use x=\"190.869141\" xlink:href=\"#DejaVuSans-48\"/>\n      </g>\n     </g>\n    </g>\n   </g>\n   <g id=\"patch_6\">\n    <path d=\"M 39.65 224.64 \nL 39.65 7.2 \n\" style=\"fill:none;stroke:#000000;stroke-linecap:square;stroke-linejoin:miter;stroke-width:0.8;\"/>\n   </g>\n   <g id=\"patch_7\">\n    <path d=\"M 374.45 224.64 \nL 374.45 7.2 \n\" style=\"fill:none;stroke:#000000;stroke-linecap:square;stroke-linejoin:miter;stroke-width:0.8;\"/>\n   </g>\n   <g id=\"patch_8\">\n    <path d=\"M 39.65 224.64 \nL 374.45 224.64 \n\" style=\"fill:none;stroke:#000000;stroke-linecap:square;stroke-linejoin:miter;stroke-width:0.8;\"/>\n   </g>\n   <g id=\"patch_9\">\n    <path d=\"M 39.65 7.2 \nL 374.45 7.2 \n\" style=\"fill:none;stroke:#000000;stroke-linecap:square;stroke-linejoin:miter;stroke-width:0.8;\"/>\n   </g>\n   <g id=\"legend_1\">\n    <g id=\"patch_10\">\n     <path d=\"M 329.0875 59.234375 \nL 367.45 59.234375 \nQ 369.45 59.234375 369.45 57.234375 \nL 369.45 14.2 \nQ 369.45 12.2 367.45 12.2 \nL 329.0875 12.2 \nQ 327.0875 12.2 327.0875 14.2 \nL 327.0875 57.234375 \nQ 327.0875 59.234375 329.0875 59.234375 \nz\n\" style=\"fill:#ffffff;opacity:0.8;stroke:#cccccc;stroke-linejoin:miter;\"/>\n    </g>\n    <g id=\"patch_11\">\n     <path d=\"M 331.0875 23.798437 \nL 351.0875 23.798437 \nL 351.0875 16.798437 \nL 331.0875 16.798437 \nz\n\" style=\"fill:none;opacity:0.7;stroke:#1f77b4;stroke-linejoin:miter;stroke-width:3;\"/>\n    </g>\n    <g id=\"text_19\">\n     <!-- 0 -->\n     <g transform=\"translate(359.0875 23.798437)scale(0.1 -0.1)\">\n      <use xlink:href=\"#DejaVuSans-48\"/>\n     </g>\n    </g>\n    <g id=\"patch_12\">\n     <path d=\"M 331.0875 38.476562 \nL 351.0875 38.476562 \nL 351.0875 31.476562 \nL 331.0875 31.476562 \nz\n\" style=\"fill:none;opacity:0.7;stroke:#ff7f0e;stroke-linejoin:miter;stroke-width:3;\"/>\n    </g>\n    <g id=\"text_20\">\n     <!-- 1 -->\n     <g transform=\"translate(359.0875 38.476562)scale(0.1 -0.1)\">\n      <use xlink:href=\"#DejaVuSans-49\"/>\n     </g>\n    </g>\n    <g id=\"patch_13\">\n     <path d=\"M 331.0875 53.154687 \nL 351.0875 53.154687 \nL 351.0875 46.154687 \nL 331.0875 46.154687 \nz\n\" style=\"fill:none;opacity:0.7;stroke:#2ca02c;stroke-linejoin:miter;stroke-width:3;\"/>\n    </g>\n    <g id=\"text_21\">\n     <!-- 2 -->\n     <g transform=\"translate(359.0875 53.154687)scale(0.1 -0.1)\">\n      <use xlink:href=\"#DejaVuSans-50\"/>\n     </g>\n    </g>\n   </g>\n  </g>\n </g>\n <defs>\n  <clipPath id=\"p11826f722d\">\n   <rect height=\"217.44\" width=\"334.8\" x=\"39.65\" y=\"7.2\"/>\n  </clipPath>\n </defs>\n</svg>\n",
      "text/plain": "<Figure size 432x288 with 1 Axes>"
     },
     "metadata": {
      "needs_background": "light"
     },
     "output_type": "display_data"
    }
   ],
   "source": [
    "f, ax = plt.subplots(1, 1)\n",
    "for i in [0, 1, 2]:\n",
    "    df, features, target = preparing(i, False)\n",
    "    print('Регион {}:'.format(i))\n",
    "    print(df.info())\n",
    "    print(df.describe(include='all'))\n",
    "    divider('lg')\n",
    "    sns.distplot(df['product'], bins=50, kde=False, label=i, ax=ax,\n",
    "                 hist_kws={\"histtype\": \"step\", \"linewidth\": 3, \"alpha\": 0.7})\n",
    "ax.legend()"
   ]
  },
  {
   "cell_type": "markdown",
   "metadata": {},
   "source": [
    "Пропусков в данных нет. В датасетах по 10000 записей. Распределение 0 и 2 датасетов похожи, 1 - сильно отличается(месторождения сгруппированы по запасам)<br>\n",
    "В датасетах есть небольшое кол-во дублей. Не понятно как с ними работать, видимо это ошибка ввода. Чтобы не смущали удалим их, в любом случае их слишком мало чтобы повлиять на модель"
   ]
  },
  {
   "cell_type": "markdown",
   "metadata": {},
   "source": [
    "<span style=\"color:Green\">\n",
    "\n",
    "**2019-12-18 DD**\n",
    "\n",
    "Тут вопросов нет. Хорошо, что удалил даже дубликаты.\n",
    "\n",
    "Как бы ты объяснил \"гребёнку\" в распределении для региона 1? Чем это может быть вызвана в реальной жизни?\n",
    "\n",
    "</span>"
   ]
  },
  {
   "cell_type": "markdown",
   "metadata": {},
   "source": [
    "Точно не знаю как происходит процесс геологоразведки, но возможно в регионе 1 не много отдельных месторождений, а несколько бассейнов(6). Может уровень залегания нефти разный для регионов."
   ]
  },
  {
   "cell_type": "markdown",
   "metadata": {},
   "source": [
    "<span style=\"color:Green\">\n",
    "\n",
    "**2019-12-19 DD**\n",
    "\n",
    "Да, что-то вот такое. Я бы ещё предположил, что в регионе 1 использовалась другая методика (другое оборудование), которая (которое) даёт оценку с некоторым шагом.\n",
    "\n",
    "</span>"
   ]
  },
  {
   "cell_type": "markdown",
   "metadata": {},
   "source": [
    "# 2. Обучение и проверка модели"
   ]
  },
  {
   "cell_type": "code",
   "execution_count": 25,
   "metadata": {},
   "outputs": [
    {
     "name": "stdout",
     "output_type": "stream",
     "text": "Регион 0:\nРеальное среднее значение:\n     92.15820490940044\nСреднее значение модели:\n     92.78946537733638\nRMSE модели:\n     37.853643189399115\n\n---------=================================---------\n\nРегион 1:\nРеальное среднее значение:\n     69.18604400957675\nСреднее значение модели:\n     69.17825113394326\nRMSE модели:\n     0.8920700852908524\n\n---------=================================---------\n\nРегион 2:\nРеальное среднее значение:\n     94.7851093536914\nСреднее значение модели:\n     94.86544981726902\nRMSE модели:\n     40.07568257792395\n\n---------=================================---------\n\n"
    }
   ],
   "source": [
    "for i in [0, 1, 2]:\n",
    "    df, features, target = preparing(i, True)\n",
    "    print('Регион {}:'.format(i))\n",
    "\n",
    "    features_train, features_valid, target_train, target_valid = train_test_split(features, target, train_size=0.75, random_state=RANDOM_STATE)\n",
    "\n",
    "    predicted_valid = lr(features_train, target_train, features_valid)\n",
    "    predicted_valid = pd.Series(predicted_valid, index=features_valid.index)\n",
    "\n",
    "    print_results1(target_valid, predicted_valid)"
   ]
  },
  {
   "cell_type": "markdown",
   "metadata": {},
   "source": [
    "И реальное и предсказанное среднее значения самые большие во втором регионе, но разница с нулевым регионом не очень большая. Самые точные предсказания модель дает для первого регион(RMSE всего 0.08). "
   ]
  },
  {
   "cell_type": "markdown",
   "metadata": {},
   "source": [
    "<span style=\"color:Green\">\n",
    "\n",
    "**2019-12-18 DD**\n",
    "\n",
    "Почему для региона 1 получается такая высокая точность? \n",
    "\n",
    "</span>"
   ]
  },
  {
   "cell_type": "markdown",
   "metadata": {},
   "source": [
    "Думаю это напрямую связано с распределением для региона 1 и тем, что мы выбрали модель линейной регрессии"
   ]
  },
  {
   "cell_type": "markdown",
   "metadata": {},
   "source": [
    "# 3. Подготовка к расчёту прибыли"
   ]
  },
  {
   "cell_type": "markdown",
   "metadata": {},
   "source": [
    "Посчитайте минимальный средний объём сырья в месторождениях региона, достаточный для его разработки\n",
    "1. При разведке региона проводится исследование 500 точек.\n",
    "2. Бюджет на разработку месторождений — 10 млрд рублей, стоимость бурения одной скважины — 50 млн рублей.\n",
    "3. Один баррель сырья приносит 4500 рублей прибыли.\n",
    "\n",
    "Предположим, что сначала мы тратим 10млрд на разработку месторождения, а прибыль будем получать только потом и на вырученные деньги разработку уже вести не будем. Тогда получается что на 10млрд мы можем пробурить <b>200</b> скважин за 50млн.<br>\n",
    "Второе предположение это то, что весь запас сырья из скаважины добывается мгновенно, как и само бурение - тоже моментальное. В общем не берем в расчет никакие временные лаги. Тогда минимальным условием окупаемости становится условие что выручка равна себестоймости<br>\n",
    "Себестоймость: 10млрд <br>\n",
    "Выручка: 200скважин x средний_объем_сырья x 4500рублей_прибыли"
   ]
  },
  {
   "cell_type": "code",
   "execution_count": 26,
   "metadata": {},
   "outputs": [
    {
     "name": "stdout",
     "output_type": "stream",
     "text": "Минимальный средний объём сырья, тыс.бар.: 11.11\n"
    }
   ],
   "source": [
    "min_avg_volume = 10000000000/200/4500/1000\n",
    "print('Минимальный средний объём сырья, тыс.бар.: {:.2f}'.format(min_avg_volume))"
   ]
  },
  {
   "cell_type": "markdown",
   "metadata": {},
   "source": [
    "Порог входа очень низкий. Подойдет практически любое месторождение"
   ]
  },
  {
   "cell_type": "markdown",
   "metadata": {},
   "source": [
    "<span style=\"color:Green\">\n",
    "\n",
    "**2019-12-18 DD**\n",
    "\n",
    "А есть ли такие месторождения, у которых запас сырья меньше? Какова их доля?\n",
    "\n",
    "</span>"
   ]
  },
  {
   "cell_type": "code",
   "execution_count": 27,
   "metadata": {},
   "outputs": [
    {
     "name": "stdout",
     "output_type": "stream",
     "text": "Регион 0:\nTrue     0.978288\nFalse    0.021712\nName: is_more_min_avg_volume, dtype: float64\nРегион 1:\nTrue     0.834273\nFalse    0.165727\nName: is_more_min_avg_volume, dtype: float64\nРегион 2:\nTrue     0.978369\nFalse    0.021631\nName: is_more_min_avg_volume, dtype: float64\n"
    }
   ],
   "source": [
    "for i in [0, 1, 2]:\n",
    "    df, features, target = preparing(i, True)\n",
    "    print('Регион {}:'.format(i))\n",
    "    df['is_more_min_avg_volume'] = df['product'] > min_avg_volume\n",
    "    print(df['is_more_min_avg_volume'].value_counts(normalize=True))"
   ]
  },
  {
   "cell_type": "markdown",
   "metadata": {},
   "source": [
    "Для Регионов 0 и 2 доля нерентабельных месторождений всего 2%. Для Региона 1 целых 16%. Это сходится с данными гистограммы, именно для Региона 1 был всплеск в районе 0. Регион 1 более рискованный для инвестиций - высок шанс уйти в минус"
   ]
  },
  {
   "cell_type": "markdown",
   "metadata": {},
   "source": [
    "# 4. Расчёт прибыли и рисков "
   ]
  },
  {
   "cell_type": "markdown",
   "metadata": {},
   "source": [
    "У нас есть модель с фиксированным RANDOM_STATE=12345 предсказывающая результат для 2500 скважин. Попробуем с помощью bootstrap определить самый перспективный регион. Будем из этих 2500 скважин выбирать рандомно RESEARCH_COUNT(количество исследований) скважин и из них 200 топовых по размеру запасов. На основе этих 200х будем считать предполагаемую прибыль. Так сделаем 1000 раз для каждого региона. Так мы получим 3000 предположительных значений профита."
   ]
  },
  {
   "cell_type": "code",
   "execution_count": 28,
   "metadata": {},
   "outputs": [
    {
     "name": "stdout",
     "output_type": "stream",
     "text": "region_id        profit\n0           0.0  9.181241e+10\n1           0.0  9.355104e+10\n2           0.0  9.054550e+10\n3           0.0  9.316152e+10\n4           0.0  9.294311e+10\n...         ...           ...\n2995        2.0  9.256285e+10\n2996        2.0  9.386333e+10\n2997        2.0  9.512731e+10\n2998        2.0  9.529082e+10\n2999        2.0  9.246846e+10\n\n[3000 rows x 2 columns]\n"
    }
   ],
   "source": [
    "df_profit = pd.DataFrame(columns=['region_id', 'profit'])\n",
    "\n",
    "\n",
    "for i in [0, 1, 2]:\n",
    "    df, features, target = preparing(i, True)\n",
    "    features_train, features_valid, target_train, target_valid = train_test_split(features, target, \n",
    "                                                                                  train_size=0.75, \n",
    "                                                                                  random_state=RANDOM_STATE)\n",
    "    predicted_valid = lr(features_train, target_train, features_valid)\n",
    "    predicted_valid = pd.DataFrame(predicted_valid, columns=['product'], index=features_valid.index)\n",
    "    \n",
    "    RANDOM_STATE_BOOTSTRAP = RandomState(RANDOM_STATE)\n",
    "    \n",
    "    for j in range(0, BOOTSTRAP_COUNT):\n",
    "\n",
    "        predicted_valid_selected = predicted_valid.sample(RESEARCH_COUNT, random_state=RANDOM_STATE_BOOTSTRAP).sort_values(by='product', ascending=False)[:BOREHOLE_COUNT]\n",
    "        profit_sample = profit(predicted_valid_selected)\n",
    "        df_profit.loc[i*BOOTSTRAP_COUNT+j] = [i]+[profit_sample]\n",
    "        \n",
    "print(df_profit)"
   ]
  },
  {
   "cell_type": "code",
   "execution_count": 29,
   "metadata": {},
   "outputs": [
    {
     "name": "stdout",
     "output_type": "stream",
     "text": "Регион 0:\n    Средняя прибыль, млрд: 93.85\n    95% Доверительный интервал через квантили, млрд: 91.60 - 96.00\n    95% Доверительный интервал, млрд: 93.78 - 93.92\n    Риск убытков: 0.00\nРегион 1:\n    Средняя прибыль, млрд: 94.73\n    95% Доверительный интервал через квантили, млрд: 90.90 - 98.99\n    95% Доверительный интервал, млрд: 94.61 - 94.86\n    Риск убытков: 0.00\nРегион 2:\n    Средняя прибыль, млрд: 92.97\n    95% Доверительный интервал через квантили, млрд: 90.98 - 94.83\n    95% Доверительный интервал, млрд: 92.91 - 93.04\n    Риск убытков: 0.00\n"
    },
    {
     "data": {
      "text/plain": "<matplotlib.legend.Legend at 0x1328cf2d0>"
     },
     "execution_count": 29,
     "metadata": {},
     "output_type": "execute_result"
    },
    {
     "data": {
      "image/png": "[encoded data removed]",
      "image/svg+xml": "<?xml version=\"1.0\" encoding=\"utf-8\" standalone=\"no\"?>\n<!DOCTYPE svg PUBLIC \"-//W3C//DTD SVG 1.1//EN\"\n  \"http://www.w3.org/Graphics/SVG/1.1/DTD/svg11.dtd\">\n<!-- Created with matplotlib (https://matplotlib.org/) -->\n<svg height=\"262.19625pt\" version=\"1.1\" viewBox=\"0 0 368.925 262.19625\" width=\"368.925pt\" xmlns=\"http://www.w3.org/2000/svg\" xmlns:xlink=\"http://www.w3.org/1999/xlink\">\n <defs>\n  <style type=\"text/css\">\n*{stroke-linecap:butt;stroke-linejoin:round;}\n  </style>\n </defs>\n <g id=\"figure_1\">\n  <g id=\"patch_1\">\n   <path d=\"M -0 262.19625 \nL 368.925 262.19625 \nL 368.925 0 \nL -0 0 \nz\n\" style=\"fill:none;\"/>\n  </g>\n  <g id=\"axes_1\">\n   <g id=\"patch_2\">\n    <path d=\"M 26.925 224.64 \nL 361.725 224.64 \nL 361.725 7.2 \nL 26.925 7.2 \nz\n\" style=\"fill:#ffffff;\"/>\n   </g>\n   <g id=\"patch_3\">\n    <path clip-path=\"url(#p85c0dec7ee)\" d=\"M 91.744139 224.64 \nL 91.744139 221.404286 \nL 95.125003 221.404286 \nL 95.125003 224.64 \nL 98.505867 224.64 \nL 98.505867 221.404286 \nL 101.886731 221.404286 \nL 101.886731 218.168571 \nL 105.267595 218.168571 \nL 105.267595 221.404286 \nL 108.648458 221.404286 \nL 108.648458 221.404286 \nL 112.029322 221.404286 \nL 112.029322 211.697143 \nL 115.410186 211.697143 \nL 115.410186 218.168571 \nL 118.79105 218.168571 \nL 118.79105 214.932857 \nL 122.171914 214.932857 \nL 122.171914 198.754286 \nL 125.552778 198.754286 \nL 125.552778 182.575714 \nL 128.933642 182.575714 \nL 128.933642 185.811429 \nL 132.314506 185.811429 \nL 132.314506 205.225714 \nL 135.69537 205.225714 \nL 135.69537 172.868571 \nL 139.076234 172.868571 \nL 139.076234 156.69 \nL 142.457098 156.69 \nL 142.457098 134.04 \nL 145.837962 134.04 \nL 145.837962 150.218571 \nL 149.218826 150.218571 \nL 149.218826 143.747143 \nL 152.59969 143.747143 \nL 152.59969 108.154286 \nL 155.980554 108.154286 \nL 155.980554 101.682857 \nL 159.361418 101.682857 \nL 159.361418 117.861429 \nL 162.742282 117.861429 \nL 162.742282 62.854286 \nL 166.123146 62.854286 \nL 166.123146 69.325714 \nL 169.50401 69.325714 \nL 169.50401 69.325714 \nL 172.884874 69.325714 \nL 172.884874 40.204286 \nL 176.265738 40.204286 \nL 176.265738 62.854286 \nL 179.646602 62.854286 \nL 179.646602 72.561429 \nL 183.027466 72.561429 \nL 183.027466 49.911429 \nL 186.40833 49.911429 \nL 186.40833 43.44 \nL 189.789194 43.44 \nL 189.789194 75.797143 \nL 193.170058 75.797143 \nL 193.170058 130.804286 \nL 196.550922 130.804286 \nL 196.550922 104.918571 \nL 199.931786 104.918571 \nL 199.931786 69.325714 \nL 203.31265 69.325714 \nL 203.31265 137.275714 \nL 206.693514 137.275714 \nL 206.693514 150.218571 \nL 210.074378 150.218571 \nL 210.074378 156.69 \nL 213.455242 156.69 \nL 213.455242 140.511429 \nL 216.836106 140.511429 \nL 216.836106 182.575714 \nL 220.21697 182.575714 \nL 220.21697 198.754286 \nL 223.597834 198.754286 \nL 223.597834 185.811429 \nL 226.978698 185.811429 \nL 226.978698 208.461429 \nL 230.359562 208.461429 \nL 230.359562 201.99 \nL 233.740426 201.99 \nL 233.740426 218.168571 \nL 237.12129 218.168571 \nL 237.12129 221.404286 \nL 240.502154 221.404286 \nL 240.502154 218.168571 \nL 243.883018 218.168571 \nL 243.883018 221.404286 \nL 247.263882 221.404286 \nL 247.263882 214.932857 \nL 250.644746 214.932857 \nL 250.644746 214.932857 \nL 254.02561 214.932857 \nL 254.02561 221.404286 \nL 257.406474 221.404286 \nL 257.406474 221.404286 \nL 260.787338 221.404286 \nL 260.787338 224.64 \n\" style=\"fill:none;opacity:0.7;stroke:#1f77b4;stroke-linejoin:miter;stroke-width:3;\"/>\n   </g>\n   <g id=\"patch_4\">\n    <path clip-path=\"url(#p85c0dec7ee)\" d=\"M 42.143182 224.64 \nL 42.143182 221.404286 \nL 48.230455 221.404286 \nL 48.230455 224.64 \nL 54.317727 224.64 \nL 54.317727 224.64 \nL 60.405 224.64 \nL 60.405 224.64 \nL 66.492273 224.64 \nL 66.492273 221.404286 \nL 72.579545 221.404286 \nL 72.579545 224.64 \nL 78.666818 224.64 \nL 78.666818 221.404286 \nL 84.754091 221.404286 \nL 84.754091 211.697143 \nL 90.841364 211.697143 \nL 90.841364 221.404286 \nL 96.928636 221.404286 \nL 96.928636 192.282857 \nL 103.015909 192.282857 \nL 103.015909 214.932857 \nL 109.103182 214.932857 \nL 109.103182 185.811429 \nL 115.190455 185.811429 \nL 115.190455 195.518571 \nL 121.277727 195.518571 \nL 121.277727 163.161429 \nL 127.365 163.161429 \nL 127.365 150.218571 \nL 133.452273 150.218571 \nL 133.452273 169.632857 \nL 139.539545 169.632857 \nL 139.539545 150.218571 \nL 145.626818 150.218571 \nL 145.626818 134.04 \nL 151.714091 134.04 \nL 151.714091 117.861429 \nL 157.801364 117.861429 \nL 157.801364 104.918571 \nL 163.888636 104.918571 \nL 163.888636 72.561429 \nL 169.975909 72.561429 \nL 169.975909 59.618571 \nL 176.063182 59.618571 \nL 176.063182 56.382857 \nL 182.150455 56.382857 \nL 182.150455 53.147143 \nL 188.237727 53.147143 \nL 188.237727 56.382857 \nL 194.325 56.382857 \nL 194.325 56.382857 \nL 200.412273 56.382857 \nL 200.412273 27.261429 \nL 206.499545 27.261429 \nL 206.499545 69.325714 \nL 212.586818 69.325714 \nL 212.586818 56.382857 \nL 218.674091 56.382857 \nL 218.674091 69.325714 \nL 224.761364 69.325714 \nL 224.761364 101.682857 \nL 230.848636 101.682857 \nL 230.848636 111.39 \nL 236.935909 111.39 \nL 236.935909 108.154286 \nL 243.023182 108.154286 \nL 243.023182 140.511429 \nL 249.110455 140.511429 \nL 249.110455 163.161429 \nL 255.197727 163.161429 \nL 255.197727 179.34 \nL 261.285 179.34 \nL 261.285 156.69 \nL 267.372273 156.69 \nL 267.372273 166.397143 \nL 273.459545 166.397143 \nL 273.459545 192.282857 \nL 279.546818 192.282857 \nL 279.546818 195.518571 \nL 285.634091 195.518571 \nL 285.634091 208.461429 \nL 291.721364 208.461429 \nL 291.721364 198.754286 \nL 297.808636 198.754286 \nL 297.808636 189.047143 \nL 303.895909 189.047143 \nL 303.895909 208.461429 \nL 309.983182 208.461429 \nL 309.983182 224.64 \nL 316.070455 224.64 \nL 316.070455 221.404286 \nL 322.157727 221.404286 \nL 322.157727 221.404286 \nL 328.245 221.404286 \nL 328.245 218.168571 \nL 334.332273 218.168571 \nL 334.332273 221.404286 \nL 340.419545 221.404286 \nL 340.419545 218.168571 \nL 346.506818 218.168571 \nL 346.506818 224.64 \n\" style=\"fill:none;opacity:0.7;stroke:#ff7f0e;stroke-linejoin:miter;stroke-width:3;\"/>\n   </g>\n   <g id=\"patch_5\">\n    <path clip-path=\"url(#p85c0dec7ee)\" d=\"M 78.519072 224.64 \nL 78.519072 221.404286 \nL 81.55413 221.404286 \nL 81.55413 224.64 \nL 84.589188 224.64 \nL 84.589188 221.404286 \nL 87.624245 221.404286 \nL 87.624245 224.64 \nL 90.659303 224.64 \nL 90.659303 218.168571 \nL 93.694361 218.168571 \nL 93.694361 221.404286 \nL 96.729419 221.404286 \nL 96.729419 214.932857 \nL 99.764476 214.932857 \nL 99.764476 208.461429 \nL 102.799534 208.461429 \nL 102.799534 205.225714 \nL 105.834592 205.225714 \nL 105.834592 221.404286 \nL 108.86965 221.404286 \nL 108.86965 205.225714 \nL 111.904708 205.225714 \nL 111.904708 195.518571 \nL 114.939765 195.518571 \nL 114.939765 205.225714 \nL 117.974823 205.225714 \nL 117.974823 189.047143 \nL 121.009881 189.047143 \nL 121.009881 172.868571 \nL 124.044939 172.868571 \nL 124.044939 163.161429 \nL 127.079996 163.161429 \nL 127.079996 153.454286 \nL 130.115054 153.454286 \nL 130.115054 179.34 \nL 133.150112 179.34 \nL 133.150112 143.747143 \nL 136.18517 143.747143 \nL 136.18517 95.211429 \nL 139.220228 95.211429 \nL 139.220228 72.561429 \nL 142.255285 72.561429 \nL 142.255285 43.44 \nL 145.290343 43.44 \nL 145.290343 79.032857 \nL 148.325401 79.032857 \nL 148.325401 69.325714 \nL 151.360459 69.325714 \nL 151.360459 17.554286 \nL 154.395517 17.554286 \nL 154.395517 56.382857 \nL 157.430574 56.382857 \nL 157.430574 40.204286 \nL 160.465632 40.204286 \nL 160.465632 66.09 \nL 163.50069 66.09 \nL 163.50069 46.675714 \nL 166.535748 46.675714 \nL 166.535748 79.032857 \nL 169.570805 79.032857 \nL 169.570805 88.74 \nL 172.605863 88.74 \nL 172.605863 85.504286 \nL 175.640921 85.504286 \nL 175.640921 159.925714 \nL 178.675979 159.925714 \nL 178.675979 79.032857 \nL 181.711037 79.032857 \nL 181.711037 121.097143 \nL 184.746094 121.097143 \nL 184.746094 134.04 \nL 187.781152 134.04 \nL 187.781152 179.34 \nL 190.81621 179.34 \nL 190.81621 156.69 \nL 193.851268 156.69 \nL 193.851268 179.34 \nL 196.886325 179.34 \nL 196.886325 195.518571 \nL 199.921383 195.518571 \nL 199.921383 214.932857 \nL 202.956441 214.932857 \nL 202.956441 205.225714 \nL 205.991499 205.225714 \nL 205.991499 211.697143 \nL 209.026557 211.697143 \nL 209.026557 218.168571 \nL 212.061614 218.168571 \nL 212.061614 211.697143 \nL 215.096672 211.697143 \nL 215.096672 221.404286 \nL 218.13173 221.404286 \nL 218.13173 218.168571 \nL 221.166788 218.168571 \nL 221.166788 224.64 \nL 224.201845 224.64 \nL 224.201845 218.168571 \nL 227.236903 218.168571 \nL 227.236903 218.168571 \nL 230.271961 218.168571 \nL 230.271961 224.64 \n\" style=\"fill:none;opacity:0.7;stroke:#2ca02c;stroke-linejoin:miter;stroke-width:3;\"/>\n   </g>\n   <g id=\"matplotlib.axis_1\">\n    <g id=\"xtick_1\">\n     <g id=\"line2d_1\">\n      <defs>\n       <path d=\"M 0 0 \nL 0 3.5 \n\" id=\"m1fa0819bce\" style=\"stroke:#000000;stroke-width:0.8;\"/>\n      </defs>\n      <g>\n       <use style=\"stroke:#000000;stroke-width:0.8;\" x=\"43.505115\" xlink:href=\"#m1fa0819bce\" y=\"224.64\"/>\n      </g>\n     </g>\n     <g id=\"text_1\">\n      <!-- 0.88 -->\n      <defs>\n       <path d=\"M 31.78125 66.40625 \nQ 24.171875 66.40625 20.328125 58.90625 \nQ 16.5 51.421875 16.5 36.375 \nQ 16.5 21.390625 20.328125 13.890625 \nQ 24.171875 6.390625 31.78125 6.390625 \nQ 39.453125 6.390625 43.28125 13.890625 \nQ 47.125 21.390625 47.125 36.375 \nQ 47.125 51.421875 43.28125 58.90625 \nQ 39.453125 66.40625 31.78125 66.40625 \nz\nM 31.78125 74.21875 \nQ 44.046875 74.21875 50.515625 64.515625 \nQ 56.984375 54.828125 56.984375 36.375 \nQ 56.984375 17.96875 50.515625 8.265625 \nQ 44.046875 -1.421875 31.78125 -1.421875 \nQ 19.53125 -1.421875 13.0625 8.265625 \nQ 6.59375 17.96875 6.59375 36.375 \nQ 6.59375 54.828125 13.0625 64.515625 \nQ 19.53125 74.21875 31.78125 74.21875 \nz\n\" id=\"DejaVuSans-48\"/>\n       <path d=\"M 10.6875 12.40625 \nL 21 12.40625 \nL 21 0 \nL 10.6875 0 \nz\n\" id=\"DejaVuSans-46\"/>\n       <path d=\"M 31.78125 34.625 \nQ 24.75 34.625 20.71875 30.859375 \nQ 16.703125 27.09375 16.703125 20.515625 \nQ 16.703125 13.921875 20.71875 10.15625 \nQ 24.75 6.390625 31.78125 6.390625 \nQ 38.8125 6.390625 42.859375 10.171875 \nQ 46.921875 13.96875 46.921875 20.515625 \nQ 46.921875 27.09375 42.890625 30.859375 \nQ 38.875 34.625 31.78125 34.625 \nz\nM 21.921875 38.8125 \nQ 15.578125 40.375 12.03125 44.71875 \nQ 8.5 49.078125 8.5 55.328125 \nQ 8.5 64.0625 14.71875 69.140625 \nQ 20.953125 74.21875 31.78125 74.21875 \nQ 42.671875 74.21875 48.875 69.140625 \nQ 55.078125 64.0625 55.078125 55.328125 \nQ 55.078125 49.078125 51.53125 44.71875 \nQ 48 40.375 41.703125 38.8125 \nQ 48.828125 37.15625 52.796875 32.3125 \nQ 56.78125 27.484375 56.78125 20.515625 \nQ 56.78125 9.90625 50.3125 4.234375 \nQ 43.84375 -1.421875 31.78125 -1.421875 \nQ 19.734375 -1.421875 13.25 4.234375 \nQ 6.78125 9.90625 6.78125 20.515625 \nQ 6.78125 27.484375 10.78125 32.3125 \nQ 14.796875 37.15625 21.921875 38.8125 \nz\nM 18.3125 54.390625 \nQ 18.3125 48.734375 21.84375 45.5625 \nQ 25.390625 42.390625 31.78125 42.390625 \nQ 38.140625 42.390625 41.71875 45.5625 \nQ 45.3125 48.734375 45.3125 54.390625 \nQ 45.3125 60.0625 41.71875 63.234375 \nQ 38.140625 66.40625 31.78125 66.40625 \nQ 25.390625 66.40625 21.84375 63.234375 \nQ 18.3125 60.0625 18.3125 54.390625 \nz\n\" id=\"DejaVuSans-56\"/>\n      </defs>\n      <g transform=\"translate(32.372302 239.238437)scale(0.1 -0.1)\">\n       <use xlink:href=\"#DejaVuSans-48\"/>\n       <use x=\"63.623047\" xlink:href=\"#DejaVuSans-46\"/>\n       <use x=\"95.410156\" xlink:href=\"#DejaVuSans-56\"/>\n       <use x=\"159.033203\" xlink:href=\"#DejaVuSans-56\"/>\n      </g>\n     </g>\n    </g>\n    <g id=\"xtick_2\">\n     <g id=\"line2d_2\">\n      <g>\n       <use style=\"stroke:#000000;stroke-width:0.8;\" x=\"89.400387\" xlink:href=\"#m1fa0819bce\" y=\"224.64\"/>\n      </g>\n     </g>\n     <g id=\"text_2\">\n      <!-- 0.90 -->\n      <defs>\n       <path d=\"M 10.984375 1.515625 \nL 10.984375 10.5 \nQ 14.703125 8.734375 18.5 7.8125 \nQ 22.3125 6.890625 25.984375 6.890625 \nQ 35.75 6.890625 40.890625 13.453125 \nQ 46.046875 20.015625 46.78125 33.40625 \nQ 43.953125 29.203125 39.59375 26.953125 \nQ 35.25 24.703125 29.984375 24.703125 \nQ 19.046875 24.703125 12.671875 31.3125 \nQ 6.296875 37.9375 6.296875 49.421875 \nQ 6.296875 60.640625 12.9375 67.421875 \nQ 19.578125 74.21875 30.609375 74.21875 \nQ 43.265625 74.21875 49.921875 64.515625 \nQ 56.59375 54.828125 56.59375 36.375 \nQ 56.59375 19.140625 48.40625 8.859375 \nQ 40.234375 -1.421875 26.421875 -1.421875 \nQ 22.703125 -1.421875 18.890625 -0.6875 \nQ 15.09375 0.046875 10.984375 1.515625 \nz\nM 30.609375 32.421875 \nQ 37.25 32.421875 41.125 36.953125 \nQ 45.015625 41.5 45.015625 49.421875 \nQ 45.015625 57.28125 41.125 61.84375 \nQ 37.25 66.40625 30.609375 66.40625 \nQ 23.96875 66.40625 20.09375 61.84375 \nQ 16.21875 57.28125 16.21875 49.421875 \nQ 16.21875 41.5 20.09375 36.953125 \nQ 23.96875 32.421875 30.609375 32.421875 \nz\n\" id=\"DejaVuSans-57\"/>\n      </defs>\n      <g transform=\"translate(78.267574 239.238437)scale(0.1 -0.1)\">\n       <use xlink:href=\"#DejaVuSans-48\"/>\n       <use x=\"63.623047\" xlink:href=\"#DejaVuSans-46\"/>\n       <use x=\"95.410156\" xlink:href=\"#DejaVuSans-57\"/>\n       <use x=\"159.033203\" xlink:href=\"#DejaVuSans-48\"/>\n      </g>\n     </g>\n    </g>\n    <g id=\"xtick_3\">\n     <g id=\"line2d_3\">\n      <g>\n       <use style=\"stroke:#000000;stroke-width:0.8;\" x=\"135.295659\" xlink:href=\"#m1fa0819bce\" y=\"224.64\"/>\n      </g>\n     </g>\n     <g id=\"text_3\">\n      <!-- 0.92 -->\n      <defs>\n       <path d=\"M 19.1875 8.296875 \nL 53.609375 8.296875 \nL 53.609375 0 \nL 7.328125 0 \nL 7.328125 8.296875 \nQ 12.9375 14.109375 22.625 23.890625 \nQ 32.328125 33.6875 34.8125 36.53125 \nQ 39.546875 41.84375 41.421875 45.53125 \nQ 43.3125 49.21875 43.3125 52.78125 \nQ 43.3125 58.59375 39.234375 62.25 \nQ 35.15625 65.921875 28.609375 65.921875 \nQ 23.96875 65.921875 18.8125 64.3125 \nQ 13.671875 62.703125 7.8125 59.421875 \nL 7.8125 69.390625 \nQ 13.765625 71.78125 18.9375 73 \nQ 24.125 74.21875 28.421875 74.21875 \nQ 39.75 74.21875 46.484375 68.546875 \nQ 53.21875 62.890625 53.21875 53.421875 \nQ 53.21875 48.921875 51.53125 44.890625 \nQ 49.859375 40.875 45.40625 35.40625 \nQ 44.1875 33.984375 37.640625 27.21875 \nQ 31.109375 20.453125 19.1875 8.296875 \nz\n\" id=\"DejaVuSans-50\"/>\n      </defs>\n      <g transform=\"translate(124.162846 239.238437)scale(0.1 -0.1)\">\n       <use xlink:href=\"#DejaVuSans-48\"/>\n       <use x=\"63.623047\" xlink:href=\"#DejaVuSans-46\"/>\n       <use x=\"95.410156\" xlink:href=\"#DejaVuSans-57\"/>\n       <use x=\"159.033203\" xlink:href=\"#DejaVuSans-50\"/>\n      </g>\n     </g>\n    </g>\n    <g id=\"xtick_4\">\n     <g id=\"line2d_4\">\n      <g>\n       <use style=\"stroke:#000000;stroke-width:0.8;\" x=\"181.19093\" xlink:href=\"#m1fa0819bce\" y=\"224.64\"/>\n      </g>\n     </g>\n     <g id=\"text_4\">\n      <!-- 0.94 -->\n      <defs>\n       <path d=\"M 37.796875 64.3125 \nL 12.890625 25.390625 \nL 37.796875 25.390625 \nz\nM 35.203125 72.90625 \nL 47.609375 72.90625 \nL 47.609375 25.390625 \nL 58.015625 25.390625 \nL 58.015625 17.1875 \nL 47.609375 17.1875 \nL 47.609375 0 \nL 37.796875 0 \nL 37.796875 17.1875 \nL 4.890625 17.1875 \nL 4.890625 26.703125 \nz\n\" id=\"DejaVuSans-52\"/>\n      </defs>\n      <g transform=\"translate(170.058118 239.238437)scale(0.1 -0.1)\">\n       <use xlink:href=\"#DejaVuSans-48\"/>\n       <use x=\"63.623047\" xlink:href=\"#DejaVuSans-46\"/>\n       <use x=\"95.410156\" xlink:href=\"#DejaVuSans-57\"/>\n       <use x=\"159.033203\" xlink:href=\"#DejaVuSans-52\"/>\n      </g>\n     </g>\n    </g>\n    <g id=\"xtick_5\">\n     <g id=\"line2d_5\">\n      <g>\n       <use style=\"stroke:#000000;stroke-width:0.8;\" x=\"227.086202\" xlink:href=\"#m1fa0819bce\" y=\"224.64\"/>\n      </g>\n     </g>\n     <g id=\"text_5\">\n      <!-- 0.96 -->\n      <defs>\n       <path d=\"M 33.015625 40.375 \nQ 26.375 40.375 22.484375 35.828125 \nQ 18.609375 31.296875 18.609375 23.390625 \nQ 18.609375 15.53125 22.484375 10.953125 \nQ 26.375 6.390625 33.015625 6.390625 \nQ 39.65625 6.390625 43.53125 10.953125 \nQ 47.40625 15.53125 47.40625 23.390625 \nQ 47.40625 31.296875 43.53125 35.828125 \nQ 39.65625 40.375 33.015625 40.375 \nz\nM 52.59375 71.296875 \nL 52.59375 62.3125 \nQ 48.875 64.0625 45.09375 64.984375 \nQ 41.3125 65.921875 37.59375 65.921875 \nQ 27.828125 65.921875 22.671875 59.328125 \nQ 17.53125 52.734375 16.796875 39.40625 \nQ 19.671875 43.65625 24.015625 45.921875 \nQ 28.375 48.1875 33.59375 48.1875 \nQ 44.578125 48.1875 50.953125 41.515625 \nQ 57.328125 34.859375 57.328125 23.390625 \nQ 57.328125 12.15625 50.6875 5.359375 \nQ 44.046875 -1.421875 33.015625 -1.421875 \nQ 20.359375 -1.421875 13.671875 8.265625 \nQ 6.984375 17.96875 6.984375 36.375 \nQ 6.984375 53.65625 15.1875 63.9375 \nQ 23.390625 74.21875 37.203125 74.21875 \nQ 40.921875 74.21875 44.703125 73.484375 \nQ 48.484375 72.75 52.59375 71.296875 \nz\n\" id=\"DejaVuSans-54\"/>\n      </defs>\n      <g transform=\"translate(215.95339 239.238437)scale(0.1 -0.1)\">\n       <use xlink:href=\"#DejaVuSans-48\"/>\n       <use x=\"63.623047\" xlink:href=\"#DejaVuSans-46\"/>\n       <use x=\"95.410156\" xlink:href=\"#DejaVuSans-57\"/>\n       <use x=\"159.033203\" xlink:href=\"#DejaVuSans-54\"/>\n      </g>\n     </g>\n    </g>\n    <g id=\"xtick_6\">\n     <g id=\"line2d_6\">\n      <g>\n       <use style=\"stroke:#000000;stroke-width:0.8;\" x=\"272.981474\" xlink:href=\"#m1fa0819bce\" y=\"224.64\"/>\n      </g>\n     </g>\n     <g id=\"text_6\">\n      <!-- 0.98 -->\n      <g transform=\"translate(261.848662 239.238437)scale(0.1 -0.1)\">\n       <use xlink:href=\"#DejaVuSans-48\"/>\n       <use x=\"63.623047\" xlink:href=\"#DejaVuSans-46\"/>\n       <use x=\"95.410156\" xlink:href=\"#DejaVuSans-57\"/>\n       <use x=\"159.033203\" xlink:href=\"#DejaVuSans-56\"/>\n      </g>\n     </g>\n    </g>\n    <g id=\"xtick_7\">\n     <g id=\"line2d_7\">\n      <g>\n       <use style=\"stroke:#000000;stroke-width:0.8;\" x=\"318.876746\" xlink:href=\"#m1fa0819bce\" y=\"224.64\"/>\n      </g>\n     </g>\n     <g id=\"text_7\">\n      <!-- 1.00 -->\n      <defs>\n       <path d=\"M 12.40625 8.296875 \nL 28.515625 8.296875 \nL 28.515625 63.921875 \nL 10.984375 60.40625 \nL 10.984375 69.390625 \nL 28.421875 72.90625 \nL 38.28125 72.90625 \nL 38.28125 8.296875 \nL 54.390625 8.296875 \nL 54.390625 0 \nL 12.40625 0 \nz\n\" id=\"DejaVuSans-49\"/>\n      </defs>\n      <g transform=\"translate(307.743933 239.238437)scale(0.1 -0.1)\">\n       <use xlink:href=\"#DejaVuSans-49\"/>\n       <use x=\"63.623047\" xlink:href=\"#DejaVuSans-46\"/>\n       <use x=\"95.410156\" xlink:href=\"#DejaVuSans-48\"/>\n       <use x=\"159.033203\" xlink:href=\"#DejaVuSans-48\"/>\n      </g>\n     </g>\n    </g>\n    <g id=\"text_8\">\n     <!-- profit -->\n     <defs>\n      <path d=\"M 18.109375 8.203125 \nL 18.109375 -20.796875 \nL 9.078125 -20.796875 \nL 9.078125 54.6875 \nL 18.109375 54.6875 \nL 18.109375 46.390625 \nQ 20.953125 51.265625 25.265625 53.625 \nQ 29.59375 56 35.59375 56 \nQ 45.5625 56 51.78125 48.09375 \nQ 58.015625 40.1875 58.015625 27.296875 \nQ 58.015625 14.40625 51.78125 6.484375 \nQ 45.5625 -1.421875 35.59375 -1.421875 \nQ 29.59375 -1.421875 25.265625 0.953125 \nQ 20.953125 3.328125 18.109375 8.203125 \nz\nM 48.6875 27.296875 \nQ 48.6875 37.203125 44.609375 42.84375 \nQ 40.53125 48.484375 33.40625 48.484375 \nQ 26.265625 48.484375 22.1875 42.84375 \nQ 18.109375 37.203125 18.109375 27.296875 \nQ 18.109375 17.390625 22.1875 11.75 \nQ 26.265625 6.109375 33.40625 6.109375 \nQ 40.53125 6.109375 44.609375 11.75 \nQ 48.6875 17.390625 48.6875 27.296875 \nz\n\" id=\"DejaVuSans-112\"/>\n      <path d=\"M 41.109375 46.296875 \nQ 39.59375 47.171875 37.8125 47.578125 \nQ 36.03125 48 33.890625 48 \nQ 26.265625 48 22.1875 43.046875 \nQ 18.109375 38.09375 18.109375 28.8125 \nL 18.109375 0 \nL 9.078125 0 \nL 9.078125 54.6875 \nL 18.109375 54.6875 \nL 18.109375 46.1875 \nQ 20.953125 51.171875 25.484375 53.578125 \nQ 30.03125 56 36.53125 56 \nQ 37.453125 56 38.578125 55.875 \nQ 39.703125 55.765625 41.0625 55.515625 \nz\n\" id=\"DejaVuSans-114\"/>\n      <path d=\"M 30.609375 48.390625 \nQ 23.390625 48.390625 19.1875 42.75 \nQ 14.984375 37.109375 14.984375 27.296875 \nQ 14.984375 17.484375 19.15625 11.84375 \nQ 23.34375 6.203125 30.609375 6.203125 \nQ 37.796875 6.203125 41.984375 11.859375 \nQ 46.1875 17.53125 46.1875 27.296875 \nQ 46.1875 37.015625 41.984375 42.703125 \nQ 37.796875 48.390625 30.609375 48.390625 \nz\nM 30.609375 56 \nQ 42.328125 56 49.015625 48.375 \nQ 55.71875 40.765625 55.71875 27.296875 \nQ 55.71875 13.875 49.015625 6.21875 \nQ 42.328125 -1.421875 30.609375 -1.421875 \nQ 18.84375 -1.421875 12.171875 6.21875 \nQ 5.515625 13.875 5.515625 27.296875 \nQ 5.515625 40.765625 12.171875 48.375 \nQ 18.84375 56 30.609375 56 \nz\n\" id=\"DejaVuSans-111\"/>\n      <path d=\"M 37.109375 75.984375 \nL 37.109375 68.5 \nL 28.515625 68.5 \nQ 23.6875 68.5 21.796875 66.546875 \nQ 19.921875 64.59375 19.921875 59.515625 \nL 19.921875 54.6875 \nL 34.71875 54.6875 \nL 34.71875 47.703125 \nL 19.921875 47.703125 \nL 19.921875 0 \nL 10.890625 0 \nL 10.890625 47.703125 \nL 2.296875 47.703125 \nL 2.296875 54.6875 \nL 10.890625 54.6875 \nL 10.890625 58.5 \nQ 10.890625 67.625 15.140625 71.796875 \nQ 19.390625 75.984375 28.609375 75.984375 \nz\n\" id=\"DejaVuSans-102\"/>\n      <path d=\"M 9.421875 54.6875 \nL 18.40625 54.6875 \nL 18.40625 0 \nL 9.421875 0 \nz\nM 9.421875 75.984375 \nL 18.40625 75.984375 \nL 18.40625 64.59375 \nL 9.421875 64.59375 \nz\n\" id=\"DejaVuSans-105\"/>\n      <path d=\"M 18.3125 70.21875 \nL 18.3125 54.6875 \nL 36.8125 54.6875 \nL 36.8125 47.703125 \nL 18.3125 47.703125 \nL 18.3125 18.015625 \nQ 18.3125 11.328125 20.140625 9.421875 \nQ 21.96875 7.515625 27.59375 7.515625 \nL 36.8125 7.515625 \nL 36.8125 0 \nL 27.59375 0 \nQ 17.1875 0 13.234375 3.875 \nQ 9.28125 7.765625 9.28125 18.015625 \nL 9.28125 47.703125 \nL 2.6875 47.703125 \nL 2.6875 54.6875 \nL 9.28125 54.6875 \nL 9.28125 70.21875 \nz\n\" id=\"DejaVuSans-116\"/>\n     </defs>\n     <g transform=\"translate(180.928125 252.916562)scale(0.1 -0.1)\">\n      <use xlink:href=\"#DejaVuSans-112\"/>\n      <use x=\"63.476562\" xlink:href=\"#DejaVuSans-114\"/>\n      <use x=\"104.558594\" xlink:href=\"#DejaVuSans-111\"/>\n      <use x=\"165.740234\" xlink:href=\"#DejaVuSans-102\"/>\n      <use x=\"200.945312\" xlink:href=\"#DejaVuSans-105\"/>\n      <use x=\"228.728516\" xlink:href=\"#DejaVuSans-116\"/>\n     </g>\n    </g>\n    <g id=\"text_9\">\n     <!-- 1e11 -->\n     <defs>\n      <path d=\"M 56.203125 29.59375 \nL 56.203125 25.203125 \nL 14.890625 25.203125 \nQ 15.484375 15.921875 20.484375 11.0625 \nQ 25.484375 6.203125 34.421875 6.203125 \nQ 39.59375 6.203125 44.453125 7.46875 \nQ 49.3125 8.734375 54.109375 11.28125 \nL 54.109375 2.78125 \nQ 49.265625 0.734375 44.1875 -0.34375 \nQ 39.109375 -1.421875 33.890625 -1.421875 \nQ 20.796875 -1.421875 13.15625 6.1875 \nQ 5.515625 13.8125 5.515625 26.8125 \nQ 5.515625 40.234375 12.765625 48.109375 \nQ 20.015625 56 32.328125 56 \nQ 43.359375 56 49.78125 48.890625 \nQ 56.203125 41.796875 56.203125 29.59375 \nz\nM 47.21875 32.234375 \nQ 47.125 39.59375 43.09375 43.984375 \nQ 39.0625 48.390625 32.421875 48.390625 \nQ 24.90625 48.390625 20.390625 44.140625 \nQ 15.875 39.890625 15.1875 32.171875 \nz\n\" id=\"DejaVuSans-101\"/>\n     </defs>\n     <g transform=\"translate(336.484375 251.916562)scale(0.1 -0.1)\">\n      <use xlink:href=\"#DejaVuSans-49\"/>\n      <use x=\"63.623047\" xlink:href=\"#DejaVuSans-101\"/>\n      <use x=\"125.146484\" xlink:href=\"#DejaVuSans-49\"/>\n      <use x=\"188.769531\" xlink:href=\"#DejaVuSans-49\"/>\n     </g>\n    </g>\n   </g>\n   <g id=\"matplotlib.axis_2\">\n    <g id=\"ytick_1\">\n     <g id=\"line2d_8\">\n      <defs>\n       <path d=\"M 0 0 \nL -3.5 0 \n\" id=\"mce4fe98367\" style=\"stroke:#000000;stroke-width:0.8;\"/>\n      </defs>\n      <g>\n       <use style=\"stroke:#000000;stroke-width:0.8;\" x=\"26.925\" xlink:href=\"#mce4fe98367\" y=\"224.64\"/>\n      </g>\n     </g>\n     <g id=\"text_10\">\n      <!-- 0 -->\n      <g transform=\"translate(13.5625 228.439219)scale(0.1 -0.1)\">\n       <use xlink:href=\"#DejaVuSans-48\"/>\n      </g>\n     </g>\n    </g>\n    <g id=\"ytick_2\">\n     <g id=\"line2d_9\">\n      <g>\n       <use style=\"stroke:#000000;stroke-width:0.8;\" x=\"26.925\" xlink:href=\"#mce4fe98367\" y=\"192.282857\"/>\n      </g>\n     </g>\n     <g id=\"text_11\">\n      <!-- 10 -->\n      <g transform=\"translate(7.2 196.082076)scale(0.1 -0.1)\">\n       <use xlink:href=\"#DejaVuSans-49\"/>\n       <use x=\"63.623047\" xlink:href=\"#DejaVuSans-48\"/>\n      </g>\n     </g>\n    </g>\n    <g id=\"ytick_3\">\n     <g id=\"line2d_10\">\n      <g>\n       <use style=\"stroke:#000000;stroke-width:0.8;\" x=\"26.925\" xlink:href=\"#mce4fe98367\" y=\"159.925714\"/>\n      </g>\n     </g>\n     <g id=\"text_12\">\n      <!-- 20 -->\n      <g transform=\"translate(7.2 163.724933)scale(0.1 -0.1)\">\n       <use xlink:href=\"#DejaVuSans-50\"/>\n       <use x=\"63.623047\" xlink:href=\"#DejaVuSans-48\"/>\n      </g>\n     </g>\n    </g>\n    <g id=\"ytick_4\">\n     <g id=\"line2d_11\">\n      <g>\n       <use style=\"stroke:#000000;stroke-width:0.8;\" x=\"26.925\" xlink:href=\"#mce4fe98367\" y=\"127.568571\"/>\n      </g>\n     </g>\n     <g id=\"text_13\">\n      <!-- 30 -->\n      <defs>\n       <path d=\"M 40.578125 39.3125 \nQ 47.65625 37.796875 51.625 33 \nQ 55.609375 28.21875 55.609375 21.1875 \nQ 55.609375 10.40625 48.1875 4.484375 \nQ 40.765625 -1.421875 27.09375 -1.421875 \nQ 22.515625 -1.421875 17.65625 -0.515625 \nQ 12.796875 0.390625 7.625 2.203125 \nL 7.625 11.71875 \nQ 11.71875 9.328125 16.59375 8.109375 \nQ 21.484375 6.890625 26.8125 6.890625 \nQ 36.078125 6.890625 40.9375 10.546875 \nQ 45.796875 14.203125 45.796875 21.1875 \nQ 45.796875 27.640625 41.28125 31.265625 \nQ 36.765625 34.90625 28.71875 34.90625 \nL 20.21875 34.90625 \nL 20.21875 43.015625 \nL 29.109375 43.015625 \nQ 36.375 43.015625 40.234375 45.921875 \nQ 44.09375 48.828125 44.09375 54.296875 \nQ 44.09375 59.90625 40.109375 62.90625 \nQ 36.140625 65.921875 28.71875 65.921875 \nQ 24.65625 65.921875 20.015625 65.03125 \nQ 15.375 64.15625 9.8125 62.3125 \nL 9.8125 71.09375 \nQ 15.4375 72.65625 20.34375 73.4375 \nQ 25.25 74.21875 29.59375 74.21875 \nQ 40.828125 74.21875 47.359375 69.109375 \nQ 53.90625 64.015625 53.90625 55.328125 \nQ 53.90625 49.265625 50.4375 45.09375 \nQ 46.96875 40.921875 40.578125 39.3125 \nz\n\" id=\"DejaVuSans-51\"/>\n      </defs>\n      <g transform=\"translate(7.2 131.36779)scale(0.1 -0.1)\">\n       <use xlink:href=\"#DejaVuSans-51\"/>\n       <use x=\"63.623047\" xlink:href=\"#DejaVuSans-48\"/>\n      </g>\n     </g>\n    </g>\n    <g id=\"ytick_5\">\n     <g id=\"line2d_12\">\n      <g>\n       <use style=\"stroke:#000000;stroke-width:0.8;\" x=\"26.925\" xlink:href=\"#mce4fe98367\" y=\"95.211429\"/>\n      </g>\n     </g>\n     <g id=\"text_14\">\n      <!-- 40 -->\n      <g transform=\"translate(7.2 99.010647)scale(0.1 -0.1)\">\n       <use xlink:href=\"#DejaVuSans-52\"/>\n       <use x=\"63.623047\" xlink:href=\"#DejaVuSans-48\"/>\n      </g>\n     </g>\n    </g>\n    <g id=\"ytick_6\">\n     <g id=\"line2d_13\">\n      <g>\n       <use style=\"stroke:#000000;stroke-width:0.8;\" x=\"26.925\" xlink:href=\"#mce4fe98367\" y=\"62.854286\"/>\n      </g>\n     </g>\n     <g id=\"text_15\">\n      <!-- 50 -->\n      <defs>\n       <path d=\"M 10.796875 72.90625 \nL 49.515625 72.90625 \nL 49.515625 64.59375 \nL 19.828125 64.59375 \nL 19.828125 46.734375 \nQ 21.96875 47.46875 24.109375 47.828125 \nQ 26.265625 48.1875 28.421875 48.1875 \nQ 40.625 48.1875 47.75 41.5 \nQ 54.890625 34.8125 54.890625 23.390625 \nQ 54.890625 11.625 47.5625 5.09375 \nQ 40.234375 -1.421875 26.90625 -1.421875 \nQ 22.3125 -1.421875 17.546875 -0.640625 \nQ 12.796875 0.140625 7.71875 1.703125 \nL 7.71875 11.625 \nQ 12.109375 9.234375 16.796875 8.0625 \nQ 21.484375 6.890625 26.703125 6.890625 \nQ 35.15625 6.890625 40.078125 11.328125 \nQ 45.015625 15.765625 45.015625 23.390625 \nQ 45.015625 31 40.078125 35.4375 \nQ 35.15625 39.890625 26.703125 39.890625 \nQ 22.75 39.890625 18.8125 39.015625 \nQ 14.890625 38.140625 10.796875 36.28125 \nz\n\" id=\"DejaVuSans-53\"/>\n      </defs>\n      <g transform=\"translate(7.2 66.653504)scale(0.1 -0.1)\">\n       <use xlink:href=\"#DejaVuSans-53\"/>\n       <use x=\"63.623047\" xlink:href=\"#DejaVuSans-48\"/>\n      </g>\n     </g>\n    </g>\n    <g id=\"ytick_7\">\n     <g id=\"line2d_14\">\n      <g>\n       <use style=\"stroke:#000000;stroke-width:0.8;\" x=\"26.925\" xlink:href=\"#mce4fe98367\" y=\"30.497143\"/>\n      </g>\n     </g>\n     <g id=\"text_16\">\n      <!-- 60 -->\n      <g transform=\"translate(7.2 34.296362)scale(0.1 -0.1)\">\n       <use xlink:href=\"#DejaVuSans-54\"/>\n       <use x=\"63.623047\" xlink:href=\"#DejaVuSans-48\"/>\n      </g>\n     </g>\n    </g>\n   </g>\n   <g id=\"patch_6\">\n    <path d=\"M 26.925 224.64 \nL 26.925 7.2 \n\" style=\"fill:none;stroke:#000000;stroke-linecap:square;stroke-linejoin:miter;stroke-width:0.8;\"/>\n   </g>\n   <g id=\"patch_7\">\n    <path d=\"M 361.725 224.64 \nL 361.725 7.2 \n\" style=\"fill:none;stroke:#000000;stroke-linecap:square;stroke-linejoin:miter;stroke-width:0.8;\"/>\n   </g>\n   <g id=\"patch_8\">\n    <path d=\"M 26.925 224.64 \nL 361.725 224.64 \n\" style=\"fill:none;stroke:#000000;stroke-linecap:square;stroke-linejoin:miter;stroke-width:0.8;\"/>\n   </g>\n   <g id=\"patch_9\">\n    <path d=\"M 26.925 7.2 \nL 361.725 7.2 \n\" style=\"fill:none;stroke:#000000;stroke-linecap:square;stroke-linejoin:miter;stroke-width:0.8;\"/>\n   </g>\n   <g id=\"legend_1\">\n    <g id=\"patch_10\">\n     <path d=\"M 316.3625 59.234375 \nL 354.725 59.234375 \nQ 356.725 59.234375 356.725 57.234375 \nL 356.725 14.2 \nQ 356.725 12.2 354.725 12.2 \nL 316.3625 12.2 \nQ 314.3625 12.2 314.3625 14.2 \nL 314.3625 57.234375 \nQ 314.3625 59.234375 316.3625 59.234375 \nz\n\" style=\"fill:#ffffff;opacity:0.8;stroke:#cccccc;stroke-linejoin:miter;\"/>\n    </g>\n    <g id=\"patch_11\">\n     <path d=\"M 318.3625 23.798437 \nL 338.3625 23.798437 \nL 338.3625 16.798437 \nL 318.3625 16.798437 \nz\n\" style=\"fill:none;opacity:0.7;stroke:#1f77b4;stroke-linejoin:miter;stroke-width:3;\"/>\n    </g>\n    <g id=\"text_17\">\n     <!-- 0 -->\n     <g transform=\"translate(346.3625 23.798437)scale(0.1 -0.1)\">\n      <use xlink:href=\"#DejaVuSans-48\"/>\n     </g>\n    </g>\n    <g id=\"patch_12\">\n     <path d=\"M 318.3625 38.476562 \nL 338.3625 38.476562 \nL 338.3625 31.476562 \nL 318.3625 31.476562 \nz\n\" style=\"fill:none;opacity:0.7;stroke:#ff7f0e;stroke-linejoin:miter;stroke-width:3;\"/>\n    </g>\n    <g id=\"text_18\">\n     <!-- 1 -->\n     <g transform=\"translate(346.3625 38.476562)scale(0.1 -0.1)\">\n      <use xlink:href=\"#DejaVuSans-49\"/>\n     </g>\n    </g>\n    <g id=\"patch_13\">\n     <path d=\"M 318.3625 53.154687 \nL 338.3625 53.154687 \nL 338.3625 46.154687 \nL 318.3625 46.154687 \nz\n\" style=\"fill:none;opacity:0.7;stroke:#2ca02c;stroke-linejoin:miter;stroke-width:3;\"/>\n    </g>\n    <g id=\"text_19\">\n     <!-- 2 -->\n     <g transform=\"translate(346.3625 53.154687)scale(0.1 -0.1)\">\n      <use xlink:href=\"#DejaVuSans-50\"/>\n     </g>\n    </g>\n   </g>\n  </g>\n </g>\n <defs>\n  <clipPath id=\"p85c0dec7ee\">\n   <rect height=\"217.44\" width=\"334.8\" x=\"26.925\" y=\"7.2\"/>\n  </clipPath>\n </defs>\n</svg>\n",
      "text/plain": "<Figure size 432x288 with 1 Axes>"
     },
     "metadata": {
      "needs_background": "light"
     },
     "output_type": "display_data"
    }
   ],
   "source": [
    "f, ax = plt.subplots(1, 1)\n",
    "for i in [0, 1, 2]:\n",
    "    print('Регион {}:'.format(i))\n",
    "    sample = df_profit[df_profit['region_id'] == i]['profit']\n",
    "    print('    Средняя прибыль, млрд: {:.2f}'.format(sample.mean()/1000000000))\n",
    "    confidence_interval = st.t.interval(0.95, len(sample)-1, sample.mean(), sample.sem())\n",
    "    print('    95% Доверительный интервал через квантили, млрд: {:.2f} - {:.2f}'.format(sample.quantile(0.025)/1000000000, sample.quantile(0.975)/1000000000))\n",
    "    print('    95% Доверительный интервал, млрд: {:.2f} - {:.2f}'.format(confidence_interval[0]/1000000000, confidence_interval[1]/1000000000))    \n",
    "    print('    Риск убытков: {:.2f}'.format(sample[sample<0].count()/sample.count()))\n",
    "    \n",
    "    sns.distplot(df_profit[df_profit['region_id'] == i]['profit'], bins=50, kde=False, label=i, ax=ax,\n",
    "                 hist_kws={\"histtype\": \"step\", \"linewidth\": 3, \"alpha\": 0.7})\n",
    "ax.legend()\n",
    "\n",
    "# df_profit[df_profit['profit'] < 0]\n"
   ]
  },
  {
   "cell_type": "markdown",
   "metadata": {},
   "source": [
    "* Регион 1 самый перспективный, 95% интервал самый большой\n",
    "* Риски нулевые для всех регионов. Был бы бюджет можно везде бурить\n",
    "* При этом среднее значение запасов для Региона 1 было самое низкое, но из-за того, что мы выбираем только 200 топовых месторождений Регион 1 становится фаворитом"
   ]
  },
  {
   "cell_type": "code",
   "execution_count": 30,
   "metadata": {},
   "outputs": [
    {
     "data": {
      "text/plain": "region_id    1.000000e+00\nprofit       9.090063e+10\nName: 0.025, dtype: float64"
     },
     "execution_count": 30,
     "metadata": {},
     "output_type": "execute_result"
    }
   ],
   "source": [
    "df_profit.query('region_id == 1').quantile(.025)"
   ]
  },
  {
   "cell_type": "markdown",
   "metadata": {},
   "source": [
    "<span style=\"color:Green\">\n",
    "\n",
    "**2019-12-18 DD**\n",
    "\n",
    "Семплирование - корректно. Также, если есть достаточно подробные данные (1000 значений), то квантили для доверительного интервала лучше всего добыть через .quantile(). В этом-то и заключается один из главных смыслов bootstrap-техники: вместо использования громоздких методов основанных на аналитических решениях применять простые оценки, отталкиваясь от того, что имеется достаточный размер выборки для этого.\n",
    "\n",
    "Оценка доверительного интервала через st.t.interval в данном случае может быть и не применима, если у нас данные не распределены согласно распределению Стьюдента. А, в общем случае, мы не знаем, как они распределены. Попробуй вывести дов. интервалы через quantile().\n",
    "\n",
    "</span>"
   ]
  },
  {
   "cell_type": "markdown",
   "metadata": {},
   "source": [
    "Добавил для сравнения расчет через квантили. Получилось более правдоподобно, через interval коридор получался совсем узким, только вершина распределения в него попадала и я не очень понимал как это может быть 95% интервалом. Сейчас интервал широкий и только хвосты отсекаются, что больше похоже на правду"
   ]
  },
  {
   "cell_type": "markdown",
   "metadata": {},
   "source": [
    "<span style=\"color:Green\">\n",
    "\n",
    "**2019-12-18 DD**\n",
    "\n",
    "Важно! Построй распределение разницы в прибыли между старым подходом и новым. Для какого региона подход с моделью тогда окажется менее рискованным?\n",
    "\n",
    "</span>"
   ]
  },
  {
   "cell_type": "code",
   "execution_count": 31,
   "metadata": {},
   "outputs": [],
   "source": [
    "df_profit = pd.DataFrame(columns=['region_id', 'profit'])\n",
    "\n",
    "for i in [0, 1, 2]:\n",
    "    df, features, target = preparing(i, True)\n",
    "    features_train, features_valid, target_train, target_valid = train_test_split(features, target, \n",
    "                                                                                  train_size=0.75, \n",
    "                                                                                  random_state=RANDOM_STATE)\n",
    "    predicted_valid = lr(features_train, target_train, features_valid)\n",
    "    predicted_target_valid = pd.DataFrame({'predicted_product': predicted_valid, \n",
    "                                           'target_product': target_valid}, \n",
    "                                          index=features_valid.index)\n",
    "    \n",
    "    RANDOM_STATE_BOOTSTRAP = RandomState(RANDOM_STATE)\n",
    "    \n",
    "    for j in range(0, BOOTSTRAP_COUNT):\n",
    "        predicted_target_valid_selected = predicted_target_valid.sample(RESEARCH_COUNT, random_state=RANDOM_STATE_BOOTSTRAP).sort_values(by='predicted_product', ascending=False)[:BOREHOLE_COUNT]\n",
    "        \n",
    "        predicted_target_valid_selected['product'] = predicted_target_valid_selected['predicted_product'] - predicted_target_valid_selected['target_product']\n",
    "        profit_sample = profit(predicted_target_valid_selected)\n",
    "        df_profit.loc[i*BOOTSTRAP_COUNT+j] = [i]+[profit_sample]"
   ]
  },
  {
   "cell_type": "code",
   "execution_count": 32,
   "metadata": {},
   "outputs": [
    {
     "name": "stdout",
     "output_type": "stream",
     "text": "Регион 0:\n    95% Доверительный интервал через квантили, млрд: -14.85 - -5.50\nРегион 1:\n    95% Доверительный интервал через квантили, млрд: -10.14 - -9.92\nРегион 2:\n    95% Доверительный интервал через квантили, млрд: -15.43 - -5.81\n"
    },
    {
     "data": {
      "text/plain": "<matplotlib.legend.Legend at 0x131741290>"
     },
     "execution_count": 32,
     "metadata": {},
     "output_type": "execute_result"
    },
    {
     "data": {
      "image/png": "[encoded data removed]",
      "image/svg+xml": "<?xml version=\"1.0\" encoding=\"utf-8\" standalone=\"no\"?>\n<!DOCTYPE svg PUBLIC \"-//W3C//DTD SVG 1.1//EN\"\n  \"http://www.w3.org/Graphics/SVG/1.1/DTD/svg11.dtd\">\n<!-- Created with matplotlib (https://matplotlib.org/) -->\n<svg height=\"262.19625pt\" version=\"1.1\" viewBox=\"0 0 368.925 262.19625\" width=\"368.925pt\" xmlns=\"http://www.w3.org/2000/svg\" xmlns:xlink=\"http://www.w3.org/1999/xlink\">\n <defs>\n  <style type=\"text/css\">\n*{stroke-linecap:butt;stroke-linejoin:round;}\n  </style>\n </defs>\n <g id=\"figure_1\">\n  <g id=\"patch_1\">\n   <path d=\"M -0 262.19625 \nL 368.925 262.19625 \nL 368.925 0 \nL -0 0 \nz\n\" style=\"fill:none;\"/>\n  </g>\n  <g id=\"axes_1\">\n   <g id=\"patch_2\">\n    <path d=\"M 26.925 224.64 \nL 361.725 224.64 \nL 361.725 7.2 \nL 26.925 7.2 \nz\n\" style=\"fill:#ffffff;\"/>\n   </g>\n   <g id=\"patch_3\">\n    <path clip-path=\"url(#p3a6bd880c9)\" d=\"M 42.737829 224.64 \nL 42.737829 221.245152 \nL 48.369245 221.245152 \nL 48.369245 221.245152 \nL 54.000662 221.245152 \nL 54.000662 224.64 \nL 59.632078 224.64 \nL 59.632078 214.455457 \nL 65.263495 214.455457 \nL 65.263495 214.455457 \nL 70.894911 214.455457 \nL 70.894911 221.245152 \nL 76.526328 221.245152 \nL 76.526328 214.455457 \nL 82.157744 214.455457 \nL 82.157744 214.455457 \nL 87.789161 214.455457 \nL 87.789161 204.270913 \nL 93.420577 204.270913 \nL 93.420577 204.270913 \nL 99.051994 204.270913 \nL 99.051994 200.876066 \nL 104.68341 200.876066 \nL 104.68341 197.481218 \nL 110.314827 197.481218 \nL 110.314827 166.927588 \nL 115.946243 166.927588 \nL 115.946243 163.53274 \nL 121.57766 163.53274 \nL 121.57766 153.348197 \nL 127.209076 153.348197 \nL 127.209076 149.953349 \nL 132.840493 149.953349 \nL 132.840493 119.399719 \nL 138.471909 119.399719 \nL 138.471909 156.743044 \nL 144.103326 156.743044 \nL 144.103326 132.97911 \nL 149.734742 132.97911 \nL 149.734742 102.42548 \nL 155.366159 102.42548 \nL 155.366159 116.004871 \nL 160.997575 116.004871 \nL 160.997575 95.635785 \nL 166.628992 95.635785 \nL 166.628992 88.846089 \nL 172.260408 88.846089 \nL 172.260408 68.477002 \nL 177.891825 68.477002 \nL 177.891825 75.266698 \nL 183.523241 75.266698 \nL 183.523241 65.082155 \nL 189.154658 65.082155 \nL 189.154658 71.87185 \nL 194.786074 71.87185 \nL 194.786074 75.266698 \nL 200.417491 75.266698 \nL 200.417491 54.897611 \nL 206.048907 54.897611 \nL 206.048907 85.451241 \nL 211.680324 85.451241 \nL 211.680324 58.292459 \nL 217.31174 58.292459 \nL 217.31174 88.846089 \nL 222.943157 88.846089 \nL 222.943157 92.240937 \nL 228.574573 92.240937 \nL 228.574573 102.42548 \nL 234.20599 102.42548 \nL 234.20599 132.97911 \nL 239.837406 132.97911 \nL 239.837406 139.768806 \nL 245.468823 139.768806 \nL 245.468823 126.189415 \nL 251.100239 126.189415 \nL 251.100239 153.348197 \nL 256.731656 153.348197 \nL 256.731656 173.717283 \nL 262.363072 173.717283 \nL 262.363072 183.901827 \nL 267.994489 183.901827 \nL 267.994489 194.08637 \nL 273.625905 194.08637 \nL 273.625905 200.876066 \nL 279.257322 200.876066 \nL 279.257322 204.270913 \nL 284.888738 204.270913 \nL 284.888738 207.665761 \nL 290.520155 207.665761 \nL 290.520155 197.481218 \nL 296.151571 197.481218 \nL 296.151571 207.665761 \nL 301.782988 207.665761 \nL 301.782988 221.245152 \nL 307.414404 221.245152 \nL 307.414404 221.245152 \nL 313.045821 221.245152 \nL 313.045821 221.245152 \nL 318.677237 221.245152 \nL 318.677237 214.455457 \nL 324.308654 214.455457 \nL 324.308654 224.64 \n\" style=\"fill:none;opacity:0.7;stroke:#1f77b4;stroke-linejoin:miter;stroke-width:3;\"/>\n   </g>\n   <g id=\"patch_4\">\n    <path clip-path=\"url(#p3a6bd880c9)\" d=\"M 190.23203 224.64 \nL 190.23203 221.245152 \nL 190.376939 221.245152 \nL 190.376939 217.850304 \nL 190.521847 217.850304 \nL 190.521847 224.64 \nL 190.666756 224.64 \nL 190.666756 221.245152 \nL 190.811665 221.245152 \nL 190.811665 224.64 \nL 190.956573 224.64 \nL 190.956573 224.64 \nL 191.101482 224.64 \nL 191.101482 217.850304 \nL 191.246391 217.850304 \nL 191.246391 214.455457 \nL 191.391299 214.455457 \nL 191.391299 217.850304 \nL 191.536208 217.850304 \nL 191.536208 194.08637 \nL 191.681117 194.08637 \nL 191.681117 217.850304 \nL 191.826025 217.850304 \nL 191.826025 204.270913 \nL 191.970934 204.270913 \nL 191.970934 194.08637 \nL 192.115843 194.08637 \nL 192.115843 190.691522 \nL 192.260751 190.691522 \nL 192.260751 156.743044 \nL 192.40566 156.743044 \nL 192.40566 160.137892 \nL 192.550569 160.137892 \nL 192.550569 146.558501 \nL 192.695478 146.558501 \nL 192.695478 153.348197 \nL 192.840386 153.348197 \nL 192.840386 116.004871 \nL 192.985295 116.004871 \nL 192.985295 102.42548 \nL 193.130204 102.42548 \nL 193.130204 92.240937 \nL 193.275112 92.240937 \nL 193.275112 20.949133 \nL 193.420021 20.949133 \nL 193.420021 92.240937 \nL 193.56493 92.240937 \nL 193.56493 54.897611 \nL 193.709838 54.897611 \nL 193.709838 27.738829 \nL 193.854747 27.738829 \nL 193.854747 51.502763 \nL 193.999656 51.502763 \nL 193.999656 65.082155 \nL 194.144564 65.082155 \nL 194.144564 27.738829 \nL 194.289473 27.738829 \nL 194.289473 105.820328 \nL 194.434382 105.820328 \nL 194.434382 95.635785 \nL 194.57929 95.635785 \nL 194.57929 75.266698 \nL 194.724199 75.266698 \nL 194.724199 99.030632 \nL 194.869108 99.030632 \nL 194.869108 109.215176 \nL 195.014016 109.215176 \nL 195.014016 102.42548 \nL 195.158925 102.42548 \nL 195.158925 153.348197 \nL 195.303834 153.348197 \nL 195.303834 132.97911 \nL 195.448743 132.97911 \nL 195.448743 143.163653 \nL 195.593651 143.163653 \nL 195.593651 139.768806 \nL 195.73856 139.768806 \nL 195.73856 170.322436 \nL 195.883469 170.322436 \nL 195.883469 160.137892 \nL 196.028377 160.137892 \nL 196.028377 170.322436 \nL 196.173286 170.322436 \nL 196.173286 207.665761 \nL 196.318195 207.665761 \nL 196.318195 211.060609 \nL 196.463103 211.060609 \nL 196.463103 214.455457 \nL 196.608012 214.455457 \nL 196.608012 214.455457 \nL 196.752921 214.455457 \nL 196.752921 221.245152 \nL 196.897829 221.245152 \nL 196.897829 211.060609 \nL 197.042738 211.060609 \nL 197.042738 207.665761 \nL 197.187647 207.665761 \nL 197.187647 221.245152 \nL 197.332555 221.245152 \nL 197.332555 217.850304 \nL 197.477464 217.850304 \nL 197.477464 224.64 \n\" style=\"fill:none;opacity:0.7;stroke:#ff7f0e;stroke-linejoin:miter;stroke-width:3;\"/>\n   </g>\n   <g id=\"patch_5\">\n    <path clip-path=\"url(#p3a6bd880c9)\" d=\"M 42.143182 224.64 \nL 42.143182 217.850304 \nL 48.230455 217.850304 \nL 48.230455 217.850304 \nL 54.317727 217.850304 \nL 54.317727 214.455457 \nL 60.405 214.455457 \nL 60.405 214.455457 \nL 66.492273 214.455457 \nL 66.492273 214.455457 \nL 72.579545 214.455457 \nL 72.579545 214.455457 \nL 78.666818 214.455457 \nL 78.666818 197.481218 \nL 84.754091 197.481218 \nL 84.754091 200.876066 \nL 90.841364 200.876066 \nL 90.841364 197.481218 \nL 96.928636 197.481218 \nL 96.928636 180.506979 \nL 103.015909 180.506979 \nL 103.015909 197.481218 \nL 109.103182 197.481218 \nL 109.103182 143.163653 \nL 115.190455 143.163653 \nL 115.190455 163.53274 \nL 121.277727 163.53274 \nL 121.277727 183.901827 \nL 127.365 183.901827 \nL 127.365 105.820328 \nL 133.452273 105.820328 \nL 133.452273 146.558501 \nL 139.539545 146.558501 \nL 139.539545 132.97911 \nL 145.626818 132.97911 \nL 145.626818 82.056393 \nL 151.714091 82.056393 \nL 151.714091 119.399719 \nL 157.801364 119.399719 \nL 157.801364 82.056393 \nL 163.888636 82.056393 \nL 163.888636 85.451241 \nL 169.975909 85.451241 \nL 169.975909 61.687307 \nL 176.063182 61.687307 \nL 176.063182 58.292459 \nL 182.150455 58.292459 \nL 182.150455 54.897611 \nL 188.237727 54.897611 \nL 188.237727 44.713068 \nL 194.325 44.713068 \nL 194.325 17.554286 \nL 200.412273 17.554286 \nL 200.412273 58.292459 \nL 206.499545 58.292459 \nL 206.499545 71.87185 \nL 212.586818 71.87185 \nL 212.586818 119.399719 \nL 218.674091 119.399719 \nL 218.674091 85.451241 \nL 224.761364 85.451241 \nL 224.761364 139.768806 \nL 230.848636 139.768806 \nL 230.848636 122.794567 \nL 236.935909 122.794567 \nL 236.935909 129.584262 \nL 243.023182 129.584262 \nL 243.023182 143.163653 \nL 249.110455 143.163653 \nL 249.110455 156.743044 \nL 255.197727 156.743044 \nL 255.197727 156.743044 \nL 261.285 156.743044 \nL 261.285 163.53274 \nL 267.372273 163.53274 \nL 267.372273 156.743044 \nL 273.459545 156.743044 \nL 273.459545 194.08637 \nL 279.546818 194.08637 \nL 279.546818 214.455457 \nL 285.634091 214.455457 \nL 285.634091 211.060609 \nL 291.721364 211.060609 \nL 291.721364 211.060609 \nL 297.808636 211.060609 \nL 297.808636 211.060609 \nL 303.895909 211.060609 \nL 303.895909 214.455457 \nL 309.983182 214.455457 \nL 309.983182 217.850304 \nL 316.070455 217.850304 \nL 316.070455 214.455457 \nL 322.157727 214.455457 \nL 322.157727 224.64 \nL 328.245 224.64 \nL 328.245 224.64 \nL 334.332273 224.64 \nL 334.332273 224.64 \nL 340.419545 224.64 \nL 340.419545 221.245152 \nL 346.506818 221.245152 \nL 346.506818 224.64 \n\" style=\"fill:none;opacity:0.7;stroke:#2ca02c;stroke-linejoin:miter;stroke-width:3;\"/>\n   </g>\n   <g id=\"matplotlib.axis_1\">\n    <g id=\"xtick_1\">\n     <g id=\"line2d_1\">\n      <defs>\n       <path d=\"M 0 0 \nL 0 3.5 \n\" id=\"mf3903f5d3d\" style=\"stroke:#000000;stroke-width:0.8;\"/>\n      </defs>\n      <g>\n       <use style=\"stroke:#000000;stroke-width:0.8;\" x=\"35.107786\" xlink:href=\"#mf3903f5d3d\" y=\"224.64\"/>\n      </g>\n     </g>\n     <g id=\"text_1\">\n      <!-- −18 -->\n      <defs>\n       <path d=\"M 10.59375 35.5 \nL 73.1875 35.5 \nL 73.1875 27.203125 \nL 10.59375 27.203125 \nz\n\" id=\"DejaVuSans-8722\"/>\n       <path d=\"M 12.40625 8.296875 \nL 28.515625 8.296875 \nL 28.515625 63.921875 \nL 10.984375 60.40625 \nL 10.984375 69.390625 \nL 28.421875 72.90625 \nL 38.28125 72.90625 \nL 38.28125 8.296875 \nL 54.390625 8.296875 \nL 54.390625 0 \nL 12.40625 0 \nz\n\" id=\"DejaVuSans-49\"/>\n       <path d=\"M 31.78125 34.625 \nQ 24.75 34.625 20.71875 30.859375 \nQ 16.703125 27.09375 16.703125 20.515625 \nQ 16.703125 13.921875 20.71875 10.15625 \nQ 24.75 6.390625 31.78125 6.390625 \nQ 38.8125 6.390625 42.859375 10.171875 \nQ 46.921875 13.96875 46.921875 20.515625 \nQ 46.921875 27.09375 42.890625 30.859375 \nQ 38.875 34.625 31.78125 34.625 \nz\nM 21.921875 38.8125 \nQ 15.578125 40.375 12.03125 44.71875 \nQ 8.5 49.078125 8.5 55.328125 \nQ 8.5 64.0625 14.71875 69.140625 \nQ 20.953125 74.21875 31.78125 74.21875 \nQ 42.671875 74.21875 48.875 69.140625 \nQ 55.078125 64.0625 55.078125 55.328125 \nQ 55.078125 49.078125 51.53125 44.71875 \nQ 48 40.375 41.703125 38.8125 \nQ 48.828125 37.15625 52.796875 32.3125 \nQ 56.78125 27.484375 56.78125 20.515625 \nQ 56.78125 9.90625 50.3125 4.234375 \nQ 43.84375 -1.421875 31.78125 -1.421875 \nQ 19.734375 -1.421875 13.25 4.234375 \nQ 6.78125 9.90625 6.78125 20.515625 \nQ 6.78125 27.484375 10.78125 32.3125 \nQ 14.796875 37.15625 21.921875 38.8125 \nz\nM 18.3125 54.390625 \nQ 18.3125 48.734375 21.84375 45.5625 \nQ 25.390625 42.390625 31.78125 42.390625 \nQ 38.140625 42.390625 41.71875 45.5625 \nQ 45.3125 48.734375 45.3125 54.390625 \nQ 45.3125 60.0625 41.71875 63.234375 \nQ 38.140625 66.40625 31.78125 66.40625 \nQ 25.390625 66.40625 21.84375 63.234375 \nQ 18.3125 60.0625 18.3125 54.390625 \nz\n\" id=\"DejaVuSans-56\"/>\n      </defs>\n      <g transform=\"translate(24.555442 239.238437)scale(0.1 -0.1)\">\n       <use xlink:href=\"#DejaVuSans-8722\"/>\n       <use x=\"83.789062\" xlink:href=\"#DejaVuSans-49\"/>\n       <use x=\"147.412109\" xlink:href=\"#DejaVuSans-56\"/>\n      </g>\n     </g>\n    </g>\n    <g id=\"xtick_2\">\n     <g id=\"line2d_2\">\n      <g>\n       <use style=\"stroke:#000000;stroke-width:0.8;\" x=\"74.99504\" xlink:href=\"#mf3903f5d3d\" y=\"224.64\"/>\n      </g>\n     </g>\n     <g id=\"text_2\">\n      <!-- −16 -->\n      <defs>\n       <path d=\"M 33.015625 40.375 \nQ 26.375 40.375 22.484375 35.828125 \nQ 18.609375 31.296875 18.609375 23.390625 \nQ 18.609375 15.53125 22.484375 10.953125 \nQ 26.375 6.390625 33.015625 6.390625 \nQ 39.65625 6.390625 43.53125 10.953125 \nQ 47.40625 15.53125 47.40625 23.390625 \nQ 47.40625 31.296875 43.53125 35.828125 \nQ 39.65625 40.375 33.015625 40.375 \nz\nM 52.59375 71.296875 \nL 52.59375 62.3125 \nQ 48.875 64.0625 45.09375 64.984375 \nQ 41.3125 65.921875 37.59375 65.921875 \nQ 27.828125 65.921875 22.671875 59.328125 \nQ 17.53125 52.734375 16.796875 39.40625 \nQ 19.671875 43.65625 24.015625 45.921875 \nQ 28.375 48.1875 33.59375 48.1875 \nQ 44.578125 48.1875 50.953125 41.515625 \nQ 57.328125 34.859375 57.328125 23.390625 \nQ 57.328125 12.15625 50.6875 5.359375 \nQ 44.046875 -1.421875 33.015625 -1.421875 \nQ 20.359375 -1.421875 13.671875 8.265625 \nQ 6.984375 17.96875 6.984375 36.375 \nQ 6.984375 53.65625 15.1875 63.9375 \nQ 23.390625 74.21875 37.203125 74.21875 \nQ 40.921875 74.21875 44.703125 73.484375 \nQ 48.484375 72.75 52.59375 71.296875 \nz\n\" id=\"DejaVuSans-54\"/>\n      </defs>\n      <g transform=\"translate(64.442696 239.238437)scale(0.1 -0.1)\">\n       <use xlink:href=\"#DejaVuSans-8722\"/>\n       <use x=\"83.789062\" xlink:href=\"#DejaVuSans-49\"/>\n       <use x=\"147.412109\" xlink:href=\"#DejaVuSans-54\"/>\n      </g>\n     </g>\n    </g>\n    <g id=\"xtick_3\">\n     <g id=\"line2d_3\">\n      <g>\n       <use style=\"stroke:#000000;stroke-width:0.8;\" x=\"114.882294\" xlink:href=\"#mf3903f5d3d\" y=\"224.64\"/>\n      </g>\n     </g>\n     <g id=\"text_3\">\n      <!-- −14 -->\n      <defs>\n       <path d=\"M 37.796875 64.3125 \nL 12.890625 25.390625 \nL 37.796875 25.390625 \nz\nM 35.203125 72.90625 \nL 47.609375 72.90625 \nL 47.609375 25.390625 \nL 58.015625 25.390625 \nL 58.015625 17.1875 \nL 47.609375 17.1875 \nL 47.609375 0 \nL 37.796875 0 \nL 37.796875 17.1875 \nL 4.890625 17.1875 \nL 4.890625 26.703125 \nz\n\" id=\"DejaVuSans-52\"/>\n      </defs>\n      <g transform=\"translate(104.32995 239.238437)scale(0.1 -0.1)\">\n       <use xlink:href=\"#DejaVuSans-8722\"/>\n       <use x=\"83.789062\" xlink:href=\"#DejaVuSans-49\"/>\n       <use x=\"147.412109\" xlink:href=\"#DejaVuSans-52\"/>\n      </g>\n     </g>\n    </g>\n    <g id=\"xtick_4\">\n     <g id=\"line2d_4\">\n      <g>\n       <use style=\"stroke:#000000;stroke-width:0.8;\" x=\"154.769548\" xlink:href=\"#mf3903f5d3d\" y=\"224.64\"/>\n      </g>\n     </g>\n     <g id=\"text_4\">\n      <!-- −12 -->\n      <defs>\n       <path d=\"M 19.1875 8.296875 \nL 53.609375 8.296875 \nL 53.609375 0 \nL 7.328125 0 \nL 7.328125 8.296875 \nQ 12.9375 14.109375 22.625 23.890625 \nQ 32.328125 33.6875 34.8125 36.53125 \nQ 39.546875 41.84375 41.421875 45.53125 \nQ 43.3125 49.21875 43.3125 52.78125 \nQ 43.3125 58.59375 39.234375 62.25 \nQ 35.15625 65.921875 28.609375 65.921875 \nQ 23.96875 65.921875 18.8125 64.3125 \nQ 13.671875 62.703125 7.8125 59.421875 \nL 7.8125 69.390625 \nQ 13.765625 71.78125 18.9375 73 \nQ 24.125 74.21875 28.421875 74.21875 \nQ 39.75 74.21875 46.484375 68.546875 \nQ 53.21875 62.890625 53.21875 53.421875 \nQ 53.21875 48.921875 51.53125 44.890625 \nQ 49.859375 40.875 45.40625 35.40625 \nQ 44.1875 33.984375 37.640625 27.21875 \nQ 31.109375 20.453125 19.1875 8.296875 \nz\n\" id=\"DejaVuSans-50\"/>\n      </defs>\n      <g transform=\"translate(144.217204 239.238437)scale(0.1 -0.1)\">\n       <use xlink:href=\"#DejaVuSans-8722\"/>\n       <use x=\"83.789062\" xlink:href=\"#DejaVuSans-49\"/>\n       <use x=\"147.412109\" xlink:href=\"#DejaVuSans-50\"/>\n      </g>\n     </g>\n    </g>\n    <g id=\"xtick_5\">\n     <g id=\"line2d_5\">\n      <g>\n       <use style=\"stroke:#000000;stroke-width:0.8;\" x=\"194.656802\" xlink:href=\"#mf3903f5d3d\" y=\"224.64\"/>\n      </g>\n     </g>\n     <g id=\"text_5\">\n      <!-- −10 -->\n      <defs>\n       <path d=\"M 31.78125 66.40625 \nQ 24.171875 66.40625 20.328125 58.90625 \nQ 16.5 51.421875 16.5 36.375 \nQ 16.5 21.390625 20.328125 13.890625 \nQ 24.171875 6.390625 31.78125 6.390625 \nQ 39.453125 6.390625 43.28125 13.890625 \nQ 47.125 21.390625 47.125 36.375 \nQ 47.125 51.421875 43.28125 58.90625 \nQ 39.453125 66.40625 31.78125 66.40625 \nz\nM 31.78125 74.21875 \nQ 44.046875 74.21875 50.515625 64.515625 \nQ 56.984375 54.828125 56.984375 36.375 \nQ 56.984375 17.96875 50.515625 8.265625 \nQ 44.046875 -1.421875 31.78125 -1.421875 \nQ 19.53125 -1.421875 13.0625 8.265625 \nQ 6.59375 17.96875 6.59375 36.375 \nQ 6.59375 54.828125 13.0625 64.515625 \nQ 19.53125 74.21875 31.78125 74.21875 \nz\n\" id=\"DejaVuSans-48\"/>\n      </defs>\n      <g transform=\"translate(184.104459 239.238437)scale(0.1 -0.1)\">\n       <use xlink:href=\"#DejaVuSans-8722\"/>\n       <use x=\"83.789062\" xlink:href=\"#DejaVuSans-49\"/>\n       <use x=\"147.412109\" xlink:href=\"#DejaVuSans-48\"/>\n      </g>\n     </g>\n    </g>\n    <g id=\"xtick_6\">\n     <g id=\"line2d_6\">\n      <g>\n       <use style=\"stroke:#000000;stroke-width:0.8;\" x=\"234.544057\" xlink:href=\"#mf3903f5d3d\" y=\"224.64\"/>\n      </g>\n     </g>\n     <g id=\"text_6\">\n      <!-- −8 -->\n      <g transform=\"translate(227.172963 239.238437)scale(0.1 -0.1)\">\n       <use xlink:href=\"#DejaVuSans-8722\"/>\n       <use x=\"83.789062\" xlink:href=\"#DejaVuSans-56\"/>\n      </g>\n     </g>\n    </g>\n    <g id=\"xtick_7\">\n     <g id=\"line2d_7\">\n      <g>\n       <use style=\"stroke:#000000;stroke-width:0.8;\" x=\"274.431311\" xlink:href=\"#mf3903f5d3d\" y=\"224.64\"/>\n      </g>\n     </g>\n     <g id=\"text_7\">\n      <!-- −6 -->\n      <g transform=\"translate(267.060217 239.238437)scale(0.1 -0.1)\">\n       <use xlink:href=\"#DejaVuSans-8722\"/>\n       <use x=\"83.789062\" xlink:href=\"#DejaVuSans-54\"/>\n      </g>\n     </g>\n    </g>\n    <g id=\"xtick_8\">\n     <g id=\"line2d_8\">\n      <g>\n       <use style=\"stroke:#000000;stroke-width:0.8;\" x=\"314.318565\" xlink:href=\"#mf3903f5d3d\" y=\"224.64\"/>\n      </g>\n     </g>\n     <g id=\"text_8\">\n      <!-- −4 -->\n      <g transform=\"translate(306.947471 239.238437)scale(0.1 -0.1)\">\n       <use xlink:href=\"#DejaVuSans-8722\"/>\n       <use x=\"83.789062\" xlink:href=\"#DejaVuSans-52\"/>\n      </g>\n     </g>\n    </g>\n    <g id=\"xtick_9\">\n     <g id=\"line2d_9\">\n      <g>\n       <use style=\"stroke:#000000;stroke-width:0.8;\" x=\"354.205819\" xlink:href=\"#mf3903f5d3d\" y=\"224.64\"/>\n      </g>\n     </g>\n     <g id=\"text_9\">\n      <!-- −2 -->\n      <g transform=\"translate(346.834725 239.238437)scale(0.1 -0.1)\">\n       <use xlink:href=\"#DejaVuSans-8722\"/>\n       <use x=\"83.789062\" xlink:href=\"#DejaVuSans-50\"/>\n      </g>\n     </g>\n    </g>\n    <g id=\"text_10\">\n     <!-- profit -->\n     <defs>\n      <path d=\"M 18.109375 8.203125 \nL 18.109375 -20.796875 \nL 9.078125 -20.796875 \nL 9.078125 54.6875 \nL 18.109375 54.6875 \nL 18.109375 46.390625 \nQ 20.953125 51.265625 25.265625 53.625 \nQ 29.59375 56 35.59375 56 \nQ 45.5625 56 51.78125 48.09375 \nQ 58.015625 40.1875 58.015625 27.296875 \nQ 58.015625 14.40625 51.78125 6.484375 \nQ 45.5625 -1.421875 35.59375 -1.421875 \nQ 29.59375 -1.421875 25.265625 0.953125 \nQ 20.953125 3.328125 18.109375 8.203125 \nz\nM 48.6875 27.296875 \nQ 48.6875 37.203125 44.609375 42.84375 \nQ 40.53125 48.484375 33.40625 48.484375 \nQ 26.265625 48.484375 22.1875 42.84375 \nQ 18.109375 37.203125 18.109375 27.296875 \nQ 18.109375 17.390625 22.1875 11.75 \nQ 26.265625 6.109375 33.40625 6.109375 \nQ 40.53125 6.109375 44.609375 11.75 \nQ 48.6875 17.390625 48.6875 27.296875 \nz\n\" id=\"DejaVuSans-112\"/>\n      <path d=\"M 41.109375 46.296875 \nQ 39.59375 47.171875 37.8125 47.578125 \nQ 36.03125 48 33.890625 48 \nQ 26.265625 48 22.1875 43.046875 \nQ 18.109375 38.09375 18.109375 28.8125 \nL 18.109375 0 \nL 9.078125 0 \nL 9.078125 54.6875 \nL 18.109375 54.6875 \nL 18.109375 46.1875 \nQ 20.953125 51.171875 25.484375 53.578125 \nQ 30.03125 56 36.53125 56 \nQ 37.453125 56 38.578125 55.875 \nQ 39.703125 55.765625 41.0625 55.515625 \nz\n\" id=\"DejaVuSans-114\"/>\n      <path d=\"M 30.609375 48.390625 \nQ 23.390625 48.390625 19.1875 42.75 \nQ 14.984375 37.109375 14.984375 27.296875 \nQ 14.984375 17.484375 19.15625 11.84375 \nQ 23.34375 6.203125 30.609375 6.203125 \nQ 37.796875 6.203125 41.984375 11.859375 \nQ 46.1875 17.53125 46.1875 27.296875 \nQ 46.1875 37.015625 41.984375 42.703125 \nQ 37.796875 48.390625 30.609375 48.390625 \nz\nM 30.609375 56 \nQ 42.328125 56 49.015625 48.375 \nQ 55.71875 40.765625 55.71875 27.296875 \nQ 55.71875 13.875 49.015625 6.21875 \nQ 42.328125 -1.421875 30.609375 -1.421875 \nQ 18.84375 -1.421875 12.171875 6.21875 \nQ 5.515625 13.875 5.515625 27.296875 \nQ 5.515625 40.765625 12.171875 48.375 \nQ 18.84375 56 30.609375 56 \nz\n\" id=\"DejaVuSans-111\"/>\n      <path d=\"M 37.109375 75.984375 \nL 37.109375 68.5 \nL 28.515625 68.5 \nQ 23.6875 68.5 21.796875 66.546875 \nQ 19.921875 64.59375 19.921875 59.515625 \nL 19.921875 54.6875 \nL 34.71875 54.6875 \nL 34.71875 47.703125 \nL 19.921875 47.703125 \nL 19.921875 0 \nL 10.890625 0 \nL 10.890625 47.703125 \nL 2.296875 47.703125 \nL 2.296875 54.6875 \nL 10.890625 54.6875 \nL 10.890625 58.5 \nQ 10.890625 67.625 15.140625 71.796875 \nQ 19.390625 75.984375 28.609375 75.984375 \nz\n\" id=\"DejaVuSans-102\"/>\n      <path d=\"M 9.421875 54.6875 \nL 18.40625 54.6875 \nL 18.40625 0 \nL 9.421875 0 \nz\nM 9.421875 75.984375 \nL 18.40625 75.984375 \nL 18.40625 64.59375 \nL 9.421875 64.59375 \nz\n\" id=\"DejaVuSans-105\"/>\n      <path d=\"M 18.3125 70.21875 \nL 18.3125 54.6875 \nL 36.8125 54.6875 \nL 36.8125 47.703125 \nL 18.3125 47.703125 \nL 18.3125 18.015625 \nQ 18.3125 11.328125 20.140625 9.421875 \nQ 21.96875 7.515625 27.59375 7.515625 \nL 36.8125 7.515625 \nL 36.8125 0 \nL 27.59375 0 \nQ 17.1875 0 13.234375 3.875 \nQ 9.28125 7.765625 9.28125 18.015625 \nL 9.28125 47.703125 \nL 2.6875 47.703125 \nL 2.6875 54.6875 \nL 9.28125 54.6875 \nL 9.28125 70.21875 \nz\n\" id=\"DejaVuSans-116\"/>\n     </defs>\n     <g transform=\"translate(180.928125 252.916562)scale(0.1 -0.1)\">\n      <use xlink:href=\"#DejaVuSans-112\"/>\n      <use x=\"63.476562\" xlink:href=\"#DejaVuSans-114\"/>\n      <use x=\"104.558594\" xlink:href=\"#DejaVuSans-111\"/>\n      <use x=\"165.740234\" xlink:href=\"#DejaVuSans-102\"/>\n      <use x=\"200.945312\" xlink:href=\"#DejaVuSans-105\"/>\n      <use x=\"228.728516\" xlink:href=\"#DejaVuSans-116\"/>\n     </g>\n    </g>\n   </g>\n   <g id=\"matplotlib.axis_2\">\n    <g id=\"ytick_1\">\n     <g id=\"line2d_10\">\n      <defs>\n       <path d=\"M 0 0 \nL -3.5 0 \n\" id=\"m37c635a6af\" style=\"stroke:#000000;stroke-width:0.8;\"/>\n      </defs>\n      <g>\n       <use style=\"stroke:#000000;stroke-width:0.8;\" x=\"26.925\" xlink:href=\"#m37c635a6af\" y=\"224.64\"/>\n      </g>\n     </g>\n     <g id=\"text_11\">\n      <!-- 0 -->\n      <g transform=\"translate(13.5625 228.439219)scale(0.1 -0.1)\">\n       <use xlink:href=\"#DejaVuSans-48\"/>\n      </g>\n     </g>\n    </g>\n    <g id=\"ytick_2\">\n     <g id=\"line2d_11\">\n      <g>\n       <use style=\"stroke:#000000;stroke-width:0.8;\" x=\"26.925\" xlink:href=\"#m37c635a6af\" y=\"190.691522\"/>\n      </g>\n     </g>\n     <g id=\"text_12\">\n      <!-- 10 -->\n      <g transform=\"translate(7.2 194.490741)scale(0.1 -0.1)\">\n       <use xlink:href=\"#DejaVuSans-49\"/>\n       <use x=\"63.623047\" xlink:href=\"#DejaVuSans-48\"/>\n      </g>\n     </g>\n    </g>\n    <g id=\"ytick_3\">\n     <g id=\"line2d_12\">\n      <g>\n       <use style=\"stroke:#000000;stroke-width:0.8;\" x=\"26.925\" xlink:href=\"#m37c635a6af\" y=\"156.743044\"/>\n      </g>\n     </g>\n     <g id=\"text_13\">\n      <!-- 20 -->\n      <g transform=\"translate(7.2 160.542263)scale(0.1 -0.1)\">\n       <use xlink:href=\"#DejaVuSans-50\"/>\n       <use x=\"63.623047\" xlink:href=\"#DejaVuSans-48\"/>\n      </g>\n     </g>\n    </g>\n    <g id=\"ytick_4\">\n     <g id=\"line2d_13\">\n      <g>\n       <use style=\"stroke:#000000;stroke-width:0.8;\" x=\"26.925\" xlink:href=\"#m37c635a6af\" y=\"122.794567\"/>\n      </g>\n     </g>\n     <g id=\"text_14\">\n      <!-- 30 -->\n      <defs>\n       <path d=\"M 40.578125 39.3125 \nQ 47.65625 37.796875 51.625 33 \nQ 55.609375 28.21875 55.609375 21.1875 \nQ 55.609375 10.40625 48.1875 4.484375 \nQ 40.765625 -1.421875 27.09375 -1.421875 \nQ 22.515625 -1.421875 17.65625 -0.515625 \nQ 12.796875 0.390625 7.625 2.203125 \nL 7.625 11.71875 \nQ 11.71875 9.328125 16.59375 8.109375 \nQ 21.484375 6.890625 26.8125 6.890625 \nQ 36.078125 6.890625 40.9375 10.546875 \nQ 45.796875 14.203125 45.796875 21.1875 \nQ 45.796875 27.640625 41.28125 31.265625 \nQ 36.765625 34.90625 28.71875 34.90625 \nL 20.21875 34.90625 \nL 20.21875 43.015625 \nL 29.109375 43.015625 \nQ 36.375 43.015625 40.234375 45.921875 \nQ 44.09375 48.828125 44.09375 54.296875 \nQ 44.09375 59.90625 40.109375 62.90625 \nQ 36.140625 65.921875 28.71875 65.921875 \nQ 24.65625 65.921875 20.015625 65.03125 \nQ 15.375 64.15625 9.8125 62.3125 \nL 9.8125 71.09375 \nQ 15.4375 72.65625 20.34375 73.4375 \nQ 25.25 74.21875 29.59375 74.21875 \nQ 40.828125 74.21875 47.359375 69.109375 \nQ 53.90625 64.015625 53.90625 55.328125 \nQ 53.90625 49.265625 50.4375 45.09375 \nQ 46.96875 40.921875 40.578125 39.3125 \nz\n\" id=\"DejaVuSans-51\"/>\n      </defs>\n      <g transform=\"translate(7.2 126.593785)scale(0.1 -0.1)\">\n       <use xlink:href=\"#DejaVuSans-51\"/>\n       <use x=\"63.623047\" xlink:href=\"#DejaVuSans-48\"/>\n      </g>\n     </g>\n    </g>\n    <g id=\"ytick_5\">\n     <g id=\"line2d_14\">\n      <g>\n       <use style=\"stroke:#000000;stroke-width:0.8;\" x=\"26.925\" xlink:href=\"#m37c635a6af\" y=\"88.846089\"/>\n      </g>\n     </g>\n     <g id=\"text_15\">\n      <!-- 40 -->\n      <g transform=\"translate(7.2 92.645308)scale(0.1 -0.1)\">\n       <use xlink:href=\"#DejaVuSans-52\"/>\n       <use x=\"63.623047\" xlink:href=\"#DejaVuSans-48\"/>\n      </g>\n     </g>\n    </g>\n    <g id=\"ytick_6\">\n     <g id=\"line2d_15\">\n      <g>\n       <use style=\"stroke:#000000;stroke-width:0.8;\" x=\"26.925\" xlink:href=\"#m37c635a6af\" y=\"54.897611\"/>\n      </g>\n     </g>\n     <g id=\"text_16\">\n      <!-- 50 -->\n      <defs>\n       <path d=\"M 10.796875 72.90625 \nL 49.515625 72.90625 \nL 49.515625 64.59375 \nL 19.828125 64.59375 \nL 19.828125 46.734375 \nQ 21.96875 47.46875 24.109375 47.828125 \nQ 26.265625 48.1875 28.421875 48.1875 \nQ 40.625 48.1875 47.75 41.5 \nQ 54.890625 34.8125 54.890625 23.390625 \nQ 54.890625 11.625 47.5625 5.09375 \nQ 40.234375 -1.421875 26.90625 -1.421875 \nQ 22.3125 -1.421875 17.546875 -0.640625 \nQ 12.796875 0.140625 7.71875 1.703125 \nL 7.71875 11.625 \nQ 12.109375 9.234375 16.796875 8.0625 \nQ 21.484375 6.890625 26.703125 6.890625 \nQ 35.15625 6.890625 40.078125 11.328125 \nQ 45.015625 15.765625 45.015625 23.390625 \nQ 45.015625 31 40.078125 35.4375 \nQ 35.15625 39.890625 26.703125 39.890625 \nQ 22.75 39.890625 18.8125 39.015625 \nQ 14.890625 38.140625 10.796875 36.28125 \nz\n\" id=\"DejaVuSans-53\"/>\n      </defs>\n      <g transform=\"translate(7.2 58.69683)scale(0.1 -0.1)\">\n       <use xlink:href=\"#DejaVuSans-53\"/>\n       <use x=\"63.623047\" xlink:href=\"#DejaVuSans-48\"/>\n      </g>\n     </g>\n    </g>\n    <g id=\"ytick_7\">\n     <g id=\"line2d_16\">\n      <g>\n       <use style=\"stroke:#000000;stroke-width:0.8;\" x=\"26.925\" xlink:href=\"#m37c635a6af\" y=\"20.949133\"/>\n      </g>\n     </g>\n     <g id=\"text_17\">\n      <!-- 60 -->\n      <g transform=\"translate(7.2 24.748352)scale(0.1 -0.1)\">\n       <use xlink:href=\"#DejaVuSans-54\"/>\n       <use x=\"63.623047\" xlink:href=\"#DejaVuSans-48\"/>\n      </g>\n     </g>\n    </g>\n   </g>\n   <g id=\"patch_6\">\n    <path d=\"M 26.925 224.64 \nL 26.925 7.2 \n\" style=\"fill:none;stroke:#000000;stroke-linecap:square;stroke-linejoin:miter;stroke-width:0.8;\"/>\n   </g>\n   <g id=\"patch_7\">\n    <path d=\"M 361.725 224.64 \nL 361.725 7.2 \n\" style=\"fill:none;stroke:#000000;stroke-linecap:square;stroke-linejoin:miter;stroke-width:0.8;\"/>\n   </g>\n   <g id=\"patch_8\">\n    <path d=\"M 26.925 224.64 \nL 361.725 224.64 \n\" style=\"fill:none;stroke:#000000;stroke-linecap:square;stroke-linejoin:miter;stroke-width:0.8;\"/>\n   </g>\n   <g id=\"patch_9\">\n    <path d=\"M 26.925 7.2 \nL 361.725 7.2 \n\" style=\"fill:none;stroke:#000000;stroke-linecap:square;stroke-linejoin:miter;stroke-width:0.8;\"/>\n   </g>\n   <g id=\"legend_1\">\n    <g id=\"patch_10\">\n     <path d=\"M 316.3625 59.234375 \nL 354.725 59.234375 \nQ 356.725 59.234375 356.725 57.234375 \nL 356.725 14.2 \nQ 356.725 12.2 354.725 12.2 \nL 316.3625 12.2 \nQ 314.3625 12.2 314.3625 14.2 \nL 314.3625 57.234375 \nQ 314.3625 59.234375 316.3625 59.234375 \nz\n\" style=\"fill:#ffffff;opacity:0.8;stroke:#cccccc;stroke-linejoin:miter;\"/>\n    </g>\n    <g id=\"patch_11\">\n     <path d=\"M 318.3625 23.798437 \nL 338.3625 23.798437 \nL 338.3625 16.798437 \nL 318.3625 16.798437 \nz\n\" style=\"fill:none;opacity:0.7;stroke:#1f77b4;stroke-linejoin:miter;stroke-width:3;\"/>\n    </g>\n    <g id=\"text_18\">\n     <!-- 0 -->\n     <g transform=\"translate(346.3625 23.798437)scale(0.1 -0.1)\">\n      <use xlink:href=\"#DejaVuSans-48\"/>\n     </g>\n    </g>\n    <g id=\"patch_12\">\n     <path d=\"M 318.3625 38.476562 \nL 338.3625 38.476562 \nL 338.3625 31.476562 \nL 318.3625 31.476562 \nz\n\" style=\"fill:none;opacity:0.7;stroke:#ff7f0e;stroke-linejoin:miter;stroke-width:3;\"/>\n    </g>\n    <g id=\"text_19\">\n     <!-- 1 -->\n     <g transform=\"translate(346.3625 38.476562)scale(0.1 -0.1)\">\n      <use xlink:href=\"#DejaVuSans-49\"/>\n     </g>\n    </g>\n    <g id=\"patch_13\">\n     <path d=\"M 318.3625 53.154687 \nL 338.3625 53.154687 \nL 338.3625 46.154687 \nL 318.3625 46.154687 \nz\n\" style=\"fill:none;opacity:0.7;stroke:#2ca02c;stroke-linejoin:miter;stroke-width:3;\"/>\n    </g>\n    <g id=\"text_20\">\n     <!-- 2 -->\n     <g transform=\"translate(346.3625 53.154687)scale(0.1 -0.1)\">\n      <use xlink:href=\"#DejaVuSans-50\"/>\n     </g>\n    </g>\n   </g>\n  </g>\n </g>\n <defs>\n  <clipPath id=\"p3a6bd880c9\">\n   <rect height=\"217.44\" width=\"334.8\" x=\"26.925\" y=\"7.2\"/>\n  </clipPath>\n </defs>\n</svg>\n",
      "text/plain": "<Figure size 432x288 with 1 Axes>"
     },
     "metadata": {
      "needs_background": "light"
     },
     "output_type": "display_data"
    }
   ],
   "source": [
    "f, ax = plt.subplots(1, 1)\n",
    "\n",
    "for i in [0, 1, 2]:\n",
    "    print('Регион {}:'.format(i))\n",
    "    sample = df_profit[df_profit['region_id'] == i]['profit']\n",
    "    print('    95% Доверительный интервал через квантили, млрд: {:.2f} - {:.2f}'.format(sample.quantile(0.025)/1000000000, sample.quantile(0.975)/1000000000))\n",
    "    \n",
    "    sns.distplot(df_profit[df_profit['region_id'] == i]['profit']/1000000000, bins=50, kde=False, label=i, ax=ax,\n",
    "                 hist_kws={\"histtype\": \"step\", \"linewidth\": 3, \"alpha\": 0.7})\n",
    "ax.legend()"
   ]
  },
  {
   "cell_type": "markdown",
   "metadata": {},
   "source": [
    "Судя по графику вершина распределения для Регион 0 правее чем вершины для Региона 1 и 2. Если я правильно понял, то это является подтверждением что в этом регионе меньше вероятность получить убытки"
   ]
  },
  {
   "cell_type": "markdown",
   "metadata": {},
   "source": [
    "<span style=\"color:Green\">\n",
    "\n",
    "**2019-12-19 DD**\n",
    "\n",
    "Ну, здесь что-то одни сплошные убытки от нашей модели в сравнении с предыдущим подходом. Может оно и так... Тогда, видимо, модель себя может только оправдать, если её применение даёт перекрывающую экономию где-то в другом месте (например, перекрывает стоимость добычи оценки запасов по прежнему методу).\n",
    "\n",
    "Последний вопрос: как проверить, что средняя величина ожидаемой прибыли/убытка по регионам различается или не различается. У вас это было в курсе (стат. гипотезы).\n",
    "\n",
    "</span>"
   ]
  },
  {
   "cell_type": "markdown",
   "metadata": {},
   "source": [
    "У нас есть три выборки и они относятся к трем разным генеральным совокупностям. Применим t-test. Нулевая гипотеза \"что разница средних случайна\" и возьмем уровень стат значимости 0.05"
   ]
  },
  {
   "cell_type": "markdown",
   "metadata": {},
   "source": [
    "<span style=\"color:Green\">\n",
    "\n",
    "**2019-12-21 DD**\n",
    "\n",
    "В принципе верна формулировка H0, но лучше бы её более явно сформулировать. \n",
    "\n",
    "Нулевая гипотеза обычно формулируется от принципа \"ничего интересного нет\", т.е., в данном случае, что-то вроде \"средние прибыли выборок равны\"\n",
    "\n",
    "</span>"
   ]
  },
  {
   "cell_type": "code",
   "execution_count": 33,
   "metadata": {},
   "outputs": [
    {
     "name": "stdout",
     "output_type": "stream",
     "text": "region_id        profit\n0           0.0  9.181241e+10\n1           0.0  9.355104e+10\n2           0.0  9.054550e+10\n3           0.0  9.316152e+10\n4           0.0  9.294311e+10\n...         ...           ...\n2995        2.0  9.256285e+10\n2996        2.0  9.386333e+10\n2997        2.0  9.512731e+10\n2998        2.0  9.529082e+10\n2999        2.0  9.246846e+10\n\n[3000 rows x 2 columns]\n"
    }
   ],
   "source": [
    "df_profit = pd.DataFrame(columns=['region_id', 'profit'])\n",
    "\n",
    "\n",
    "for i in [0, 1, 2]:\n",
    "    df, features, target = preparing(i, True)\n",
    "    features_train, features_valid, target_train, target_valid = train_test_split(features, target, \n",
    "                                                                                  train_size=0.75, \n",
    "                                                                                  random_state=RANDOM_STATE)\n",
    "    predicted_valid = lr(features_train, target_train, features_valid)\n",
    "    predicted_valid = pd.DataFrame(predicted_valid, columns=['product'], index=features_valid.index)\n",
    "    \n",
    "    RANDOM_STATE_BOOTSTRAP = RandomState(RANDOM_STATE)\n",
    "    \n",
    "    for j in range(0, BOOTSTRAP_COUNT):\n",
    "\n",
    "        predicted_valid_selected = predicted_valid.sample(RESEARCH_COUNT, random_state=RANDOM_STATE_BOOTSTRAP).sort_values(by='product', ascending=False)[:BOREHOLE_COUNT]\n",
    "        profit_sample = profit(predicted_valid_selected)\n",
    "        df_profit.loc[i*BOOTSTRAP_COUNT+j] = [i]+[profit_sample]\n",
    "        \n",
    "print(df_profit)"
   ]
  },
  {
   "cell_type": "code",
   "execution_count": 34,
   "metadata": {},
   "outputs": [
    {
     "name": "stdout",
     "output_type": "stream",
     "text": "Сравниваем Регион 0 и Регион 1\n    p-значение: 7.983053931241708e-33\n    Отвергаем нулевую гипотезу\nСравниваем Регион 0 и Регион 2\n    p-значение: 4.031005597505531e-69\n    Отвергаем нулевую гипотезу\nСравниваем Регион 1 и Регион 2\n    p-значение: 1.5369645354856744e-119\n    Отвергаем нулевую гипотезу\nСравниваем Регион 0 и Регион 0\n    p-значение: 1.0\n    Не получилось отвергнуть нулевую гипотезу\n"
    }
   ],
   "source": [
    "alpha = 0.05\n",
    "\n",
    "for i, j in [[0, 1], [0, 2], [1, 2], [0, 0]]:\n",
    "    print('Сравниваем Регион {} и Регион {}'.format(i, j))\n",
    "    results = st.ttest_ind(\n",
    "        df_profit.query('region_id == @i')['profit'], \n",
    "        df_profit.query('region_id == @j')['profit']\n",
    "    )\n",
    "\n",
    "    print('    p-значение:', results.pvalue)\n",
    "\n",
    "    if (results.pvalue < alpha):\n",
    "        print(\"    Отвергаем нулевую гипотезу\")\n",
    "    else:\n",
    "        print(\"    Не получилось отвергнуть нулевую гипотезу\")"
   ]
  },
  {
   "cell_type": "markdown",
   "metadata": {},
   "source": [
    "#### p-value везде сильно ниже порога. Средние для всех трёх распределений точно различаются. "
   ]
  },
  {
   "cell_type": "markdown",
   "metadata": {},
   "source": [
    "<span style=\"color:Green\">\n",
    "\n",
    "**2019-12-21 DD**\n",
    "\n",
    "Ок, спасибо за эту дополнительную проверку.\n",
    "\n",
    "</span>"
   ]
  },
  {
   "cell_type": "markdown",
   "metadata": {},
   "source": [
    "# Чек-лист готовности проекта"
   ]
  },
  {
   "cell_type": "markdown",
   "metadata": {},
   "source": [
    "Поставьте 'x' в выполненных пунктах. Далее нажмите Shift+Enter."
   ]
  },
  {
   "cell_type": "markdown",
   "metadata": {},
   "source": [
    "- [x]  Jupyter Notebook открыт\n",
    "- [x]  Весь код выполняется без ошибок\n",
    "- [x]  Ячейки с кодом расположены в порядке исполнения\n",
    "- [x]  Выполнен шаг 1: данные подготовлены\n",
    "- [x]  Выполнен шаг 2: модели обучены и проверены\n",
    "    - [x]  Данные корректно разбиты на обучающую и валидационную выборки\n",
    "    - [x]  Модели обучены, предсказания сделаны\n",
    "    - [x]  Предсказания и правильные ответы на валидационной выборке сохранены\n",
    "    - [x]  На экране напечатаны результаты\n",
    "    - [x]  Сделаны выводы\n",
    "- [x]  Выполнен шаг 3: проведена подготовка к расчёту прибыли\n",
    "    - [x]  Для всех ключевых значений созданы константы Python\n",
    "    - [x]  Посчитано минимальное среднее количество продукта в месторождениях региона, достаточное для разработки\n",
    "    - [x]  По предыдущему пункту сделаны выводы\n",
    "    - [x]  Написана функция расчёта прибыли\n",
    "- [x]  Выполнен шаг 4: посчитаны риски и прибыль\n",
    "    - [x]  Проведена процедура *Bootstrap*\n",
    "    - [x]  Все параметры бутстрепа соответствуют условию\n",
    "    - [x]  Найдены все нужные величины\n",
    "    - [x]  Предложен регион для разработки месторождения\n",
    "    - [x]  Выбор региона обоснован"
   ]
  },
  {
   "cell_type": "code",
   "execution_count": null,
   "metadata": {},
   "outputs": [],
   "source": []
  }
 ],
 "metadata": {
  "kernelspec": {
   "display_name": "Python 3",
   "language": "python",
   "name": "python3"
  },
  "language_info": {
   "codemirror_mode": {
    "name": "ipython",
    "version": 3
   },
   "file_extension": ".py",
   "mimetype": "text/x-python",
   "name": "python",
   "nbconvert_exporter": "python",
   "pygments_lexer": "ipython3",
   "version": "3.7.6-final"
  }
 },
 "nbformat": 4,
 "nbformat_minor": 2
}